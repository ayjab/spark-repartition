{
  "cells": [
    {
      "cell_type": "markdown",
      "metadata": {
        "id": "L_q0KahUGpLc"
      },
      "source": [
        "# Parallel processing with spark\n"
      ]
    },
    {
      "cell_type": "markdown",
      "metadata": {
        "id": "Fia9LM7tbxFs"
      },
      "source": [
        "The objectives of this notebook, firstly, to find a method for determining the related components of a graph in a very simple case. Secondly, to reproduce the same work on a partitioned graph (initially with 2 partitions), then with several partitions on real data, while parallelizing the processing using Spark tools. "
      ]
    },
    {
      "cell_type": "markdown",
      "metadata": {
        "id": "7v9EXMl8aPZC"
      },
      "source": [
        "#### Install Pyspark"
      ]
    },
    {
      "cell_type": "code",
      "execution_count": 3,
      "metadata": {
        "colab": {
          "base_uri": "https://localhost:8080/"
        },
        "id": "3zlwNHy1S8C2",
        "outputId": "2e285db7-0f32-4483-d79b-16b0b548e8c7"
      },
      "outputs": [
        {
          "name": "stdout",
          "output_type": "stream",
          "text": [
            "\u001b[2K     \u001b[90m━━━━━━━━━━━━━━━━━━━━━━━━━━━━━━━━━━━━━━━━\u001b[0m \u001b[32m316.9/316.9 MB\u001b[0m \u001b[31m2.8 MB/s\u001b[0m eta \u001b[36m0:00:00\u001b[0m\n",
            "\u001b[?25h  Preparing metadata (setup.py) ... \u001b[?25l\u001b[?25hdone\n",
            "  Building wheel for pyspark (setup.py) ... \u001b[?25l\u001b[?25hdone\n"
          ]
        }
      ],
      "source": [
        "!pip install -q pyspark\n",
        "!pip install -q findspark"
      ]
    },
    {
      "cell_type": "markdown",
      "metadata": {
        "id": "qsudP2gROCXA"
      },
      "source": [
        "#### Install igraph"
      ]
    },
    {
      "cell_type": "code",
      "execution_count": 4,
      "metadata": {
        "colab": {
          "base_uri": "https://localhost:8080/"
        },
        "id": "wi9PaG9aNrj5",
        "outputId": "9a2d8398-4b97-497a-f9be-87b454ee05a3"
      },
      "outputs": [
        {
          "name": "stdout",
          "output_type": "stream",
          "text": [
            "\u001b[2K     \u001b[90m━━━━━━━━━━━━━━━━━━━━━━━━━━━━━━━━━━━━━━━━\u001b[0m \u001b[32m3.3/3.3 MB\u001b[0m \u001b[31m10.3 MB/s\u001b[0m eta \u001b[36m0:00:00\u001b[0m\n",
            "\u001b[?25h"
          ]
        }
      ],
      "source": [
        "!pip install -q igraph"
      ]
    },
    {
      "cell_type": "code",
      "execution_count": 5,
      "metadata": {
        "id": "A8sWQYlbNq2a"
      },
      "outputs": [],
      "source": [
        "import numpy as np\n",
        "import igraph as ig\n",
        "import networkx as nx"
      ]
    },
    {
      "cell_type": "markdown",
      "metadata": {
        "id": "PnEmOd_zOUo0"
      },
      "source": [
        "#### Start a spark session"
      ]
    },
    {
      "cell_type": "code",
      "execution_count": 6,
      "metadata": {
        "colab": {
          "base_uri": "https://localhost:8080/"
        },
        "id": "W0ADH0J-VW7i",
        "outputId": "2ddf3827-90e0-4d3c-dd61-56f892cd4c63"
      },
      "outputs": [
        {
          "name": "stdout",
          "output_type": "stream",
          "text": [
            "pyspark directory is /usr/local/lib/python3.10/dist-packages/pyspark\n"
          ]
        }
      ],
      "source": [
        "import os\n",
        "import glob\n",
        "\n",
        "pyspark_dir = glob.glob('/usr/local/lib/python*/dist-packages/pyspark')[0]\n",
        "print(\"pyspark directory is\", pyspark_dir)\n",
        "os.environ[\"SPARK_HOME\"] = pyspark_dir\n",
        "os.environ[\"JAVA_HOME\"] = \"/usr\""
      ]
    },
    {
      "cell_type": "code",
      "execution_count": 7,
      "metadata": {
        "colab": {
          "base_uri": "https://localhost:8080/"
        },
        "id": "Q_WxQZB7TaUC",
        "outputId": "86a696c5-da59-4eb9-8fd9-a7dc0eff1a69"
      },
      "outputs": [
        {
          "name": "stdout",
          "output_type": "stream",
          "text": [
            "session démarrée, son id est  local-1702651105309\n"
          ]
        }
      ],
      "source": [
        "import findspark\n",
        "from pyspark.sql import SparkSession\n",
        "from pyspark import SparkConf\n",
        "\n",
        "from pyspark.sql import *\n",
        "\n",
        "import pyspark.sql.functions as f\n",
        "from pyspark.sql.functions import col\n",
        "\n",
        "from pyspark.sql.types import *\n",
        "from datetime import *\n",
        "\n",
        "import time\n",
        "\n",
        "findspark.init()\n",
        "\n",
        "# --------------------------\n",
        "def demarrer_spark():\n",
        "  local = \"local[*]\"\n",
        "  appName = \"TP\"\n",
        "  configLocale = SparkConf().setAppName(appName).setMaster(local).\\\n",
        "  set(\"spark.executor.memory\", \"4G\").\\\n",
        "  set(\"spark.driver.memory\",\"4G\").\\\n",
        "  set(\"spark.sql.catalogImplementation\",\"in-memory\")\n",
        "\n",
        "  spark = SparkSession.builder.config(conf = configLocale).getOrCreate()\n",
        "  sc = spark.sparkContext\n",
        "  sc.setLogLevel(\"ERROR\")\n",
        "\n",
        "  spark.conf.set(\"spark.sql.autoBroadcastJoinThreshold\",\"-1\")\n",
        "\n",
        "  spark.conf.set(\"spark.sql.shuffle.partitions\",\"4\")\n",
        "  print(\"session démarrée, son id est \", sc.applicationId)\n",
        "  return spark\n",
        "spark = demarrer_spark()\n",
        "\n",
        "spark.conf.set(\"spark.sql.shuffle.partitions\", \"1\")"
      ]
    },
    {
      "cell_type": "code",
      "execution_count": 8,
      "metadata": {
        "colab": {
          "base_uri": "https://localhost:8080/"
        },
        "id": "fj9pUgrmGpLe",
        "outputId": "91ca8201-5afa-4686-a864-60b92acd0ded"
      },
      "outputs": [
        {
          "name": "stdout",
          "output_type": "stream",
          "text": [
            "Nombre de partitions utilisées :  4\n"
          ]
        }
      ],
      "source": [
        "spark.conf.set(\"spark.sql.shuffle.partitions\", \"4\")\n",
        "print(\"Nombre de partitions utilisées : \", spark.conf.get(\"spark.sql.shuffle.partitions\"))"
      ]
    },
    {
      "cell_type": "code",
      "execution_count": 9,
      "metadata": {
        "id": "FFu44fW7LRgC"
      },
      "outputs": [],
      "source": [
        "import pandas as pd\n",
        "from google.colab import data_table\n",
        "\n",
        "def display(df, n=100):\n",
        "  return data_table.DataTable(df.limit(n).toPandas(), include_index=False, num_rows_per_page=10)\n",
        "\n",
        "def display2(df, n=20):\n",
        "  pd.set_option('max_columns', None)\n",
        "  pd.set_option('max_colwidth', None)\n",
        "  return df.limit(n).toPandas()"
      ]
    },
    {
      "cell_type": "markdown",
      "metadata": {
        "id": "I0-keRafUD5N"
      },
      "source": [
        "#### Set the **%%sql** tag to make it easier to write SQL queries in a cell"
      ]
    },
    {
      "cell_type": "code",
      "execution_count": 10,
      "metadata": {
        "id": "eJ7aiRS-gaVF"
      },
      "outputs": [],
      "source": [
        "from IPython.core.magic import (register_line_magic, register_cell_magic, register_line_cell_magic)\n",
        "\n",
        "def removeComments(query):\n",
        "  result = \"\"\n",
        "  for line in query.split('\\n'):\n",
        "    if not(line.strip().startswith(\"--\")):\n",
        "      result += line + \"\\n\"\n",
        "  return result\n",
        "\n",
        "@register_line_cell_magic\n",
        "def sql(line, cell=None):\n",
        "    \"To run a sql query. Use:  %%sql\"\n",
        "    val = cell if cell is not None else line\n",
        "    tabRequetes = removeComments(val).split(\";\")\n",
        "    derniere = None\n",
        "    est_requete = False\n",
        "    for r in tabRequetes:\n",
        "        r = r.strip()\n",
        "        if len(r) > 2:\n",
        "          derniere = spark.sql(r)\n",
        "          est_requete = ( r.lower().startswith('select')or r.lower().startswith('with'))\n",
        "    if(est_requete):\n",
        "      return display(derniere)\n",
        "    else:\n",
        "      return print('ok')"
      ]
    },
    {
      "cell_type": "markdown",
      "metadata": {
        "id": "sIeeBKU2GpLc"
      },
      "source": [
        "## Data"
      ]
    },
    {
      "cell_type": "markdown",
      "metadata": {
        "id": "NqVvf8iLGpLf"
      },
      "source": [
        "### URL to access to the data"
      ]
    },
    {
      "cell_type": "code",
      "execution_count": 11,
      "metadata": {
        "colab": {
          "base_uri": "https://localhost:8080/"
        },
        "id": "8g6iWNvES1hW",
        "outputId": "bc3dc422-05cd-4897-e3e9-c361622bdbac"
      },
      "outputs": [
        {
          "name": "stdout",
          "output_type": "stream",
          "text": [
            "URL du dossier contenant les datasets  https://nuage.lip6.fr/s/H3bpyRGgnCq2NR4\n"
          ]
        }
      ],
      "source": [
        "PUBLIC_DATASET_URL = \"https://nuage.lip6.fr/s/H3bpyRGgnCq2NR4\"\n",
        "PUBLIC_DATASET=PUBLIC_DATASET_URL + \"/download?path=\"\n",
        "\n",
        "print(\"URL du dossier contenant les datasets \", PUBLIC_DATASET_URL)"
      ]
    },
    {
      "cell_type": "code",
      "execution_count": 12,
      "metadata": {
        "colab": {
          "base_uri": "https://localhost:8080/"
        },
        "id": "b9rEcZrhM5mz",
        "outputId": "731d052f-3d96-4d8f-b611-e21f42d977df"
      },
      "outputs": [
        {
          "data": {
            "text/plain": [
              "[]"
            ]
          },
          "execution_count": 12,
          "metadata": {},
          "output_type": "execute_result"
        }
      ],
      "source": [
        "local_dir = \"/local/data\"\n",
        "os.makedirs(local_dir, exist_ok=True)\n",
        "os.listdir(local_dir)"
      ]
    },
    {
      "cell_type": "code",
      "execution_count": 13,
      "metadata": {
        "colab": {
          "base_uri": "https://localhost:8080/"
        },
        "id": "4brhn88fNGEb",
        "outputId": "d53851ba-f3b4-4cc3-bd0d-036a10284956"
      },
      "outputs": [
        {
          "name": "stdout",
          "output_type": "stream",
          "text": [
            "downloading from URL:  https://nuage.lip6.fr/s/H3bpyRGgnCq2NR4/download?path=BDLE_proteine//BDLE_10K.zip save in : /local/data/BDLE_10K.zip\n",
            "downloading from URL:  https://nuage.lip6.fr/s/H3bpyRGgnCq2NR4/download?path=BDLE_proteine//BDLE_1M.zip save in : /local/data/BDLE_1M.zip\n",
            "Archive:  BDLE_10K.zip\n",
            " extracting: BDLE_10K/._SUCCESS.crc  \n",
            " extracting: BDLE_10K/.part-00000-a28884c2-56d1-4493-a72b-1dcebd71d1e0-c000.snappy.parquet.crc  \n",
            " extracting: BDLE_10K/.part-00001-a28884c2-56d1-4493-a72b-1dcebd71d1e0-c000.snappy.parquet.crc  \n",
            " extracting: BDLE_10K/.part-00002-a28884c2-56d1-4493-a72b-1dcebd71d1e0-c000.snappy.parquet.crc  \n",
            " extracting: BDLE_10K/.part-00003-a28884c2-56d1-4493-a72b-1dcebd71d1e0-c000.snappy.parquet.crc  \n",
            " extracting: BDLE_10K/_SUCCESS       \n",
            "  inflating: BDLE_10K/part-00000-a28884c2-56d1-4493-a72b-1dcebd71d1e0-c000.snappy.parquet  \n",
            "  inflating: BDLE_10K/part-00001-a28884c2-56d1-4493-a72b-1dcebd71d1e0-c000.snappy.parquet  \n",
            "  inflating: BDLE_10K/part-00002-a28884c2-56d1-4493-a72b-1dcebd71d1e0-c000.snappy.parquet  \n",
            "  inflating: BDLE_10K/part-00003-a28884c2-56d1-4493-a72b-1dcebd71d1e0-c000.snappy.parquet  \n",
            "Archive:  BDLE_1M.zip\n",
            " extracting: BDLE_1M/._SUCCESS.crc   \n",
            "  inflating: BDLE_1M/.part-00000-77ff37cf-d54f-443e-875a-d3e24ac56452-c000.snappy.parquet.crc  \n",
            "  inflating: BDLE_1M/.part-00001-77ff37cf-d54f-443e-875a-d3e24ac56452-c000.snappy.parquet.crc  \n",
            "  inflating: BDLE_1M/.part-00002-77ff37cf-d54f-443e-875a-d3e24ac56452-c000.snappy.parquet.crc  \n",
            "  inflating: BDLE_1M/.part-00003-77ff37cf-d54f-443e-875a-d3e24ac56452-c000.snappy.parquet.crc  \n",
            "  inflating: BDLE_1M/.part-00004-77ff37cf-d54f-443e-875a-d3e24ac56452-c000.snappy.parquet.crc  \n",
            "  inflating: BDLE_1M/.part-00005-77ff37cf-d54f-443e-875a-d3e24ac56452-c000.snappy.parquet.crc  \n",
            "  inflating: BDLE_1M/.part-00006-77ff37cf-d54f-443e-875a-d3e24ac56452-c000.snappy.parquet.crc  \n",
            "  inflating: BDLE_1M/.part-00007-77ff37cf-d54f-443e-875a-d3e24ac56452-c000.snappy.parquet.crc  \n",
            " extracting: BDLE_1M/_SUCCESS        \n",
            "  inflating: BDLE_1M/part-00000-77ff37cf-d54f-443e-875a-d3e24ac56452-c000.snappy.parquet  \n",
            "  inflating: BDLE_1M/part-00001-77ff37cf-d54f-443e-875a-d3e24ac56452-c000.snappy.parquet  \n",
            "  inflating: BDLE_1M/part-00002-77ff37cf-d54f-443e-875a-d3e24ac56452-c000.snappy.parquet  \n",
            "  inflating: BDLE_1M/part-00003-77ff37cf-d54f-443e-875a-d3e24ac56452-c000.snappy.parquet  \n",
            "  inflating: BDLE_1M/part-00004-77ff37cf-d54f-443e-875a-d3e24ac56452-c000.snappy.parquet  \n",
            "  inflating: BDLE_1M/part-00005-77ff37cf-d54f-443e-875a-d3e24ac56452-c000.snappy.parquet  \n",
            "  inflating: BDLE_1M/part-00006-77ff37cf-d54f-443e-875a-d3e24ac56452-c000.snappy.parquet  \n",
            "  inflating: BDLE_1M/part-00007-77ff37cf-d54f-443e-875a-d3e24ac56452-c000.snappy.parquet  \n"
          ]
        },
        {
          "data": {
            "text/plain": [
              "['BDLE_1M', 'BDLE_10K']"
            ]
          },
          "execution_count": 13,
          "metadata": {},
          "output_type": "execute_result"
        }
      ],
      "source": [
        "from urllib import request\n",
        "\n",
        "# download dataset if not already donwloaded\n",
        "def download_file(web_dir, local_dir, file):\n",
        "  local_file = local_dir + \"/\" + file\n",
        "  web_file = web_dir + \"/\" + file\n",
        "  if(os.path.isfile(local_file)):\n",
        "    print(file, \"is already stored\")\n",
        "  else:\n",
        "    print(\"downloading from URL: \", web_file , \"save in : \" + local_file)\n",
        "    request.urlretrieve(web_file , local_file)\n",
        "\n",
        "\n",
        "# données : graphe de similarité entre protéines\n",
        "\n",
        "# vider le dossier\n",
        "!cd /local/data && rm -fr  BDLE*\n",
        "\n",
        "web_dir = PUBLIC_DATASET + \"BDLE_proteine/\"\n",
        "download_file(web_dir, local_dir, \"BDLE_10K.zip\")\n",
        "download_file(web_dir, local_dir, \"BDLE_1M.zip\")\n",
        "\n",
        "!cd /local/data && unzip BDLE_10K.zip\n",
        "!cd /local/data && unzip BDLE_1M.zip\n",
        "!cd /local/data && rm -f  *.zip\n",
        "\n",
        "os.listdir(local_dir)\n"
      ]
    },
    {
      "cell_type": "markdown",
      "metadata": {
        "id": "CXT02zdbDx1s"
      },
      "source": [
        "## Centralized component calculation\n",
        "\n",
        "#### We begin by studying the centralized case.\n",
        "#### Consider the table G1(s, d) containing the arcs of a graph:"
      ]
    },
    {
      "cell_type": "code",
      "execution_count": 12,
      "metadata": {
        "colab": {
          "base_uri": "https://localhost:8080/",
          "height": 361
        },
        "id": "UrXP0ipjPqXX",
        "outputId": "ae10b455-cf68-4db5-c545-b0abf0cfb158"
      },
      "outputs": [
        {
          "name": "stdout",
          "output_type": "stream",
          "text": [
            "root\n",
            " |-- s: string (nullable = true)\n",
            " |-- d: string (nullable = true)\n",
            "\n"
          ]
        },
        {
          "data": {
            "application/vnd.google.colaboratory.module+javascript": "\n      import \"https://ssl.gstatic.com/colaboratory/data_table/881c4a0d49046431/data_table.js\";\n\n      const table = window.createDataTable({\n        data: [[\"n1\",\n\"n2\"],\n [\"n2\",\n\"n3\"],\n [\"n3\",\n\"n1\"],\n [\"n4\",\n\"n5\"],\n [\"n4\",\n\"n6\"],\n [\"n4\",\n\"n8\"],\n [\"n7\",\n\"n5\"],\n [\"n7\",\n\"n6\"]],\n        columns: [[\"string\", \"s\"], [\"string\", \"d\"]],\n        columnOptions: [],\n        rowsPerPage: 10,\n        helpUrl: \"https://colab.research.google.com/notebooks/data_table.ipynb\",\n        suppressOutputScrolling: true,\n        minimumWidth: undefined,\n      });\n\n      function appendQuickchartButton(parentElement) {\n        let quickchartButtonContainerElement = document.createElement('div');\n        quickchartButtonContainerElement.innerHTML = `\n<div id=\"df-181e4d50-f5ad-4d1d-9a40-b83fb2004e88\">\n  <button class=\"colab-df-quickchart\" onclick=\"quickchart('df-181e4d50-f5ad-4d1d-9a40-b83fb2004e88')\"\n            title=\"Suggest charts\"\n            style=\"display:none;\">\n    \n<svg xmlns=\"http://www.w3.org/2000/svg\" height=\"24px\"viewBox=\"0 0 24 24\"\n     width=\"24px\">\n    <g>\n        <path d=\"M19 3H5c-1.1 0-2 .9-2 2v14c0 1.1.9 2 2 2h14c1.1 0 2-.9 2-2V5c0-1.1-.9-2-2-2zM9 17H7v-7h2v7zm4 0h-2V7h2v10zm4 0h-2v-4h2v4z\"/>\n    </g>\n</svg>\n  </button>\n  \n<style>\n  .colab-df-quickchart {\n      --bg-color: #E8F0FE;\n      --fill-color: #1967D2;\n      --hover-bg-color: #E2EBFA;\n      --hover-fill-color: #174EA6;\n      --disabled-fill-color: #AAA;\n      --disabled-bg-color: #DDD;\n  }\n\n  [theme=dark] .colab-df-quickchart {\n      --bg-color: #3B4455;\n      --fill-color: #D2E3FC;\n      --hover-bg-color: #434B5C;\n      --hover-fill-color: #FFFFFF;\n      --disabled-bg-color: #3B4455;\n      --disabled-fill-color: #666;\n  }\n\n  .colab-df-quickchart {\n    background-color: var(--bg-color);\n    border: none;\n    border-radius: 50%;\n    cursor: pointer;\n    display: none;\n    fill: var(--fill-color);\n    height: 32px;\n    padding: 0;\n    width: 32px;\n  }\n\n  .colab-df-quickchart:hover {\n    background-color: var(--hover-bg-color);\n    box-shadow: 0 1px 2px rgba(60, 64, 67, 0.3), 0 1px 3px 1px rgba(60, 64, 67, 0.15);\n    fill: var(--button-hover-fill-color);\n  }\n\n  .colab-df-quickchart-complete:disabled,\n  .colab-df-quickchart-complete:disabled:hover {\n    background-color: var(--disabled-bg-color);\n    fill: var(--disabled-fill-color);\n    box-shadow: none;\n  }\n\n  .colab-df-spinner {\n    border: 2px solid var(--fill-color);\n    border-color: transparent;\n    border-bottom-color: var(--fill-color);\n    animation:\n      spin 1s steps(1) infinite;\n  }\n\n  @keyframes spin {\n    0% {\n      border-color: transparent;\n      border-bottom-color: var(--fill-color);\n      border-left-color: var(--fill-color);\n    }\n    20% {\n      border-color: transparent;\n      border-left-color: var(--fill-color);\n      border-top-color: var(--fill-color);\n    }\n    30% {\n      border-color: transparent;\n      border-left-color: var(--fill-color);\n      border-top-color: var(--fill-color);\n      border-right-color: var(--fill-color);\n    }\n    40% {\n      border-color: transparent;\n      border-right-color: var(--fill-color);\n      border-top-color: var(--fill-color);\n    }\n    60% {\n      border-color: transparent;\n      border-right-color: var(--fill-color);\n    }\n    80% {\n      border-color: transparent;\n      border-right-color: var(--fill-color);\n      border-bottom-color: var(--fill-color);\n    }\n    90% {\n      border-color: transparent;\n      border-bottom-color: var(--fill-color);\n    }\n  }\n</style>\n\n  <script>\n    async function quickchart(key) {\n      const quickchartButtonEl =\n        document.querySelector('#' + key + ' button');\n      quickchartButtonEl.disabled = true;  // To prevent multiple clicks.\n      quickchartButtonEl.classList.add('colab-df-spinner');\n      try {\n        const charts = await google.colab.kernel.invokeFunction(\n            'suggestCharts', [key], {});\n      } catch (error) {\n        console.error('Error during call to suggestCharts:', error);\n      }\n      quickchartButtonEl.classList.remove('colab-df-spinner');\n      quickchartButtonEl.classList.add('colab-df-quickchart-complete');\n    }\n    (() => {\n      let quickchartButtonEl =\n        document.querySelector('#df-181e4d50-f5ad-4d1d-9a40-b83fb2004e88 button');\n      quickchartButtonEl.style.display =\n        google.colab.kernel.accessAllowed ? 'block' : 'none';\n    })();\n  </script>\n</div>`;\n        parentElement.appendChild(quickchartButtonContainerElement);\n      }\n\n      appendQuickchartButton(table);\n    ",
            "text/html": [
              "<div>\n",
              "<style scoped>\n",
              "    .dataframe tbody tr th:only-of-type {\n",
              "        vertical-align: middle;\n",
              "    }\n",
              "\n",
              "    .dataframe tbody tr th {\n",
              "        vertical-align: top;\n",
              "    }\n",
              "\n",
              "    .dataframe thead th {\n",
              "        text-align: right;\n",
              "    }\n",
              "</style>\n",
              "<table border=\"1\" class=\"dataframe\">\n",
              "  <thead>\n",
              "    <tr style=\"text-align: right;\">\n",
              "      <th></th>\n",
              "      <th>s</th>\n",
              "      <th>d</th>\n",
              "    </tr>\n",
              "  </thead>\n",
              "  <tbody>\n",
              "    <tr>\n",
              "      <th>0</th>\n",
              "      <td>n1</td>\n",
              "      <td>n2</td>\n",
              "    </tr>\n",
              "    <tr>\n",
              "      <th>1</th>\n",
              "      <td>n2</td>\n",
              "      <td>n3</td>\n",
              "    </tr>\n",
              "    <tr>\n",
              "      <th>2</th>\n",
              "      <td>n3</td>\n",
              "      <td>n1</td>\n",
              "    </tr>\n",
              "    <tr>\n",
              "      <th>3</th>\n",
              "      <td>n4</td>\n",
              "      <td>n5</td>\n",
              "    </tr>\n",
              "    <tr>\n",
              "      <th>4</th>\n",
              "      <td>n4</td>\n",
              "      <td>n6</td>\n",
              "    </tr>\n",
              "    <tr>\n",
              "      <th>5</th>\n",
              "      <td>n4</td>\n",
              "      <td>n8</td>\n",
              "    </tr>\n",
              "    <tr>\n",
              "      <th>6</th>\n",
              "      <td>n7</td>\n",
              "      <td>n5</td>\n",
              "    </tr>\n",
              "    <tr>\n",
              "      <th>7</th>\n",
              "      <td>n7</td>\n",
              "      <td>n6</td>\n",
              "    </tr>\n",
              "  </tbody>\n",
              "</table>\n",
              "</div>"
            ],
            "text/plain": [
              "<google.colab.data_table.DataTable object>"
            ]
          },
          "execution_count": 12,
          "metadata": {},
          "output_type": "execute_result"
        }
      ],
      "source": [
        "data1 = \"\"\"\n",
        "n1 n2\n",
        "n2 n3\n",
        "n3 n1\n",
        "n4 n5\n",
        "n4 n6\n",
        "n4 n8\n",
        "n7 n5\n",
        "n7 n6\n",
        "\"\"\"\n",
        "\n",
        "tab = [line.split(\" \") for line in data1.split('\\n') if len(line)>0]\n",
        "tab = [(s, d) for (s, d) in tab]\n",
        "G1 = spark.createDataFrame(tab, [\"s\", \"d\"])\n",
        "G1.printSchema()\n",
        "display(G1)"
      ]
    },
    {
      "cell_type": "markdown",
      "metadata": {
        "id": "ARNGo87H-jPT"
      },
      "source": [
        "#### Calculate graph components"
      ]
    },
    {
      "cell_type": "code",
      "execution_count": 13,
      "metadata": {
        "colab": {
          "base_uri": "https://localhost:8080/"
        },
        "id": "PnP6Ige0PXjI",
        "outputId": "5f862a00-2aaf-4b46-fca4-0db60310cd97"
      },
      "outputs": [
        {
          "name": "stdout",
          "output_type": "stream",
          "text": [
            "duree : 0.8 s\n",
            "[('n1', 0), ('n2', 0), ('n3', 0), ('n4', 1), ('n7', 1), ('n5', 1), ('n6', 1), ('n8', 1)]\n"
          ]
        }
      ],
      "source": [
        "\n",
        "def get_composantes(g):\n",
        "\n",
        "  # importer le graphe dans l'application depuis spark\n",
        "  g_pandas = g.toPandas()\n",
        "\n",
        "  g_ig = ig.Graph(directed=False)\n",
        "\n",
        "  nlist = pd.concat([g_pandas['s'], g_pandas['d']]).unique()\n",
        "  elist = g_pandas.to_records(index=False).tolist()\n",
        "\n",
        "  g_ig.add_vertices(nlist)\n",
        "  g_ig.add_edges(elist)\n",
        "\n",
        "  components = g_ig.connected_components(mode='weak')\n",
        "\n",
        "  # Associer le nom du noeud n avec sa composante comp\n",
        "  # On obtient la relation (n, comp)\n",
        "  vertex_comp = zip(g_ig.vs()[\"name\"], components.membership)\n",
        "  return [(n,comp) for n,comp in vertex_comp]\n",
        "\n",
        "\n",
        "# durée pour calculer les composantes\n",
        "t1 = time.time()\n",
        "composantes_list = get_composantes(G1)\n",
        "print (\"duree : {:.1f} s\".format(time.time()-t1))\n",
        "\n",
        "print(composantes_list)"
      ]
    },
    {
      "cell_type": "code",
      "execution_count": 14,
      "metadata": {
        "colab": {
          "base_uri": "https://localhost:8080/",
          "height": 361
        },
        "id": "tIsuvqha93h7",
        "outputId": "c9687da0-181a-4f80-924e-e41e5de3b1fc"
      },
      "outputs": [
        {
          "name": "stdout",
          "output_type": "stream",
          "text": [
            "root\n",
            " |-- n: string (nullable = true)\n",
            " |-- comp: integer (nullable = true)\n",
            "\n"
          ]
        },
        {
          "data": {
            "application/vnd.google.colaboratory.module+javascript": "\n      import \"https://ssl.gstatic.com/colaboratory/data_table/881c4a0d49046431/data_table.js\";\n\n      const table = window.createDataTable({\n        data: [[\"n1\",\n{\n            'v': 0,\n            'f': \"0\",\n        }],\n [\"n2\",\n{\n            'v': 0,\n            'f': \"0\",\n        }],\n [\"n3\",\n{\n            'v': 0,\n            'f': \"0\",\n        }],\n [\"n4\",\n{\n            'v': 1,\n            'f': \"1\",\n        }],\n [\"n7\",\n{\n            'v': 1,\n            'f': \"1\",\n        }],\n [\"n5\",\n{\n            'v': 1,\n            'f': \"1\",\n        }],\n [\"n6\",\n{\n            'v': 1,\n            'f': \"1\",\n        }],\n [\"n8\",\n{\n            'v': 1,\n            'f': \"1\",\n        }]],\n        columns: [[\"string\", \"n\"], [\"number\", \"comp\"]],\n        columnOptions: [],\n        rowsPerPage: 10,\n        helpUrl: \"https://colab.research.google.com/notebooks/data_table.ipynb\",\n        suppressOutputScrolling: true,\n        minimumWidth: undefined,\n      });\n\n      function appendQuickchartButton(parentElement) {\n        let quickchartButtonContainerElement = document.createElement('div');\n        quickchartButtonContainerElement.innerHTML = `\n<div id=\"df-ee1ae6be-2760-4cae-8d2f-5f593f0a257e\">\n  <button class=\"colab-df-quickchart\" onclick=\"quickchart('df-ee1ae6be-2760-4cae-8d2f-5f593f0a257e')\"\n            title=\"Suggest charts\"\n            style=\"display:none;\">\n    \n<svg xmlns=\"http://www.w3.org/2000/svg\" height=\"24px\"viewBox=\"0 0 24 24\"\n     width=\"24px\">\n    <g>\n        <path d=\"M19 3H5c-1.1 0-2 .9-2 2v14c0 1.1.9 2 2 2h14c1.1 0 2-.9 2-2V5c0-1.1-.9-2-2-2zM9 17H7v-7h2v7zm4 0h-2V7h2v10zm4 0h-2v-4h2v4z\"/>\n    </g>\n</svg>\n  </button>\n  \n<style>\n  .colab-df-quickchart {\n      --bg-color: #E8F0FE;\n      --fill-color: #1967D2;\n      --hover-bg-color: #E2EBFA;\n      --hover-fill-color: #174EA6;\n      --disabled-fill-color: #AAA;\n      --disabled-bg-color: #DDD;\n  }\n\n  [theme=dark] .colab-df-quickchart {\n      --bg-color: #3B4455;\n      --fill-color: #D2E3FC;\n      --hover-bg-color: #434B5C;\n      --hover-fill-color: #FFFFFF;\n      --disabled-bg-color: #3B4455;\n      --disabled-fill-color: #666;\n  }\n\n  .colab-df-quickchart {\n    background-color: var(--bg-color);\n    border: none;\n    border-radius: 50%;\n    cursor: pointer;\n    display: none;\n    fill: var(--fill-color);\n    height: 32px;\n    padding: 0;\n    width: 32px;\n  }\n\n  .colab-df-quickchart:hover {\n    background-color: var(--hover-bg-color);\n    box-shadow: 0 1px 2px rgba(60, 64, 67, 0.3), 0 1px 3px 1px rgba(60, 64, 67, 0.15);\n    fill: var(--button-hover-fill-color);\n  }\n\n  .colab-df-quickchart-complete:disabled,\n  .colab-df-quickchart-complete:disabled:hover {\n    background-color: var(--disabled-bg-color);\n    fill: var(--disabled-fill-color);\n    box-shadow: none;\n  }\n\n  .colab-df-spinner {\n    border: 2px solid var(--fill-color);\n    border-color: transparent;\n    border-bottom-color: var(--fill-color);\n    animation:\n      spin 1s steps(1) infinite;\n  }\n\n  @keyframes spin {\n    0% {\n      border-color: transparent;\n      border-bottom-color: var(--fill-color);\n      border-left-color: var(--fill-color);\n    }\n    20% {\n      border-color: transparent;\n      border-left-color: var(--fill-color);\n      border-top-color: var(--fill-color);\n    }\n    30% {\n      border-color: transparent;\n      border-left-color: var(--fill-color);\n      border-top-color: var(--fill-color);\n      border-right-color: var(--fill-color);\n    }\n    40% {\n      border-color: transparent;\n      border-right-color: var(--fill-color);\n      border-top-color: var(--fill-color);\n    }\n    60% {\n      border-color: transparent;\n      border-right-color: var(--fill-color);\n    }\n    80% {\n      border-color: transparent;\n      border-right-color: var(--fill-color);\n      border-bottom-color: var(--fill-color);\n    }\n    90% {\n      border-color: transparent;\n      border-bottom-color: var(--fill-color);\n    }\n  }\n</style>\n\n  <script>\n    async function quickchart(key) {\n      const quickchartButtonEl =\n        document.querySelector('#' + key + ' button');\n      quickchartButtonEl.disabled = true;  // To prevent multiple clicks.\n      quickchartButtonEl.classList.add('colab-df-spinner');\n      try {\n        const charts = await google.colab.kernel.invokeFunction(\n            'suggestCharts', [key], {});\n      } catch (error) {\n        console.error('Error during call to suggestCharts:', error);\n      }\n      quickchartButtonEl.classList.remove('colab-df-spinner');\n      quickchartButtonEl.classList.add('colab-df-quickchart-complete');\n    }\n    (() => {\n      let quickchartButtonEl =\n        document.querySelector('#df-ee1ae6be-2760-4cae-8d2f-5f593f0a257e button');\n      quickchartButtonEl.style.display =\n        google.colab.kernel.accessAllowed ? 'block' : 'none';\n    })();\n  </script>\n</div>`;\n        parentElement.appendChild(quickchartButtonContainerElement);\n      }\n\n      appendQuickchartButton(table);\n    ",
            "text/html": [
              "<div>\n",
              "<style scoped>\n",
              "    .dataframe tbody tr th:only-of-type {\n",
              "        vertical-align: middle;\n",
              "    }\n",
              "\n",
              "    .dataframe tbody tr th {\n",
              "        vertical-align: top;\n",
              "    }\n",
              "\n",
              "    .dataframe thead th {\n",
              "        text-align: right;\n",
              "    }\n",
              "</style>\n",
              "<table border=\"1\" class=\"dataframe\">\n",
              "  <thead>\n",
              "    <tr style=\"text-align: right;\">\n",
              "      <th></th>\n",
              "      <th>n</th>\n",
              "      <th>comp</th>\n",
              "    </tr>\n",
              "  </thead>\n",
              "  <tbody>\n",
              "    <tr>\n",
              "      <th>0</th>\n",
              "      <td>n1</td>\n",
              "      <td>0</td>\n",
              "    </tr>\n",
              "    <tr>\n",
              "      <th>1</th>\n",
              "      <td>n2</td>\n",
              "      <td>0</td>\n",
              "    </tr>\n",
              "    <tr>\n",
              "      <th>2</th>\n",
              "      <td>n3</td>\n",
              "      <td>0</td>\n",
              "    </tr>\n",
              "    <tr>\n",
              "      <th>3</th>\n",
              "      <td>n4</td>\n",
              "      <td>1</td>\n",
              "    </tr>\n",
              "    <tr>\n",
              "      <th>4</th>\n",
              "      <td>n7</td>\n",
              "      <td>1</td>\n",
              "    </tr>\n",
              "    <tr>\n",
              "      <th>5</th>\n",
              "      <td>n5</td>\n",
              "      <td>1</td>\n",
              "    </tr>\n",
              "    <tr>\n",
              "      <th>6</th>\n",
              "      <td>n6</td>\n",
              "      <td>1</td>\n",
              "    </tr>\n",
              "    <tr>\n",
              "      <th>7</th>\n",
              "      <td>n8</td>\n",
              "      <td>1</td>\n",
              "    </tr>\n",
              "  </tbody>\n",
              "</table>\n",
              "</div>"
            ],
            "text/plain": [
              "<google.colab.data_table.DataTable object>"
            ]
          },
          "execution_count": 14,
          "metadata": {},
          "output_type": "execute_result"
        }
      ],
      "source": [
        "composantes = spark.createDataFrame(composantes_list, schema=\"n string, comp int\")\n",
        "composantes.printSchema()\n",
        "display(composantes)"
      ]
    },
    {
      "cell_type": "markdown",
      "metadata": {
        "id": "e7xt7wi-Cqwm"
      },
      "source": [
        "#### Display graph"
      ]
    },
    {
      "cell_type": "code",
      "execution_count": 15,
      "metadata": {
        "colab": {
          "base_uri": "https://localhost:8080/",
          "height": 516
        },
        "id": "V_R4_qe5C_lJ",
        "outputId": "5fb6339c-06e2-47fb-ed5e-a66898dffbad"
      },
      "outputs": [
        {
          "data": {
            "image/png": "[encoded data removed]",
            "text/plain": [
              "<Figure size 640x480 with 1 Axes>"
            ]
          },
          "metadata": {},
          "output_type": "display_data"
        }
      ],
      "source": [
        "def afficher_graphe(g):\n",
        "  g_pandas = g.toPandas()\n",
        "\n",
        "  nlist = pd.concat([g_pandas['s'], g_pandas['d']]).unique()\n",
        "  elist = g_pandas.to_records(index=False).tolist()\n",
        "\n",
        "  g_nx = nx.Graph()\n",
        "  g_nx.add_nodes_from(nlist)\n",
        "  g_nx.add_edges_from(elist)\n",
        "\n",
        "  pos = nx.spring_layout(g_nx, iterations = 25)\n",
        "  nx.draw(g_nx, pos, with_labels=\"True\", node_size=300, font_size='8', node_color= \"green\", font_color=\"white\")\n",
        "\n",
        "afficher_graphe(G1)"
      ]
    },
    {
      "cell_type": "markdown",
      "metadata": {
        "id": "Sin6LoARHTa1"
      },
      "source": [
        "## Decentralized component calculation\n",
        "\n",
        "It is assumed that the data in G are distributed in two partitions.\n",
        "It is assumed that it is not possible to read both partitions to reconstruct the entire graph. In other words, the largest graph that can be read is that of a single partition.\n",
        "\n",
        "The objective is to determine the components of G."
      ]
    },
    {
      "cell_type": "code",
      "execution_count": 16,
      "metadata": {
        "id": "lv_AaVTsHcQo"
      },
      "outputs": [],
      "source": [
        "part0 = \"\"\"\n",
        "n1 n2\n",
        "n3 n1\n",
        "n7 n5\n",
        "n4 n6\n",
        "\"\"\"\n",
        "\n",
        "part1 = \"\"\"\n",
        "n7 n6\n",
        "n4 n5\n",
        "n4 n8\n",
        "n2 n3\n",
        "\"\"\"\n",
        "\n",
        "data = [part0, part1]\n",
        "G = []\n",
        "\n",
        "# On considère ici (pour simplifier) que chaque partition est un dataframe séparé\n",
        "\n",
        "for i in range(2):\n",
        "  tab = [line.split(\" \") for line in data[i].split('\\n') if len(line)>0]\n",
        "  tab = [(s, d) for (s, d) in tab]\n",
        "  G.append( spark.createDataFrame(tab, [\"s\", \"d\"]) )"
      ]
    },
    {
      "cell_type": "code",
      "execution_count": 17,
      "metadata": {
        "colab": {
          "base_uri": "https://localhost:8080/",
          "height": 224
        },
        "id": "x-kGd65YIs-V",
        "outputId": "86eff7f3-7058-455e-de3a-044ddd10312d"
      },
      "outputs": [
        {
          "name": "stdout",
          "output_type": "stream",
          "text": [
            "partition P0\n"
          ]
        },
        {
          "data": {
            "application/vnd.google.colaboratory.module+javascript": "\n      import \"https://ssl.gstatic.com/colaboratory/data_table/881c4a0d49046431/data_table.js\";\n\n      const table = window.createDataTable({\n        data: [[\"n1\",\n\"n2\"],\n [\"n3\",\n\"n1\"],\n [\"n7\",\n\"n5\"],\n [\"n4\",\n\"n6\"]],\n        columns: [[\"string\", \"s\"], [\"string\", \"d\"]],\n        columnOptions: [],\n        rowsPerPage: 10,\n        helpUrl: \"https://colab.research.google.com/notebooks/data_table.ipynb\",\n        suppressOutputScrolling: true,\n        minimumWidth: undefined,\n      });\n\n      function appendQuickchartButton(parentElement) {\n        let quickchartButtonContainerElement = document.createElement('div');\n        quickchartButtonContainerElement.innerHTML = `\n<div id=\"df-cc2a6b95-8565-4cad-861b-a7e3014b37cc\">\n  <button class=\"colab-df-quickchart\" onclick=\"quickchart('df-cc2a6b95-8565-4cad-861b-a7e3014b37cc')\"\n            title=\"Suggest charts\"\n            style=\"display:none;\">\n    \n<svg xmlns=\"http://www.w3.org/2000/svg\" height=\"24px\"viewBox=\"0 0 24 24\"\n     width=\"24px\">\n    <g>\n        <path d=\"M19 3H5c-1.1 0-2 .9-2 2v14c0 1.1.9 2 2 2h14c1.1 0 2-.9 2-2V5c0-1.1-.9-2-2-2zM9 17H7v-7h2v7zm4 0h-2V7h2v10zm4 0h-2v-4h2v4z\"/>\n    </g>\n</svg>\n  </button>\n  \n<style>\n  .colab-df-quickchart {\n      --bg-color: #E8F0FE;\n      --fill-color: #1967D2;\n      --hover-bg-color: #E2EBFA;\n      --hover-fill-color: #174EA6;\n      --disabled-fill-color: #AAA;\n      --disabled-bg-color: #DDD;\n  }\n\n  [theme=dark] .colab-df-quickchart {\n      --bg-color: #3B4455;\n      --fill-color: #D2E3FC;\n      --hover-bg-color: #434B5C;\n      --hover-fill-color: #FFFFFF;\n      --disabled-bg-color: #3B4455;\n      --disabled-fill-color: #666;\n  }\n\n  .colab-df-quickchart {\n    background-color: var(--bg-color);\n    border: none;\n    border-radius: 50%;\n    cursor: pointer;\n    display: none;\n    fill: var(--fill-color);\n    height: 32px;\n    padding: 0;\n    width: 32px;\n  }\n\n  .colab-df-quickchart:hover {\n    background-color: var(--hover-bg-color);\n    box-shadow: 0 1px 2px rgba(60, 64, 67, 0.3), 0 1px 3px 1px rgba(60, 64, 67, 0.15);\n    fill: var(--button-hover-fill-color);\n  }\n\n  .colab-df-quickchart-complete:disabled,\n  .colab-df-quickchart-complete:disabled:hover {\n    background-color: var(--disabled-bg-color);\n    fill: var(--disabled-fill-color);\n    box-shadow: none;\n  }\n\n  .colab-df-spinner {\n    border: 2px solid var(--fill-color);\n    border-color: transparent;\n    border-bottom-color: var(--fill-color);\n    animation:\n      spin 1s steps(1) infinite;\n  }\n\n  @keyframes spin {\n    0% {\n      border-color: transparent;\n      border-bottom-color: var(--fill-color);\n      border-left-color: var(--fill-color);\n    }\n    20% {\n      border-color: transparent;\n      border-left-color: var(--fill-color);\n      border-top-color: var(--fill-color);\n    }\n    30% {\n      border-color: transparent;\n      border-left-color: var(--fill-color);\n      border-top-color: var(--fill-color);\n      border-right-color: var(--fill-color);\n    }\n    40% {\n      border-color: transparent;\n      border-right-color: var(--fill-color);\n      border-top-color: var(--fill-color);\n    }\n    60% {\n      border-color: transparent;\n      border-right-color: var(--fill-color);\n    }\n    80% {\n      border-color: transparent;\n      border-right-color: var(--fill-color);\n      border-bottom-color: var(--fill-color);\n    }\n    90% {\n      border-color: transparent;\n      border-bottom-color: var(--fill-color);\n    }\n  }\n</style>\n\n  <script>\n    async function quickchart(key) {\n      const quickchartButtonEl =\n        document.querySelector('#' + key + ' button');\n      quickchartButtonEl.disabled = true;  // To prevent multiple clicks.\n      quickchartButtonEl.classList.add('colab-df-spinner');\n      try {\n        const charts = await google.colab.kernel.invokeFunction(\n            'suggestCharts', [key], {});\n      } catch (error) {\n        console.error('Error during call to suggestCharts:', error);\n      }\n      quickchartButtonEl.classList.remove('colab-df-spinner');\n      quickchartButtonEl.classList.add('colab-df-quickchart-complete');\n    }\n    (() => {\n      let quickchartButtonEl =\n        document.querySelector('#df-cc2a6b95-8565-4cad-861b-a7e3014b37cc button');\n      quickchartButtonEl.style.display =\n        google.colab.kernel.accessAllowed ? 'block' : 'none';\n    })();\n  </script>\n</div>`;\n        parentElement.appendChild(quickchartButtonContainerElement);\n      }\n\n      appendQuickchartButton(table);\n    ",
            "text/html": [
              "<div>\n",
              "<style scoped>\n",
              "    .dataframe tbody tr th:only-of-type {\n",
              "        vertical-align: middle;\n",
              "    }\n",
              "\n",
              "    .dataframe tbody tr th {\n",
              "        vertical-align: top;\n",
              "    }\n",
              "\n",
              "    .dataframe thead th {\n",
              "        text-align: right;\n",
              "    }\n",
              "</style>\n",
              "<table border=\"1\" class=\"dataframe\">\n",
              "  <thead>\n",
              "    <tr style=\"text-align: right;\">\n",
              "      <th></th>\n",
              "      <th>s</th>\n",
              "      <th>d</th>\n",
              "    </tr>\n",
              "  </thead>\n",
              "  <tbody>\n",
              "    <tr>\n",
              "      <th>0</th>\n",
              "      <td>n1</td>\n",
              "      <td>n2</td>\n",
              "    </tr>\n",
              "    <tr>\n",
              "      <th>1</th>\n",
              "      <td>n3</td>\n",
              "      <td>n1</td>\n",
              "    </tr>\n",
              "    <tr>\n",
              "      <th>2</th>\n",
              "      <td>n7</td>\n",
              "      <td>n5</td>\n",
              "    </tr>\n",
              "    <tr>\n",
              "      <th>3</th>\n",
              "      <td>n4</td>\n",
              "      <td>n6</td>\n",
              "    </tr>\n",
              "  </tbody>\n",
              "</table>\n",
              "</div>"
            ],
            "text/plain": [
              "<google.colab.data_table.DataTable object>"
            ]
          },
          "execution_count": 17,
          "metadata": {},
          "output_type": "execute_result"
        }
      ],
      "source": [
        "print(\"partition P0\")\n",
        "display(G[0])"
      ]
    },
    {
      "cell_type": "code",
      "execution_count": 18,
      "metadata": {
        "colab": {
          "base_uri": "https://localhost:8080/",
          "height": 516
        },
        "id": "rHunvYgpe3-J",
        "outputId": "d24c5945-ea46-4a8e-f5ec-cb129c2a3ad1"
      },
      "outputs": [
        {
          "data": {
            "image/png": "[encoded data removed]",
            "text/plain": [
              "<Figure size 640x480 with 1 Axes>"
            ]
          },
          "metadata": {},
          "output_type": "display_data"
        }
      ],
      "source": [
        "afficher_graphe(G[0])"
      ]
    },
    {
      "cell_type": "code",
      "execution_count": 19,
      "metadata": {
        "colab": {
          "base_uri": "https://localhost:8080/",
          "height": 224
        },
        "id": "ymLy9M1rIxNn",
        "outputId": "0c52d8a8-c18f-48e2-c1ff-cab86c6d5043"
      },
      "outputs": [
        {
          "name": "stdout",
          "output_type": "stream",
          "text": [
            "partition P1\n"
          ]
        },
        {
          "data": {
            "application/vnd.google.colaboratory.module+javascript": "\n      import \"https://ssl.gstatic.com/colaboratory/data_table/881c4a0d49046431/data_table.js\";\n\n      const table = window.createDataTable({\n        data: [[\"n7\",\n\"n6\"],\n [\"n4\",\n\"n5\"],\n [\"n4\",\n\"n8\"],\n [\"n2\",\n\"n3\"]],\n        columns: [[\"string\", \"s\"], [\"string\", \"d\"]],\n        columnOptions: [],\n        rowsPerPage: 10,\n        helpUrl: \"https://colab.research.google.com/notebooks/data_table.ipynb\",\n        suppressOutputScrolling: true,\n        minimumWidth: undefined,\n      });\n\n      function appendQuickchartButton(parentElement) {\n        let quickchartButtonContainerElement = document.createElement('div');\n        quickchartButtonContainerElement.innerHTML = `\n<div id=\"df-74916896-12cf-4c36-ade7-d93618360d63\">\n  <button class=\"colab-df-quickchart\" onclick=\"quickchart('df-74916896-12cf-4c36-ade7-d93618360d63')\"\n            title=\"Suggest charts\"\n            style=\"display:none;\">\n    \n<svg xmlns=\"http://www.w3.org/2000/svg\" height=\"24px\"viewBox=\"0 0 24 24\"\n     width=\"24px\">\n    <g>\n        <path d=\"M19 3H5c-1.1 0-2 .9-2 2v14c0 1.1.9 2 2 2h14c1.1 0 2-.9 2-2V5c0-1.1-.9-2-2-2zM9 17H7v-7h2v7zm4 0h-2V7h2v10zm4 0h-2v-4h2v4z\"/>\n    </g>\n</svg>\n  </button>\n  \n<style>\n  .colab-df-quickchart {\n      --bg-color: #E8F0FE;\n      --fill-color: #1967D2;\n      --hover-bg-color: #E2EBFA;\n      --hover-fill-color: #174EA6;\n      --disabled-fill-color: #AAA;\n      --disabled-bg-color: #DDD;\n  }\n\n  [theme=dark] .colab-df-quickchart {\n      --bg-color: #3B4455;\n      --fill-color: #D2E3FC;\n      --hover-bg-color: #434B5C;\n      --hover-fill-color: #FFFFFF;\n      --disabled-bg-color: #3B4455;\n      --disabled-fill-color: #666;\n  }\n\n  .colab-df-quickchart {\n    background-color: var(--bg-color);\n    border: none;\n    border-radius: 50%;\n    cursor: pointer;\n    display: none;\n    fill: var(--fill-color);\n    height: 32px;\n    padding: 0;\n    width: 32px;\n  }\n\n  .colab-df-quickchart:hover {\n    background-color: var(--hover-bg-color);\n    box-shadow: 0 1px 2px rgba(60, 64, 67, 0.3), 0 1px 3px 1px rgba(60, 64, 67, 0.15);\n    fill: var(--button-hover-fill-color);\n  }\n\n  .colab-df-quickchart-complete:disabled,\n  .colab-df-quickchart-complete:disabled:hover {\n    background-color: var(--disabled-bg-color);\n    fill: var(--disabled-fill-color);\n    box-shadow: none;\n  }\n\n  .colab-df-spinner {\n    border: 2px solid var(--fill-color);\n    border-color: transparent;\n    border-bottom-color: var(--fill-color);\n    animation:\n      spin 1s steps(1) infinite;\n  }\n\n  @keyframes spin {\n    0% {\n      border-color: transparent;\n      border-bottom-color: var(--fill-color);\n      border-left-color: var(--fill-color);\n    }\n    20% {\n      border-color: transparent;\n      border-left-color: var(--fill-color);\n      border-top-color: var(--fill-color);\n    }\n    30% {\n      border-color: transparent;\n      border-left-color: var(--fill-color);\n      border-top-color: var(--fill-color);\n      border-right-color: var(--fill-color);\n    }\n    40% {\n      border-color: transparent;\n      border-right-color: var(--fill-color);\n      border-top-color: var(--fill-color);\n    }\n    60% {\n      border-color: transparent;\n      border-right-color: var(--fill-color);\n    }\n    80% {\n      border-color: transparent;\n      border-right-color: var(--fill-color);\n      border-bottom-color: var(--fill-color);\n    }\n    90% {\n      border-color: transparent;\n      border-bottom-color: var(--fill-color);\n    }\n  }\n</style>\n\n  <script>\n    async function quickchart(key) {\n      const quickchartButtonEl =\n        document.querySelector('#' + key + ' button');\n      quickchartButtonEl.disabled = true;  // To prevent multiple clicks.\n      quickchartButtonEl.classList.add('colab-df-spinner');\n      try {\n        const charts = await google.colab.kernel.invokeFunction(\n            'suggestCharts', [key], {});\n      } catch (error) {\n        console.error('Error during call to suggestCharts:', error);\n      }\n      quickchartButtonEl.classList.remove('colab-df-spinner');\n      quickchartButtonEl.classList.add('colab-df-quickchart-complete');\n    }\n    (() => {\n      let quickchartButtonEl =\n        document.querySelector('#df-74916896-12cf-4c36-ade7-d93618360d63 button');\n      quickchartButtonEl.style.display =\n        google.colab.kernel.accessAllowed ? 'block' : 'none';\n    })();\n  </script>\n</div>`;\n        parentElement.appendChild(quickchartButtonContainerElement);\n      }\n\n      appendQuickchartButton(table);\n    ",
            "text/html": [
              "<div>\n",
              "<style scoped>\n",
              "    .dataframe tbody tr th:only-of-type {\n",
              "        vertical-align: middle;\n",
              "    }\n",
              "\n",
              "    .dataframe tbody tr th {\n",
              "        vertical-align: top;\n",
              "    }\n",
              "\n",
              "    .dataframe thead th {\n",
              "        text-align: right;\n",
              "    }\n",
              "</style>\n",
              "<table border=\"1\" class=\"dataframe\">\n",
              "  <thead>\n",
              "    <tr style=\"text-align: right;\">\n",
              "      <th></th>\n",
              "      <th>s</th>\n",
              "      <th>d</th>\n",
              "    </tr>\n",
              "  </thead>\n",
              "  <tbody>\n",
              "    <tr>\n",
              "      <th>0</th>\n",
              "      <td>n7</td>\n",
              "      <td>n6</td>\n",
              "    </tr>\n",
              "    <tr>\n",
              "      <th>1</th>\n",
              "      <td>n4</td>\n",
              "      <td>n5</td>\n",
              "    </tr>\n",
              "    <tr>\n",
              "      <th>2</th>\n",
              "      <td>n4</td>\n",
              "      <td>n8</td>\n",
              "    </tr>\n",
              "    <tr>\n",
              "      <th>3</th>\n",
              "      <td>n2</td>\n",
              "      <td>n3</td>\n",
              "    </tr>\n",
              "  </tbody>\n",
              "</table>\n",
              "</div>"
            ],
            "text/plain": [
              "<google.colab.data_table.DataTable object>"
            ]
          },
          "execution_count": 19,
          "metadata": {},
          "output_type": "execute_result"
        }
      ],
      "source": [
        "print(\"partition P1\")\n",
        "display(G[1])"
      ]
    },
    {
      "cell_type": "code",
      "execution_count": 20,
      "metadata": {
        "colab": {
          "base_uri": "https://localhost:8080/",
          "height": 516
        },
        "id": "yIssHeuJexBG",
        "outputId": "53a1cff9-a053-44d4-dd3b-0b186816a810"
      },
      "outputs": [
        {
          "data": {
            "image/png": "[encoded data removed]",
            "text/plain": [
              "<Figure size 640x480 with 1 Axes>"
            ]
          },
          "metadata": {},
          "output_type": "display_data"
        }
      ],
      "source": [
        "afficher_graphe(G[1])"
      ]
    },
    {
      "cell_type": "markdown",
      "metadata": {
        "id": "1W-mJnqeb7qq"
      },
      "source": [
        "We start by calculating the components of G separately on each partition P0 and P1.\n",
        "* G0_comp (partID, n, comp) with partID set to \"P0\".\n",
        "* G1_comp (partID, n, comp) with partID set to \"P1\"."
      ]
    },
    {
      "cell_type": "code",
      "execution_count": 21,
      "metadata": {
        "id": "Ht8FfDsPfFFx"
      },
      "outputs": [],
      "source": [
        "def get_composantes_from_edge_list(edge_list):\n",
        "  g_ig = ig.Graph(directed=False)\n",
        "\n",
        "  df = spark.createDataFrame(edge_list, [\"s\", \"d\"])\n",
        "  nodes = df.selectExpr(\"s as n\").union(df.selectExpr(\"d as n\")).distinct().toPandas()\n",
        "  nlist = [str(n.n) for n in nodes.itertuples(index=False)]\n",
        "\n",
        "  g_ig.add_vertices(nlist)\n",
        "  g_ig.add_edges(edge_list)\n",
        "\n",
        "  components = g_ig.connected_components(mode='weak')\n",
        "\n",
        "  # # Associer le nom du noeud n avec sa composante comp\n",
        "  # # On obtient la relation (n, comp)\n",
        "  vertex_comp = zip(g_ig.vs()[\"name\"], components.membership)\n",
        "  return [(n,comp) for n,comp in vertex_comp]"
      ]
    },
    {
      "cell_type": "code",
      "execution_count": 22,
      "metadata": {
        "colab": {
          "base_uri": "https://localhost:8080/"
        },
        "id": "ssYda0BsrJpj",
        "outputId": "f383b2db-54b6-41c0-a9a8-9cce437fcf24"
      },
      "outputs": [
        {
          "name": "stdout",
          "output_type": "stream",
          "text": [
            "Le graphe G0 a pour composantes :[('n3', 0), ('n1', 0), ('n7', 1), ('n4', 2), ('n2', 0), ('n5', 1), ('n6', 2)]\n",
            "Le graphe G1 a pour composantes :[('n7', 0), ('n4', 1), ('n2', 2), ('n6', 0), ('n5', 1), ('n3', 2), ('n8', 1)]\n"
          ]
        }
      ],
      "source": [
        "edge_lists_0 = [(str(e.s), str(e.d)) for e in G[0].toPandas().itertuples(index=False) ]\n",
        "edge_lists_1 = [(str(e.s), str(e.d)) for e in G[1].toPandas().itertuples(index=False) ]\n",
        "\n",
        "compo_0 = get_composantes_from_edge_list(edge_lists_0)\n",
        "compo_1 = get_composantes_from_edge_list(edge_lists_1)\n",
        "print(f'Le graphe G0 a pour composantes :{compo_0}')\n",
        "print(f'Le graphe G1 a pour composantes :{compo_1}')\n",
        "\n",
        "df = pd.DataFrame([('P0', n[0], n[1]) for n in compo_0], columns = ['partID', 'n', 'comp'])"
      ]
    },
    {
      "cell_type": "code",
      "execution_count": 23,
      "metadata": {
        "colab": {
          "base_uri": "https://localhost:8080/",
          "height": 323
        },
        "id": "JLwSbhkzex74",
        "outputId": "9d873822-e277-468e-af11-5a86b161ccf2"
      },
      "outputs": [
        {
          "name": "stdout",
          "output_type": "stream",
          "text": [
            "Le graphe G0 a pour composantes :[('n3', 0), ('n1', 0), ('n7', 1), ('n4', 2), ('n2', 0), ('n5', 1), ('n6', 2)]\n",
            "Le graphe G1 a pour composantes :[('n7', 0), ('n4', 1), ('n2', 2), ('n6', 0), ('n5', 1), ('n3', 2), ('n8', 1)]\n",
            "G0_Comp:\n"
          ]
        },
        {
          "data": {
            "application/vnd.google.colaboratory.module+javascript": "\n      import \"https://ssl.gstatic.com/colaboratory/data_table/881c4a0d49046431/data_table.js\";\n\n      const table = window.createDataTable({\n        data: [[\"P0\",\n\"n3\",\n{\n            'v': 0,\n            'f': \"0\",\n        }],\n [\"P0\",\n\"n1\",\n{\n            'v': 0,\n            'f': \"0\",\n        }],\n [\"P0\",\n\"n7\",\n{\n            'v': 1,\n            'f': \"1\",\n        }],\n [\"P0\",\n\"n4\",\n{\n            'v': 2,\n            'f': \"2\",\n        }],\n [\"P0\",\n\"n2\",\n{\n            'v': 0,\n            'f': \"0\",\n        }],\n [\"P0\",\n\"n5\",\n{\n            'v': 1,\n            'f': \"1\",\n        }],\n [\"P0\",\n\"n6\",\n{\n            'v': 2,\n            'f': \"2\",\n        }]],\n        columns: [[\"string\", \"partID\"], [\"string\", \"n\"], [\"number\", \"comp\"]],\n        columnOptions: [],\n        rowsPerPage: 10,\n        helpUrl: \"https://colab.research.google.com/notebooks/data_table.ipynb\",\n        suppressOutputScrolling: true,\n        minimumWidth: undefined,\n      });\n\n      function appendQuickchartButton(parentElement) {\n        let quickchartButtonContainerElement = document.createElement('div');\n        quickchartButtonContainerElement.innerHTML = `\n<div id=\"df-33b0f37c-5249-453d-98be-dee5acc77f48\">\n  <button class=\"colab-df-quickchart\" onclick=\"quickchart('df-33b0f37c-5249-453d-98be-dee5acc77f48')\"\n            title=\"Suggest charts\"\n            style=\"display:none;\">\n    \n<svg xmlns=\"http://www.w3.org/2000/svg\" height=\"24px\"viewBox=\"0 0 24 24\"\n     width=\"24px\">\n    <g>\n        <path d=\"M19 3H5c-1.1 0-2 .9-2 2v14c0 1.1.9 2 2 2h14c1.1 0 2-.9 2-2V5c0-1.1-.9-2-2-2zM9 17H7v-7h2v7zm4 0h-2V7h2v10zm4 0h-2v-4h2v4z\"/>\n    </g>\n</svg>\n  </button>\n  \n<style>\n  .colab-df-quickchart {\n      --bg-color: #E8F0FE;\n      --fill-color: #1967D2;\n      --hover-bg-color: #E2EBFA;\n      --hover-fill-color: #174EA6;\n      --disabled-fill-color: #AAA;\n      --disabled-bg-color: #DDD;\n  }\n\n  [theme=dark] .colab-df-quickchart {\n      --bg-color: #3B4455;\n      --fill-color: #D2E3FC;\n      --hover-bg-color: #434B5C;\n      --hover-fill-color: #FFFFFF;\n      --disabled-bg-color: #3B4455;\n      --disabled-fill-color: #666;\n  }\n\n  .colab-df-quickchart {\n    background-color: var(--bg-color);\n    border: none;\n    border-radius: 50%;\n    cursor: pointer;\n    display: none;\n    fill: var(--fill-color);\n    height: 32px;\n    padding: 0;\n    width: 32px;\n  }\n\n  .colab-df-quickchart:hover {\n    background-color: var(--hover-bg-color);\n    box-shadow: 0 1px 2px rgba(60, 64, 67, 0.3), 0 1px 3px 1px rgba(60, 64, 67, 0.15);\n    fill: var(--button-hover-fill-color);\n  }\n\n  .colab-df-quickchart-complete:disabled,\n  .colab-df-quickchart-complete:disabled:hover {\n    background-color: var(--disabled-bg-color);\n    fill: var(--disabled-fill-color);\n    box-shadow: none;\n  }\n\n  .colab-df-spinner {\n    border: 2px solid var(--fill-color);\n    border-color: transparent;\n    border-bottom-color: var(--fill-color);\n    animation:\n      spin 1s steps(1) infinite;\n  }\n\n  @keyframes spin {\n    0% {\n      border-color: transparent;\n      border-bottom-color: var(--fill-color);\n      border-left-color: var(--fill-color);\n    }\n    20% {\n      border-color: transparent;\n      border-left-color: var(--fill-color);\n      border-top-color: var(--fill-color);\n    }\n    30% {\n      border-color: transparent;\n      border-left-color: var(--fill-color);\n      border-top-color: var(--fill-color);\n      border-right-color: var(--fill-color);\n    }\n    40% {\n      border-color: transparent;\n      border-right-color: var(--fill-color);\n      border-top-color: var(--fill-color);\n    }\n    60% {\n      border-color: transparent;\n      border-right-color: var(--fill-color);\n    }\n    80% {\n      border-color: transparent;\n      border-right-color: var(--fill-color);\n      border-bottom-color: var(--fill-color);\n    }\n    90% {\n      border-color: transparent;\n      border-bottom-color: var(--fill-color);\n    }\n  }\n</style>\n\n  <script>\n    async function quickchart(key) {\n      const quickchartButtonEl =\n        document.querySelector('#' + key + ' button');\n      quickchartButtonEl.disabled = true;  // To prevent multiple clicks.\n      quickchartButtonEl.classList.add('colab-df-spinner');\n      try {\n        const charts = await google.colab.kernel.invokeFunction(\n            'suggestCharts', [key], {});\n      } catch (error) {\n        console.error('Error during call to suggestCharts:', error);\n      }\n      quickchartButtonEl.classList.remove('colab-df-spinner');\n      quickchartButtonEl.classList.add('colab-df-quickchart-complete');\n    }\n    (() => {\n      let quickchartButtonEl =\n        document.querySelector('#df-33b0f37c-5249-453d-98be-dee5acc77f48 button');\n      quickchartButtonEl.style.display =\n        google.colab.kernel.accessAllowed ? 'block' : 'none';\n    })();\n  </script>\n</div>`;\n        parentElement.appendChild(quickchartButtonContainerElement);\n      }\n\n      appendQuickchartButton(table);\n    ",
            "text/html": [
              "<div>\n",
              "<style scoped>\n",
              "    .dataframe tbody tr th:only-of-type {\n",
              "        vertical-align: middle;\n",
              "    }\n",
              "\n",
              "    .dataframe tbody tr th {\n",
              "        vertical-align: top;\n",
              "    }\n",
              "\n",
              "    .dataframe thead th {\n",
              "        text-align: right;\n",
              "    }\n",
              "</style>\n",
              "<table border=\"1\" class=\"dataframe\">\n",
              "  <thead>\n",
              "    <tr style=\"text-align: right;\">\n",
              "      <th></th>\n",
              "      <th>partID</th>\n",
              "      <th>n</th>\n",
              "      <th>comp</th>\n",
              "    </tr>\n",
              "  </thead>\n",
              "  <tbody>\n",
              "    <tr>\n",
              "      <th>0</th>\n",
              "      <td>P0</td>\n",
              "      <td>n3</td>\n",
              "      <td>0</td>\n",
              "    </tr>\n",
              "    <tr>\n",
              "      <th>1</th>\n",
              "      <td>P0</td>\n",
              "      <td>n1</td>\n",
              "      <td>0</td>\n",
              "    </tr>\n",
              "    <tr>\n",
              "      <th>2</th>\n",
              "      <td>P0</td>\n",
              "      <td>n7</td>\n",
              "      <td>1</td>\n",
              "    </tr>\n",
              "    <tr>\n",
              "      <th>3</th>\n",
              "      <td>P0</td>\n",
              "      <td>n4</td>\n",
              "      <td>2</td>\n",
              "    </tr>\n",
              "    <tr>\n",
              "      <th>4</th>\n",
              "      <td>P0</td>\n",
              "      <td>n2</td>\n",
              "      <td>0</td>\n",
              "    </tr>\n",
              "    <tr>\n",
              "      <th>5</th>\n",
              "      <td>P0</td>\n",
              "      <td>n5</td>\n",
              "      <td>1</td>\n",
              "    </tr>\n",
              "    <tr>\n",
              "      <th>6</th>\n",
              "      <td>P0</td>\n",
              "      <td>n6</td>\n",
              "      <td>2</td>\n",
              "    </tr>\n",
              "  </tbody>\n",
              "</table>\n",
              "</div>"
            ],
            "text/plain": [
              "<google.colab.data_table.DataTable object>"
            ]
          },
          "execution_count": 23,
          "metadata": {},
          "output_type": "execute_result"
        }
      ],
      "source": [
        "elist_0 = [(str(e.s), str(e.d)) for e in G[0].toPandas().itertuples(index=False) ]\n",
        "elist_1 = [(str(e.s), str(e.d)) for e in G[1].toPandas().itertuples(index=False) ]\n",
        "\n",
        "compo_0 = get_composantes_from_edge_list(edge_lists_0)\n",
        "compo_1 = get_composantes_from_edge_list(edge_lists_1)\n",
        "\n",
        "print(f'Le graphe G0 a pour composantes :{compo_0}')\n",
        "print(f'Le graphe G1 a pour composantes :{compo_1}')\n",
        "\n",
        "G0_Comp = pd.DataFrame([('P0', n[0], n[1]) for n in compo_0], columns = ['partID', 'n', 'comp'])\n",
        "G0_comp = G0_Comp.to_parquet(\"composantes_parquet_0\")\n",
        "G0_comp = spark.read.format(\"parquet\").load(\"composantes_parquet_0\")\n",
        "print(\"G0_Comp:\")\n",
        "display(G0_comp)"
      ]
    },
    {
      "cell_type": "code",
      "execution_count": 24,
      "metadata": {
        "colab": {
          "base_uri": "https://localhost:8080/",
          "height": 288
        },
        "id": "QXxG5isSlNnc",
        "outputId": "496d81b1-f824-43cf-ca77-1f3258f2f02c"
      },
      "outputs": [
        {
          "name": "stdout",
          "output_type": "stream",
          "text": [
            "G1_Comp:\n"
          ]
        },
        {
          "data": {
            "application/vnd.google.colaboratory.module+javascript": "\n      import \"https://ssl.gstatic.com/colaboratory/data_table/881c4a0d49046431/data_table.js\";\n\n      const table = window.createDataTable({\n        data: [[\"P1\",\n\"n7\",\n{\n            'v': 0,\n            'f': \"0\",\n        }],\n [\"P1\",\n\"n4\",\n{\n            'v': 1,\n            'f': \"1\",\n        }],\n [\"P1\",\n\"n2\",\n{\n            'v': 2,\n            'f': \"2\",\n        }],\n [\"P1\",\n\"n6\",\n{\n            'v': 0,\n            'f': \"0\",\n        }],\n [\"P1\",\n\"n5\",\n{\n            'v': 1,\n            'f': \"1\",\n        }],\n [\"P1\",\n\"n3\",\n{\n            'v': 2,\n            'f': \"2\",\n        }],\n [\"P1\",\n\"n8\",\n{\n            'v': 1,\n            'f': \"1\",\n        }]],\n        columns: [[\"string\", \"partID\"], [\"string\", \"n\"], [\"number\", \"comp\"]],\n        columnOptions: [],\n        rowsPerPage: 10,\n        helpUrl: \"https://colab.research.google.com/notebooks/data_table.ipynb\",\n        suppressOutputScrolling: true,\n        minimumWidth: undefined,\n      });\n\n      function appendQuickchartButton(parentElement) {\n        let quickchartButtonContainerElement = document.createElement('div');\n        quickchartButtonContainerElement.innerHTML = `\n<div id=\"df-e012e139-8864-4b57-a5e3-ae7740bf984f\">\n  <button class=\"colab-df-quickchart\" onclick=\"quickchart('df-e012e139-8864-4b57-a5e3-ae7740bf984f')\"\n            title=\"Suggest charts\"\n            style=\"display:none;\">\n    \n<svg xmlns=\"http://www.w3.org/2000/svg\" height=\"24px\"viewBox=\"0 0 24 24\"\n     width=\"24px\">\n    <g>\n        <path d=\"M19 3H5c-1.1 0-2 .9-2 2v14c0 1.1.9 2 2 2h14c1.1 0 2-.9 2-2V5c0-1.1-.9-2-2-2zM9 17H7v-7h2v7zm4 0h-2V7h2v10zm4 0h-2v-4h2v4z\"/>\n    </g>\n</svg>\n  </button>\n  \n<style>\n  .colab-df-quickchart {\n      --bg-color: #E8F0FE;\n      --fill-color: #1967D2;\n      --hover-bg-color: #E2EBFA;\n      --hover-fill-color: #174EA6;\n      --disabled-fill-color: #AAA;\n      --disabled-bg-color: #DDD;\n  }\n\n  [theme=dark] .colab-df-quickchart {\n      --bg-color: #3B4455;\n      --fill-color: #D2E3FC;\n      --hover-bg-color: #434B5C;\n      --hover-fill-color: #FFFFFF;\n      --disabled-bg-color: #3B4455;\n      --disabled-fill-color: #666;\n  }\n\n  .colab-df-quickchart {\n    background-color: var(--bg-color);\n    border: none;\n    border-radius: 50%;\n    cursor: pointer;\n    display: none;\n    fill: var(--fill-color);\n    height: 32px;\n    padding: 0;\n    width: 32px;\n  }\n\n  .colab-df-quickchart:hover {\n    background-color: var(--hover-bg-color);\n    box-shadow: 0 1px 2px rgba(60, 64, 67, 0.3), 0 1px 3px 1px rgba(60, 64, 67, 0.15);\n    fill: var(--button-hover-fill-color);\n  }\n\n  .colab-df-quickchart-complete:disabled,\n  .colab-df-quickchart-complete:disabled:hover {\n    background-color: var(--disabled-bg-color);\n    fill: var(--disabled-fill-color);\n    box-shadow: none;\n  }\n\n  .colab-df-spinner {\n    border: 2px solid var(--fill-color);\n    border-color: transparent;\n    border-bottom-color: var(--fill-color);\n    animation:\n      spin 1s steps(1) infinite;\n  }\n\n  @keyframes spin {\n    0% {\n      border-color: transparent;\n      border-bottom-color: var(--fill-color);\n      border-left-color: var(--fill-color);\n    }\n    20% {\n      border-color: transparent;\n      border-left-color: var(--fill-color);\n      border-top-color: var(--fill-color);\n    }\n    30% {\n      border-color: transparent;\n      border-left-color: var(--fill-color);\n      border-top-color: var(--fill-color);\n      border-right-color: var(--fill-color);\n    }\n    40% {\n      border-color: transparent;\n      border-right-color: var(--fill-color);\n      border-top-color: var(--fill-color);\n    }\n    60% {\n      border-color: transparent;\n      border-right-color: var(--fill-color);\n    }\n    80% {\n      border-color: transparent;\n      border-right-color: var(--fill-color);\n      border-bottom-color: var(--fill-color);\n    }\n    90% {\n      border-color: transparent;\n      border-bottom-color: var(--fill-color);\n    }\n  }\n</style>\n\n  <script>\n    async function quickchart(key) {\n      const quickchartButtonEl =\n        document.querySelector('#' + key + ' button');\n      quickchartButtonEl.disabled = true;  // To prevent multiple clicks.\n      quickchartButtonEl.classList.add('colab-df-spinner');\n      try {\n        const charts = await google.colab.kernel.invokeFunction(\n            'suggestCharts', [key], {});\n      } catch (error) {\n        console.error('Error during call to suggestCharts:', error);\n      }\n      quickchartButtonEl.classList.remove('colab-df-spinner');\n      quickchartButtonEl.classList.add('colab-df-quickchart-complete');\n    }\n    (() => {\n      let quickchartButtonEl =\n        document.querySelector('#df-e012e139-8864-4b57-a5e3-ae7740bf984f button');\n      quickchartButtonEl.style.display =\n        google.colab.kernel.accessAllowed ? 'block' : 'none';\n    })();\n  </script>\n</div>`;\n        parentElement.appendChild(quickchartButtonContainerElement);\n      }\n\n      appendQuickchartButton(table);\n    ",
            "text/html": [
              "<div>\n",
              "<style scoped>\n",
              "    .dataframe tbody tr th:only-of-type {\n",
              "        vertical-align: middle;\n",
              "    }\n",
              "\n",
              "    .dataframe tbody tr th {\n",
              "        vertical-align: top;\n",
              "    }\n",
              "\n",
              "    .dataframe thead th {\n",
              "        text-align: right;\n",
              "    }\n",
              "</style>\n",
              "<table border=\"1\" class=\"dataframe\">\n",
              "  <thead>\n",
              "    <tr style=\"text-align: right;\">\n",
              "      <th></th>\n",
              "      <th>partID</th>\n",
              "      <th>n</th>\n",
              "      <th>comp</th>\n",
              "    </tr>\n",
              "  </thead>\n",
              "  <tbody>\n",
              "    <tr>\n",
              "      <th>0</th>\n",
              "      <td>P1</td>\n",
              "      <td>n7</td>\n",
              "      <td>0</td>\n",
              "    </tr>\n",
              "    <tr>\n",
              "      <th>1</th>\n",
              "      <td>P1</td>\n",
              "      <td>n4</td>\n",
              "      <td>1</td>\n",
              "    </tr>\n",
              "    <tr>\n",
              "      <th>2</th>\n",
              "      <td>P1</td>\n",
              "      <td>n2</td>\n",
              "      <td>2</td>\n",
              "    </tr>\n",
              "    <tr>\n",
              "      <th>3</th>\n",
              "      <td>P1</td>\n",
              "      <td>n6</td>\n",
              "      <td>0</td>\n",
              "    </tr>\n",
              "    <tr>\n",
              "      <th>4</th>\n",
              "      <td>P1</td>\n",
              "      <td>n5</td>\n",
              "      <td>1</td>\n",
              "    </tr>\n",
              "    <tr>\n",
              "      <th>5</th>\n",
              "      <td>P1</td>\n",
              "      <td>n3</td>\n",
              "      <td>2</td>\n",
              "    </tr>\n",
              "    <tr>\n",
              "      <th>6</th>\n",
              "      <td>P1</td>\n",
              "      <td>n8</td>\n",
              "      <td>1</td>\n",
              "    </tr>\n",
              "  </tbody>\n",
              "</table>\n",
              "</div>"
            ],
            "text/plain": [
              "<google.colab.data_table.DataTable object>"
            ]
          },
          "execution_count": 24,
          "metadata": {},
          "output_type": "execute_result"
        }
      ],
      "source": [
        "G1_Comp = pd.DataFrame([('P1', n[0], n[1]) for n in compo_1], columns = ['partID', 'n', 'comp'])\n",
        "G1_comp = G1_Comp.to_parquet(\"composantes_parquet_1\")\n",
        "G1_comp = spark.read.format(\"parquet\").load(\"composantes_parquet_1\")\n",
        "print(\"G1_Comp:\")\n",
        "display(G1_comp)"
      ]
    },
    {
      "cell_type": "markdown",
      "metadata": {
        "id": "BhIg_zRLcBbJ"
      },
      "source": [
        "The components calculated in G0_Comp and G1_Comp were obtained independently. Now we want to \"associate\" them."
      ]
    },
    {
      "cell_type": "code",
      "execution_count": 25,
      "metadata": {
        "colab": {
          "base_uri": "https://localhost:8080/",
          "height": 270
        },
        "id": "9kS4VVPe-SCp",
        "outputId": "0c30d016-6048-4aa7-f020-45a6b1e8022b"
      },
      "outputs": [
        {
          "data": {
            "application/vnd.google.colaboratory.module+javascript": "\n      import \"https://ssl.gstatic.com/colaboratory/data_table/881c4a0d49046431/data_table.js\";\n\n      const table = window.createDataTable({\n        data: [[\"P0\",\n\"n3\",\n{\n            'v': 0,\n            'f': \"0\",\n        }],\n [\"P0\",\n\"n1\",\n{\n            'v': 0,\n            'f': \"0\",\n        }],\n [\"P0\",\n\"n7\",\n{\n            'v': 1,\n            'f': \"1\",\n        }],\n [\"P0\",\n\"n4\",\n{\n            'v': 2,\n            'f': \"2\",\n        }],\n [\"P0\",\n\"n2\",\n{\n            'v': 0,\n            'f': \"0\",\n        }],\n [\"P0\",\n\"n5\",\n{\n            'v': 1,\n            'f': \"1\",\n        }],\n [\"P0\",\n\"n6\",\n{\n            'v': 2,\n            'f': \"2\",\n        }]],\n        columns: [[\"string\", \"partID\"], [\"string\", \"n\"], [\"number\", \"comp\"]],\n        columnOptions: [],\n        rowsPerPage: 10,\n        helpUrl: \"https://colab.research.google.com/notebooks/data_table.ipynb\",\n        suppressOutputScrolling: true,\n        minimumWidth: undefined,\n      });\n\n      function appendQuickchartButton(parentElement) {\n        let quickchartButtonContainerElement = document.createElement('div');\n        quickchartButtonContainerElement.innerHTML = `\n<div id=\"df-1e343ee0-c363-4296-90b1-c138ded80bf7\">\n  <button class=\"colab-df-quickchart\" onclick=\"quickchart('df-1e343ee0-c363-4296-90b1-c138ded80bf7')\"\n            title=\"Suggest charts\"\n            style=\"display:none;\">\n    \n<svg xmlns=\"http://www.w3.org/2000/svg\" height=\"24px\"viewBox=\"0 0 24 24\"\n     width=\"24px\">\n    <g>\n        <path d=\"M19 3H5c-1.1 0-2 .9-2 2v14c0 1.1.9 2 2 2h14c1.1 0 2-.9 2-2V5c0-1.1-.9-2-2-2zM9 17H7v-7h2v7zm4 0h-2V7h2v10zm4 0h-2v-4h2v4z\"/>\n    </g>\n</svg>\n  </button>\n  \n<style>\n  .colab-df-quickchart {\n      --bg-color: #E8F0FE;\n      --fill-color: #1967D2;\n      --hover-bg-color: #E2EBFA;\n      --hover-fill-color: #174EA6;\n      --disabled-fill-color: #AAA;\n      --disabled-bg-color: #DDD;\n  }\n\n  [theme=dark] .colab-df-quickchart {\n      --bg-color: #3B4455;\n      --fill-color: #D2E3FC;\n      --hover-bg-color: #434B5C;\n      --hover-fill-color: #FFFFFF;\n      --disabled-bg-color: #3B4455;\n      --disabled-fill-color: #666;\n  }\n\n  .colab-df-quickchart {\n    background-color: var(--bg-color);\n    border: none;\n    border-radius: 50%;\n    cursor: pointer;\n    display: none;\n    fill: var(--fill-color);\n    height: 32px;\n    padding: 0;\n    width: 32px;\n  }\n\n  .colab-df-quickchart:hover {\n    background-color: var(--hover-bg-color);\n    box-shadow: 0 1px 2px rgba(60, 64, 67, 0.3), 0 1px 3px 1px rgba(60, 64, 67, 0.15);\n    fill: var(--button-hover-fill-color);\n  }\n\n  .colab-df-quickchart-complete:disabled,\n  .colab-df-quickchart-complete:disabled:hover {\n    background-color: var(--disabled-bg-color);\n    fill: var(--disabled-fill-color);\n    box-shadow: none;\n  }\n\n  .colab-df-spinner {\n    border: 2px solid var(--fill-color);\n    border-color: transparent;\n    border-bottom-color: var(--fill-color);\n    animation:\n      spin 1s steps(1) infinite;\n  }\n\n  @keyframes spin {\n    0% {\n      border-color: transparent;\n      border-bottom-color: var(--fill-color);\n      border-left-color: var(--fill-color);\n    }\n    20% {\n      border-color: transparent;\n      border-left-color: var(--fill-color);\n      border-top-color: var(--fill-color);\n    }\n    30% {\n      border-color: transparent;\n      border-left-color: var(--fill-color);\n      border-top-color: var(--fill-color);\n      border-right-color: var(--fill-color);\n    }\n    40% {\n      border-color: transparent;\n      border-right-color: var(--fill-color);\n      border-top-color: var(--fill-color);\n    }\n    60% {\n      border-color: transparent;\n      border-right-color: var(--fill-color);\n    }\n    80% {\n      border-color: transparent;\n      border-right-color: var(--fill-color);\n      border-bottom-color: var(--fill-color);\n    }\n    90% {\n      border-color: transparent;\n      border-bottom-color: var(--fill-color);\n    }\n  }\n</style>\n\n  <script>\n    async function quickchart(key) {\n      const quickchartButtonEl =\n        document.querySelector('#' + key + ' button');\n      quickchartButtonEl.disabled = true;  // To prevent multiple clicks.\n      quickchartButtonEl.classList.add('colab-df-spinner');\n      try {\n        const charts = await google.colab.kernel.invokeFunction(\n            'suggestCharts', [key], {});\n      } catch (error) {\n        console.error('Error during call to suggestCharts:', error);\n      }\n      quickchartButtonEl.classList.remove('colab-df-spinner');\n      quickchartButtonEl.classList.add('colab-df-quickchart-complete');\n    }\n    (() => {\n      let quickchartButtonEl =\n        document.querySelector('#df-1e343ee0-c363-4296-90b1-c138ded80bf7 button');\n      quickchartButtonEl.style.display =\n        google.colab.kernel.accessAllowed ? 'block' : 'none';\n    })();\n  </script>\n</div>`;\n        parentElement.appendChild(quickchartButtonContainerElement);\n      }\n\n      appendQuickchartButton(table);\n    ",
            "text/html": [
              "<div>\n",
              "<style scoped>\n",
              "    .dataframe tbody tr th:only-of-type {\n",
              "        vertical-align: middle;\n",
              "    }\n",
              "\n",
              "    .dataframe tbody tr th {\n",
              "        vertical-align: top;\n",
              "    }\n",
              "\n",
              "    .dataframe thead th {\n",
              "        text-align: right;\n",
              "    }\n",
              "</style>\n",
              "<table border=\"1\" class=\"dataframe\">\n",
              "  <thead>\n",
              "    <tr style=\"text-align: right;\">\n",
              "      <th></th>\n",
              "      <th>partID</th>\n",
              "      <th>n</th>\n",
              "      <th>comp</th>\n",
              "    </tr>\n",
              "  </thead>\n",
              "  <tbody>\n",
              "    <tr>\n",
              "      <th>0</th>\n",
              "      <td>P0</td>\n",
              "      <td>n3</td>\n",
              "      <td>0</td>\n",
              "    </tr>\n",
              "    <tr>\n",
              "      <th>1</th>\n",
              "      <td>P0</td>\n",
              "      <td>n1</td>\n",
              "      <td>0</td>\n",
              "    </tr>\n",
              "    <tr>\n",
              "      <th>2</th>\n",
              "      <td>P0</td>\n",
              "      <td>n7</td>\n",
              "      <td>1</td>\n",
              "    </tr>\n",
              "    <tr>\n",
              "      <th>3</th>\n",
              "      <td>P0</td>\n",
              "      <td>n4</td>\n",
              "      <td>2</td>\n",
              "    </tr>\n",
              "    <tr>\n",
              "      <th>4</th>\n",
              "      <td>P0</td>\n",
              "      <td>n2</td>\n",
              "      <td>0</td>\n",
              "    </tr>\n",
              "    <tr>\n",
              "      <th>5</th>\n",
              "      <td>P0</td>\n",
              "      <td>n5</td>\n",
              "      <td>1</td>\n",
              "    </tr>\n",
              "    <tr>\n",
              "      <th>6</th>\n",
              "      <td>P0</td>\n",
              "      <td>n6</td>\n",
              "      <td>2</td>\n",
              "    </tr>\n",
              "  </tbody>\n",
              "</table>\n",
              "</div>"
            ],
            "text/plain": [
              "<google.colab.data_table.DataTable object>"
            ]
          },
          "execution_count": 25,
          "metadata": {},
          "output_type": "execute_result"
        }
      ],
      "source": [
        "display(G0_comp)"
      ]
    },
    {
      "cell_type": "code",
      "execution_count": 26,
      "metadata": {
        "colab": {
          "base_uri": "https://localhost:8080/",
          "height": 270
        },
        "id": "tzlADgMH7EqE",
        "outputId": "2aa04553-8611-4df8-c895-fc46431ba345"
      },
      "outputs": [
        {
          "data": {
            "application/vnd.google.colaboratory.module+javascript": "\n      import \"https://ssl.gstatic.com/colaboratory/data_table/881c4a0d49046431/data_table.js\";\n\n      const table = window.createDataTable({\n        data: [[\"n3\",\n\"P0_0\"],\n [\"n1\",\n\"P0_0\"],\n [\"n7\",\n\"P0_1\"],\n [\"n4\",\n\"P0_2\"],\n [\"n2\",\n\"P0_0\"],\n [\"n5\",\n\"P0_1\"],\n [\"n6\",\n\"P0_2\"]],\n        columns: [[\"string\", \"n\"], [\"string\", \"comp\"]],\n        columnOptions: [],\n        rowsPerPage: 10,\n        helpUrl: \"https://colab.research.google.com/notebooks/data_table.ipynb\",\n        suppressOutputScrolling: true,\n        minimumWidth: undefined,\n      });\n\n      function appendQuickchartButton(parentElement) {\n        let quickchartButtonContainerElement = document.createElement('div');\n        quickchartButtonContainerElement.innerHTML = `\n<div id=\"df-80e55641-e8f2-46b6-80fa-8395d5eace52\">\n  <button class=\"colab-df-quickchart\" onclick=\"quickchart('df-80e55641-e8f2-46b6-80fa-8395d5eace52')\"\n            title=\"Suggest charts\"\n            style=\"display:none;\">\n    \n<svg xmlns=\"http://www.w3.org/2000/svg\" height=\"24px\"viewBox=\"0 0 24 24\"\n     width=\"24px\">\n    <g>\n        <path d=\"M19 3H5c-1.1 0-2 .9-2 2v14c0 1.1.9 2 2 2h14c1.1 0 2-.9 2-2V5c0-1.1-.9-2-2-2zM9 17H7v-7h2v7zm4 0h-2V7h2v10zm4 0h-2v-4h2v4z\"/>\n    </g>\n</svg>\n  </button>\n  \n<style>\n  .colab-df-quickchart {\n      --bg-color: #E8F0FE;\n      --fill-color: #1967D2;\n      --hover-bg-color: #E2EBFA;\n      --hover-fill-color: #174EA6;\n      --disabled-fill-color: #AAA;\n      --disabled-bg-color: #DDD;\n  }\n\n  [theme=dark] .colab-df-quickchart {\n      --bg-color: #3B4455;\n      --fill-color: #D2E3FC;\n      --hover-bg-color: #434B5C;\n      --hover-fill-color: #FFFFFF;\n      --disabled-bg-color: #3B4455;\n      --disabled-fill-color: #666;\n  }\n\n  .colab-df-quickchart {\n    background-color: var(--bg-color);\n    border: none;\n    border-radius: 50%;\n    cursor: pointer;\n    display: none;\n    fill: var(--fill-color);\n    height: 32px;\n    padding: 0;\n    width: 32px;\n  }\n\n  .colab-df-quickchart:hover {\n    background-color: var(--hover-bg-color);\n    box-shadow: 0 1px 2px rgba(60, 64, 67, 0.3), 0 1px 3px 1px rgba(60, 64, 67, 0.15);\n    fill: var(--button-hover-fill-color);\n  }\n\n  .colab-df-quickchart-complete:disabled,\n  .colab-df-quickchart-complete:disabled:hover {\n    background-color: var(--disabled-bg-color);\n    fill: var(--disabled-fill-color);\n    box-shadow: none;\n  }\n\n  .colab-df-spinner {\n    border: 2px solid var(--fill-color);\n    border-color: transparent;\n    border-bottom-color: var(--fill-color);\n    animation:\n      spin 1s steps(1) infinite;\n  }\n\n  @keyframes spin {\n    0% {\n      border-color: transparent;\n      border-bottom-color: var(--fill-color);\n      border-left-color: var(--fill-color);\n    }\n    20% {\n      border-color: transparent;\n      border-left-color: var(--fill-color);\n      border-top-color: var(--fill-color);\n    }\n    30% {\n      border-color: transparent;\n      border-left-color: var(--fill-color);\n      border-top-color: var(--fill-color);\n      border-right-color: var(--fill-color);\n    }\n    40% {\n      border-color: transparent;\n      border-right-color: var(--fill-color);\n      border-top-color: var(--fill-color);\n    }\n    60% {\n      border-color: transparent;\n      border-right-color: var(--fill-color);\n    }\n    80% {\n      border-color: transparent;\n      border-right-color: var(--fill-color);\n      border-bottom-color: var(--fill-color);\n    }\n    90% {\n      border-color: transparent;\n      border-bottom-color: var(--fill-color);\n    }\n  }\n</style>\n\n  <script>\n    async function quickchart(key) {\n      const quickchartButtonEl =\n        document.querySelector('#' + key + ' button');\n      quickchartButtonEl.disabled = true;  // To prevent multiple clicks.\n      quickchartButtonEl.classList.add('colab-df-spinner');\n      try {\n        const charts = await google.colab.kernel.invokeFunction(\n            'suggestCharts', [key], {});\n      } catch (error) {\n        console.error('Error during call to suggestCharts:', error);\n      }\n      quickchartButtonEl.classList.remove('colab-df-spinner');\n      quickchartButtonEl.classList.add('colab-df-quickchart-complete');\n    }\n    (() => {\n      let quickchartButtonEl =\n        document.querySelector('#df-80e55641-e8f2-46b6-80fa-8395d5eace52 button');\n      quickchartButtonEl.style.display =\n        google.colab.kernel.accessAllowed ? 'block' : 'none';\n    })();\n  </script>\n</div>`;\n        parentElement.appendChild(quickchartButtonContainerElement);\n      }\n\n      appendQuickchartButton(table);\n    ",
            "text/html": [
              "<div>\n",
              "<style scoped>\n",
              "    .dataframe tbody tr th:only-of-type {\n",
              "        vertical-align: middle;\n",
              "    }\n",
              "\n",
              "    .dataframe tbody tr th {\n",
              "        vertical-align: top;\n",
              "    }\n",
              "\n",
              "    .dataframe thead th {\n",
              "        text-align: right;\n",
              "    }\n",
              "</style>\n",
              "<table border=\"1\" class=\"dataframe\">\n",
              "  <thead>\n",
              "    <tr style=\"text-align: right;\">\n",
              "      <th></th>\n",
              "      <th>n</th>\n",
              "      <th>comp</th>\n",
              "    </tr>\n",
              "  </thead>\n",
              "  <tbody>\n",
              "    <tr>\n",
              "      <th>0</th>\n",
              "      <td>n3</td>\n",
              "      <td>P0_0</td>\n",
              "    </tr>\n",
              "    <tr>\n",
              "      <th>1</th>\n",
              "      <td>n1</td>\n",
              "      <td>P0_0</td>\n",
              "    </tr>\n",
              "    <tr>\n",
              "      <th>2</th>\n",
              "      <td>n7</td>\n",
              "      <td>P0_1</td>\n",
              "    </tr>\n",
              "    <tr>\n",
              "      <th>3</th>\n",
              "      <td>n4</td>\n",
              "      <td>P0_2</td>\n",
              "    </tr>\n",
              "    <tr>\n",
              "      <th>4</th>\n",
              "      <td>n2</td>\n",
              "      <td>P0_0</td>\n",
              "    </tr>\n",
              "    <tr>\n",
              "      <th>5</th>\n",
              "      <td>n5</td>\n",
              "      <td>P0_1</td>\n",
              "    </tr>\n",
              "    <tr>\n",
              "      <th>6</th>\n",
              "      <td>n6</td>\n",
              "      <td>P0_2</td>\n",
              "    </tr>\n",
              "  </tbody>\n",
              "</table>\n",
              "</div>"
            ],
            "text/plain": [
              "<google.colab.data_table.DataTable object>"
            ]
          },
          "execution_count": 26,
          "metadata": {},
          "output_type": "execute_result"
        }
      ],
      "source": [
        "from pyspark.sql.functions import col, when\n",
        "\n",
        "G0_Comp_unique = G0_Comp[['n', 'comp']].copy()\n",
        "G0_Comp_unique['comp'] = 'P0_' + G0_Comp_unique['comp'].astype(str)\n",
        "G0_Comp_unique.to_parquet(\"composantes_uniques_0\")\n",
        "G0_comp_unique = spark.read.format(\"parquet\").load(\"composantes_uniques_0\")\n",
        "\n",
        "display(G0_comp_unique)"
      ]
    },
    {
      "cell_type": "code",
      "execution_count": 27,
      "metadata": {
        "colab": {
          "base_uri": "https://localhost:8080/",
          "height": 270
        },
        "id": "n7kowViNtOLk",
        "outputId": "81fd3b0c-aeae-424d-e537-e79d2f1c7f53"
      },
      "outputs": [
        {
          "data": {
            "application/vnd.google.colaboratory.module+javascript": "\n      import \"https://ssl.gstatic.com/colaboratory/data_table/881c4a0d49046431/data_table.js\";\n\n      const table = window.createDataTable({\n        data: [[\"n7\",\n\"P1_0\"],\n [\"n4\",\n\"P1_1\"],\n [\"n2\",\n\"P1_2\"],\n [\"n6\",\n\"P1_0\"],\n [\"n5\",\n\"P1_1\"],\n [\"n3\",\n\"P1_2\"],\n [\"n8\",\n\"P1_1\"]],\n        columns: [[\"string\", \"n\"], [\"string\", \"comp\"]],\n        columnOptions: [],\n        rowsPerPage: 10,\n        helpUrl: \"https://colab.research.google.com/notebooks/data_table.ipynb\",\n        suppressOutputScrolling: true,\n        minimumWidth: undefined,\n      });\n\n      function appendQuickchartButton(parentElement) {\n        let quickchartButtonContainerElement = document.createElement('div');\n        quickchartButtonContainerElement.innerHTML = `\n<div id=\"df-d0c58043-47f6-43a3-9023-c65052007a28\">\n  <button class=\"colab-df-quickchart\" onclick=\"quickchart('df-d0c58043-47f6-43a3-9023-c65052007a28')\"\n            title=\"Suggest charts\"\n            style=\"display:none;\">\n    \n<svg xmlns=\"http://www.w3.org/2000/svg\" height=\"24px\"viewBox=\"0 0 24 24\"\n     width=\"24px\">\n    <g>\n        <path d=\"M19 3H5c-1.1 0-2 .9-2 2v14c0 1.1.9 2 2 2h14c1.1 0 2-.9 2-2V5c0-1.1-.9-2-2-2zM9 17H7v-7h2v7zm4 0h-2V7h2v10zm4 0h-2v-4h2v4z\"/>\n    </g>\n</svg>\n  </button>\n  \n<style>\n  .colab-df-quickchart {\n      --bg-color: #E8F0FE;\n      --fill-color: #1967D2;\n      --hover-bg-color: #E2EBFA;\n      --hover-fill-color: #174EA6;\n      --disabled-fill-color: #AAA;\n      --disabled-bg-color: #DDD;\n  }\n\n  [theme=dark] .colab-df-quickchart {\n      --bg-color: #3B4455;\n      --fill-color: #D2E3FC;\n      --hover-bg-color: #434B5C;\n      --hover-fill-color: #FFFFFF;\n      --disabled-bg-color: #3B4455;\n      --disabled-fill-color: #666;\n  }\n\n  .colab-df-quickchart {\n    background-color: var(--bg-color);\n    border: none;\n    border-radius: 50%;\n    cursor: pointer;\n    display: none;\n    fill: var(--fill-color);\n    height: 32px;\n    padding: 0;\n    width: 32px;\n  }\n\n  .colab-df-quickchart:hover {\n    background-color: var(--hover-bg-color);\n    box-shadow: 0 1px 2px rgba(60, 64, 67, 0.3), 0 1px 3px 1px rgba(60, 64, 67, 0.15);\n    fill: var(--button-hover-fill-color);\n  }\n\n  .colab-df-quickchart-complete:disabled,\n  .colab-df-quickchart-complete:disabled:hover {\n    background-color: var(--disabled-bg-color);\n    fill: var(--disabled-fill-color);\n    box-shadow: none;\n  }\n\n  .colab-df-spinner {\n    border: 2px solid var(--fill-color);\n    border-color: transparent;\n    border-bottom-color: var(--fill-color);\n    animation:\n      spin 1s steps(1) infinite;\n  }\n\n  @keyframes spin {\n    0% {\n      border-color: transparent;\n      border-bottom-color: var(--fill-color);\n      border-left-color: var(--fill-color);\n    }\n    20% {\n      border-color: transparent;\n      border-left-color: var(--fill-color);\n      border-top-color: var(--fill-color);\n    }\n    30% {\n      border-color: transparent;\n      border-left-color: var(--fill-color);\n      border-top-color: var(--fill-color);\n      border-right-color: var(--fill-color);\n    }\n    40% {\n      border-color: transparent;\n      border-right-color: var(--fill-color);\n      border-top-color: var(--fill-color);\n    }\n    60% {\n      border-color: transparent;\n      border-right-color: var(--fill-color);\n    }\n    80% {\n      border-color: transparent;\n      border-right-color: var(--fill-color);\n      border-bottom-color: var(--fill-color);\n    }\n    90% {\n      border-color: transparent;\n      border-bottom-color: var(--fill-color);\n    }\n  }\n</style>\n\n  <script>\n    async function quickchart(key) {\n      const quickchartButtonEl =\n        document.querySelector('#' + key + ' button');\n      quickchartButtonEl.disabled = true;  // To prevent multiple clicks.\n      quickchartButtonEl.classList.add('colab-df-spinner');\n      try {\n        const charts = await google.colab.kernel.invokeFunction(\n            'suggestCharts', [key], {});\n      } catch (error) {\n        console.error('Error during call to suggestCharts:', error);\n      }\n      quickchartButtonEl.classList.remove('colab-df-spinner');\n      quickchartButtonEl.classList.add('colab-df-quickchart-complete');\n    }\n    (() => {\n      let quickchartButtonEl =\n        document.querySelector('#df-d0c58043-47f6-43a3-9023-c65052007a28 button');\n      quickchartButtonEl.style.display =\n        google.colab.kernel.accessAllowed ? 'block' : 'none';\n    })();\n  </script>\n</div>`;\n        parentElement.appendChild(quickchartButtonContainerElement);\n      }\n\n      appendQuickchartButton(table);\n    ",
            "text/html": [
              "<div>\n",
              "<style scoped>\n",
              "    .dataframe tbody tr th:only-of-type {\n",
              "        vertical-align: middle;\n",
              "    }\n",
              "\n",
              "    .dataframe tbody tr th {\n",
              "        vertical-align: top;\n",
              "    }\n",
              "\n",
              "    .dataframe thead th {\n",
              "        text-align: right;\n",
              "    }\n",
              "</style>\n",
              "<table border=\"1\" class=\"dataframe\">\n",
              "  <thead>\n",
              "    <tr style=\"text-align: right;\">\n",
              "      <th></th>\n",
              "      <th>n</th>\n",
              "      <th>comp</th>\n",
              "    </tr>\n",
              "  </thead>\n",
              "  <tbody>\n",
              "    <tr>\n",
              "      <th>0</th>\n",
              "      <td>n7</td>\n",
              "      <td>P1_0</td>\n",
              "    </tr>\n",
              "    <tr>\n",
              "      <th>1</th>\n",
              "      <td>n4</td>\n",
              "      <td>P1_1</td>\n",
              "    </tr>\n",
              "    <tr>\n",
              "      <th>2</th>\n",
              "      <td>n2</td>\n",
              "      <td>P1_2</td>\n",
              "    </tr>\n",
              "    <tr>\n",
              "      <th>3</th>\n",
              "      <td>n6</td>\n",
              "      <td>P1_0</td>\n",
              "    </tr>\n",
              "    <tr>\n",
              "      <th>4</th>\n",
              "      <td>n5</td>\n",
              "      <td>P1_1</td>\n",
              "    </tr>\n",
              "    <tr>\n",
              "      <th>5</th>\n",
              "      <td>n3</td>\n",
              "      <td>P1_2</td>\n",
              "    </tr>\n",
              "    <tr>\n",
              "      <th>6</th>\n",
              "      <td>n8</td>\n",
              "      <td>P1_1</td>\n",
              "    </tr>\n",
              "  </tbody>\n",
              "</table>\n",
              "</div>"
            ],
            "text/plain": [
              "<google.colab.data_table.DataTable object>"
            ]
          },
          "execution_count": 27,
          "metadata": {},
          "output_type": "execute_result"
        }
      ],
      "source": [
        "G1_comp_unique = G1_Comp[['n', 'comp']].copy()\n",
        "G1_comp_unique['comp'] = 'P1_' + G1_comp_unique['comp'].astype(str)\n",
        "G1_comp_unique.to_parquet(\"composantes_uniques_1\")\n",
        "G1_comp_unique = spark.read.format(\"parquet\").load(\"composantes_uniques_1\")\n",
        "\n",
        "display(G1_comp_unique)"
      ]
    },
    {
      "cell_type": "markdown",
      "metadata": {
        "id": "B5gatoOXaB3Z"
      },
      "source": [
        "We want to determine which nodes are present in several components.\n",
        "A node can appear in both G0_comp_unique and G1_comp_unique.\n",
        "\n",
        "However, we can't combine G0_comp_unique and G1_comp_unique\n",
        "in a single file, as it would be too large (in general, it can contain up to number of nodes * number of line partitions).\n",
        "\n",
        "So we propose to **distribute**, in several dataframes, the data from G0_comp_unique and G1_comp_unique according to the value of node n.\n",
        "\n",
        "Separate the data from G0_comp_unique and G1_comp_unique into two dataframes such as:\n",
        "  **N1_a_N4**(n,comp) contains all lines concerning nodes 1 to 4.\n",
        "  **N5_a_N8**(n,comp) contains all rows for nodes 5 to 8."
      ]
    },
    {
      "cell_type": "code",
      "execution_count": 28,
      "metadata": {
        "colab": {
          "base_uri": "https://localhost:8080/",
          "height": 270
        },
        "id": "GIL06xwFbyQy",
        "outputId": "0333434f-1fff-4309-82b5-f0493ee91c50"
      },
      "outputs": [
        {
          "data": {
            "application/vnd.google.colaboratory.module+javascript": "\n      import \"https://ssl.gstatic.com/colaboratory/data_table/881c4a0d49046431/data_table.js\";\n\n      const table = window.createDataTable({\n        data: [[\"n3\",\n\"P0_0\"],\n [\"n1\",\n\"P0_0\"],\n [\"n4\",\n\"P0_2\"],\n [\"n2\",\n\"P0_0\"],\n [\"n4\",\n\"P1_1\"],\n [\"n2\",\n\"P1_2\"],\n [\"n3\",\n\"P1_2\"]],\n        columns: [[\"string\", \"n\"], [\"string\", \"comp\"]],\n        columnOptions: [],\n        rowsPerPage: 10,\n        helpUrl: \"https://colab.research.google.com/notebooks/data_table.ipynb\",\n        suppressOutputScrolling: true,\n        minimumWidth: undefined,\n      });\n\n      function appendQuickchartButton(parentElement) {\n        let quickchartButtonContainerElement = document.createElement('div');\n        quickchartButtonContainerElement.innerHTML = `\n<div id=\"df-356fc854-a860-4eda-ba80-993da1cdff35\">\n  <button class=\"colab-df-quickchart\" onclick=\"quickchart('df-356fc854-a860-4eda-ba80-993da1cdff35')\"\n            title=\"Suggest charts\"\n            style=\"display:none;\">\n    \n<svg xmlns=\"http://www.w3.org/2000/svg\" height=\"24px\"viewBox=\"0 0 24 24\"\n     width=\"24px\">\n    <g>\n        <path d=\"M19 3H5c-1.1 0-2 .9-2 2v14c0 1.1.9 2 2 2h14c1.1 0 2-.9 2-2V5c0-1.1-.9-2-2-2zM9 17H7v-7h2v7zm4 0h-2V7h2v10zm4 0h-2v-4h2v4z\"/>\n    </g>\n</svg>\n  </button>\n  \n<style>\n  .colab-df-quickchart {\n      --bg-color: #E8F0FE;\n      --fill-color: #1967D2;\n      --hover-bg-color: #E2EBFA;\n      --hover-fill-color: #174EA6;\n      --disabled-fill-color: #AAA;\n      --disabled-bg-color: #DDD;\n  }\n\n  [theme=dark] .colab-df-quickchart {\n      --bg-color: #3B4455;\n      --fill-color: #D2E3FC;\n      --hover-bg-color: #434B5C;\n      --hover-fill-color: #FFFFFF;\n      --disabled-bg-color: #3B4455;\n      --disabled-fill-color: #666;\n  }\n\n  .colab-df-quickchart {\n    background-color: var(--bg-color);\n    border: none;\n    border-radius: 50%;\n    cursor: pointer;\n    display: none;\n    fill: var(--fill-color);\n    height: 32px;\n    padding: 0;\n    width: 32px;\n  }\n\n  .colab-df-quickchart:hover {\n    background-color: var(--hover-bg-color);\n    box-shadow: 0 1px 2px rgba(60, 64, 67, 0.3), 0 1px 3px 1px rgba(60, 64, 67, 0.15);\n    fill: var(--button-hover-fill-color);\n  }\n\n  .colab-df-quickchart-complete:disabled,\n  .colab-df-quickchart-complete:disabled:hover {\n    background-color: var(--disabled-bg-color);\n    fill: var(--disabled-fill-color);\n    box-shadow: none;\n  }\n\n  .colab-df-spinner {\n    border: 2px solid var(--fill-color);\n    border-color: transparent;\n    border-bottom-color: var(--fill-color);\n    animation:\n      spin 1s steps(1) infinite;\n  }\n\n  @keyframes spin {\n    0% {\n      border-color: transparent;\n      border-bottom-color: var(--fill-color);\n      border-left-color: var(--fill-color);\n    }\n    20% {\n      border-color: transparent;\n      border-left-color: var(--fill-color);\n      border-top-color: var(--fill-color);\n    }\n    30% {\n      border-color: transparent;\n      border-left-color: var(--fill-color);\n      border-top-color: var(--fill-color);\n      border-right-color: var(--fill-color);\n    }\n    40% {\n      border-color: transparent;\n      border-right-color: var(--fill-color);\n      border-top-color: var(--fill-color);\n    }\n    60% {\n      border-color: transparent;\n      border-right-color: var(--fill-color);\n    }\n    80% {\n      border-color: transparent;\n      border-right-color: var(--fill-color);\n      border-bottom-color: var(--fill-color);\n    }\n    90% {\n      border-color: transparent;\n      border-bottom-color: var(--fill-color);\n    }\n  }\n</style>\n\n  <script>\n    async function quickchart(key) {\n      const quickchartButtonEl =\n        document.querySelector('#' + key + ' button');\n      quickchartButtonEl.disabled = true;  // To prevent multiple clicks.\n      quickchartButtonEl.classList.add('colab-df-spinner');\n      try {\n        const charts = await google.colab.kernel.invokeFunction(\n            'suggestCharts', [key], {});\n      } catch (error) {\n        console.error('Error during call to suggestCharts:', error);\n      }\n      quickchartButtonEl.classList.remove('colab-df-spinner');\n      quickchartButtonEl.classList.add('colab-df-quickchart-complete');\n    }\n    (() => {\n      let quickchartButtonEl =\n        document.querySelector('#df-356fc854-a860-4eda-ba80-993da1cdff35 button');\n      quickchartButtonEl.style.display =\n        google.colab.kernel.accessAllowed ? 'block' : 'none';\n    })();\n  </script>\n</div>`;\n        parentElement.appendChild(quickchartButtonContainerElement);\n      }\n\n      appendQuickchartButton(table);\n    ",
            "text/html": [
              "<div>\n",
              "<style scoped>\n",
              "    .dataframe tbody tr th:only-of-type {\n",
              "        vertical-align: middle;\n",
              "    }\n",
              "\n",
              "    .dataframe tbody tr th {\n",
              "        vertical-align: top;\n",
              "    }\n",
              "\n",
              "    .dataframe thead th {\n",
              "        text-align: right;\n",
              "    }\n",
              "</style>\n",
              "<table border=\"1\" class=\"dataframe\">\n",
              "  <thead>\n",
              "    <tr style=\"text-align: right;\">\n",
              "      <th></th>\n",
              "      <th>n</th>\n",
              "      <th>comp</th>\n",
              "    </tr>\n",
              "  </thead>\n",
              "  <tbody>\n",
              "    <tr>\n",
              "      <th>0</th>\n",
              "      <td>n3</td>\n",
              "      <td>P0_0</td>\n",
              "    </tr>\n",
              "    <tr>\n",
              "      <th>1</th>\n",
              "      <td>n1</td>\n",
              "      <td>P0_0</td>\n",
              "    </tr>\n",
              "    <tr>\n",
              "      <th>2</th>\n",
              "      <td>n4</td>\n",
              "      <td>P0_2</td>\n",
              "    </tr>\n",
              "    <tr>\n",
              "      <th>3</th>\n",
              "      <td>n2</td>\n",
              "      <td>P0_0</td>\n",
              "    </tr>\n",
              "    <tr>\n",
              "      <th>4</th>\n",
              "      <td>n4</td>\n",
              "      <td>P1_1</td>\n",
              "    </tr>\n",
              "    <tr>\n",
              "      <th>5</th>\n",
              "      <td>n2</td>\n",
              "      <td>P1_2</td>\n",
              "    </tr>\n",
              "    <tr>\n",
              "      <th>6</th>\n",
              "      <td>n3</td>\n",
              "      <td>P1_2</td>\n",
              "    </tr>\n",
              "  </tbody>\n",
              "</table>\n",
              "</div>"
            ],
            "text/plain": [
              "<google.colab.data_table.DataTable object>"
            ]
          },
          "execution_count": 28,
          "metadata": {},
          "output_type": "execute_result"
        }
      ],
      "source": [
        "N1_a_N4_0 = G0_comp_unique.select('n', 'comp').where(G0_comp_unique.n.substr(2,1).cast(IntegerType()) <= 4)\n",
        "N1_a_N4_1 = G1_comp_unique.select('n', 'comp').where(G1_comp_unique.n.substr(2,1).cast(IntegerType()) <= 4)\n",
        "N1_a_N4 = N1_a_N4_0.union(N1_a_N4_1)\n",
        "display(N1_a_N4)"
      ]
    },
    {
      "cell_type": "code",
      "execution_count": 29,
      "metadata": {
        "colab": {
          "base_uri": "https://localhost:8080/",
          "height": 270
        },
        "id": "ZahlViAQibia",
        "outputId": "30734462-435b-4179-a30c-5d852dfbad3f"
      },
      "outputs": [
        {
          "data": {
            "application/vnd.google.colaboratory.module+javascript": "\n      import \"https://ssl.gstatic.com/colaboratory/data_table/881c4a0d49046431/data_table.js\";\n\n      const table = window.createDataTable({\n        data: [[\"n7\",\n\"P0_1\"],\n [\"n5\",\n\"P0_1\"],\n [\"n6\",\n\"P0_2\"],\n [\"n7\",\n\"P1_0\"],\n [\"n6\",\n\"P1_0\"],\n [\"n5\",\n\"P1_1\"],\n [\"n8\",\n\"P1_1\"]],\n        columns: [[\"string\", \"n\"], [\"string\", \"comp\"]],\n        columnOptions: [],\n        rowsPerPage: 10,\n        helpUrl: \"https://colab.research.google.com/notebooks/data_table.ipynb\",\n        suppressOutputScrolling: true,\n        minimumWidth: undefined,\n      });\n\n      function appendQuickchartButton(parentElement) {\n        let quickchartButtonContainerElement = document.createElement('div');\n        quickchartButtonContainerElement.innerHTML = `\n<div id=\"df-e1982e2a-f3c3-4741-9810-969a543db13d\">\n  <button class=\"colab-df-quickchart\" onclick=\"quickchart('df-e1982e2a-f3c3-4741-9810-969a543db13d')\"\n            title=\"Suggest charts\"\n            style=\"display:none;\">\n    \n<svg xmlns=\"http://www.w3.org/2000/svg\" height=\"24px\"viewBox=\"0 0 24 24\"\n     width=\"24px\">\n    <g>\n        <path d=\"M19 3H5c-1.1 0-2 .9-2 2v14c0 1.1.9 2 2 2h14c1.1 0 2-.9 2-2V5c0-1.1-.9-2-2-2zM9 17H7v-7h2v7zm4 0h-2V7h2v10zm4 0h-2v-4h2v4z\"/>\n    </g>\n</svg>\n  </button>\n  \n<style>\n  .colab-df-quickchart {\n      --bg-color: #E8F0FE;\n      --fill-color: #1967D2;\n      --hover-bg-color: #E2EBFA;\n      --hover-fill-color: #174EA6;\n      --disabled-fill-color: #AAA;\n      --disabled-bg-color: #DDD;\n  }\n\n  [theme=dark] .colab-df-quickchart {\n      --bg-color: #3B4455;\n      --fill-color: #D2E3FC;\n      --hover-bg-color: #434B5C;\n      --hover-fill-color: #FFFFFF;\n      --disabled-bg-color: #3B4455;\n      --disabled-fill-color: #666;\n  }\n\n  .colab-df-quickchart {\n    background-color: var(--bg-color);\n    border: none;\n    border-radius: 50%;\n    cursor: pointer;\n    display: none;\n    fill: var(--fill-color);\n    height: 32px;\n    padding: 0;\n    width: 32px;\n  }\n\n  .colab-df-quickchart:hover {\n    background-color: var(--hover-bg-color);\n    box-shadow: 0 1px 2px rgba(60, 64, 67, 0.3), 0 1px 3px 1px rgba(60, 64, 67, 0.15);\n    fill: var(--button-hover-fill-color);\n  }\n\n  .colab-df-quickchart-complete:disabled,\n  .colab-df-quickchart-complete:disabled:hover {\n    background-color: var(--disabled-bg-color);\n    fill: var(--disabled-fill-color);\n    box-shadow: none;\n  }\n\n  .colab-df-spinner {\n    border: 2px solid var(--fill-color);\n    border-color: transparent;\n    border-bottom-color: var(--fill-color);\n    animation:\n      spin 1s steps(1) infinite;\n  }\n\n  @keyframes spin {\n    0% {\n      border-color: transparent;\n      border-bottom-color: var(--fill-color);\n      border-left-color: var(--fill-color);\n    }\n    20% {\n      border-color: transparent;\n      border-left-color: var(--fill-color);\n      border-top-color: var(--fill-color);\n    }\n    30% {\n      border-color: transparent;\n      border-left-color: var(--fill-color);\n      border-top-color: var(--fill-color);\n      border-right-color: var(--fill-color);\n    }\n    40% {\n      border-color: transparent;\n      border-right-color: var(--fill-color);\n      border-top-color: var(--fill-color);\n    }\n    60% {\n      border-color: transparent;\n      border-right-color: var(--fill-color);\n    }\n    80% {\n      border-color: transparent;\n      border-right-color: var(--fill-color);\n      border-bottom-color: var(--fill-color);\n    }\n    90% {\n      border-color: transparent;\n      border-bottom-color: var(--fill-color);\n    }\n  }\n</style>\n\n  <script>\n    async function quickchart(key) {\n      const quickchartButtonEl =\n        document.querySelector('#' + key + ' button');\n      quickchartButtonEl.disabled = true;  // To prevent multiple clicks.\n      quickchartButtonEl.classList.add('colab-df-spinner');\n      try {\n        const charts = await google.colab.kernel.invokeFunction(\n            'suggestCharts', [key], {});\n      } catch (error) {\n        console.error('Error during call to suggestCharts:', error);\n      }\n      quickchartButtonEl.classList.remove('colab-df-spinner');\n      quickchartButtonEl.classList.add('colab-df-quickchart-complete');\n    }\n    (() => {\n      let quickchartButtonEl =\n        document.querySelector('#df-e1982e2a-f3c3-4741-9810-969a543db13d button');\n      quickchartButtonEl.style.display =\n        google.colab.kernel.accessAllowed ? 'block' : 'none';\n    })();\n  </script>\n</div>`;\n        parentElement.appendChild(quickchartButtonContainerElement);\n      }\n\n      appendQuickchartButton(table);\n    ",
            "text/html": [
              "<div>\n",
              "<style scoped>\n",
              "    .dataframe tbody tr th:only-of-type {\n",
              "        vertical-align: middle;\n",
              "    }\n",
              "\n",
              "    .dataframe tbody tr th {\n",
              "        vertical-align: top;\n",
              "    }\n",
              "\n",
              "    .dataframe thead th {\n",
              "        text-align: right;\n",
              "    }\n",
              "</style>\n",
              "<table border=\"1\" class=\"dataframe\">\n",
              "  <thead>\n",
              "    <tr style=\"text-align: right;\">\n",
              "      <th></th>\n",
              "      <th>n</th>\n",
              "      <th>comp</th>\n",
              "    </tr>\n",
              "  </thead>\n",
              "  <tbody>\n",
              "    <tr>\n",
              "      <th>0</th>\n",
              "      <td>n7</td>\n",
              "      <td>P0_1</td>\n",
              "    </tr>\n",
              "    <tr>\n",
              "      <th>1</th>\n",
              "      <td>n5</td>\n",
              "      <td>P0_1</td>\n",
              "    </tr>\n",
              "    <tr>\n",
              "      <th>2</th>\n",
              "      <td>n6</td>\n",
              "      <td>P0_2</td>\n",
              "    </tr>\n",
              "    <tr>\n",
              "      <th>3</th>\n",
              "      <td>n7</td>\n",
              "      <td>P1_0</td>\n",
              "    </tr>\n",
              "    <tr>\n",
              "      <th>4</th>\n",
              "      <td>n6</td>\n",
              "      <td>P1_0</td>\n",
              "    </tr>\n",
              "    <tr>\n",
              "      <th>5</th>\n",
              "      <td>n5</td>\n",
              "      <td>P1_1</td>\n",
              "    </tr>\n",
              "    <tr>\n",
              "      <th>6</th>\n",
              "      <td>n8</td>\n",
              "      <td>P1_1</td>\n",
              "    </tr>\n",
              "  </tbody>\n",
              "</table>\n",
              "</div>"
            ],
            "text/plain": [
              "<google.colab.data_table.DataTable object>"
            ]
          },
          "execution_count": 29,
          "metadata": {},
          "output_type": "execute_result"
        }
      ],
      "source": [
        "N5_a_N8_0 = G0_comp_unique.select('n', 'comp').where(G0_comp_unique.n.substr(2,1).cast(IntegerType()) > 4)\n",
        "N5_a_N8_1 = G1_comp_unique.select('n', 'comp').where(G1_comp_unique.n.substr(2,1).cast(IntegerType()) > 4)\n",
        "N5_a_N8 = N5_a_N8_0.union(N5_a_N8_1)\n",
        "display(N5_a_N8)"
      ]
    },
    {
      "cell_type": "markdown",
      "metadata": {
        "id": "pu2HNOMGruk8"
      },
      "source": [
        "From the N1_a_N4 relationship, we determine the pairs of components\n",
        "Comp_edges_a(from, to) that have a common node and such that\n",
        "  *from* is a component of P0\n",
        "  * *to* is a component of P1.\n",
        "\n",
        "Perform the same calculation from N5_a_N8 to obtain Comp_edges_b(from, to).\n",
        "\n",
        "Then combine the results in a relationship to be called **Comp_edges**(from, to)"
      ]
    },
    {
      "cell_type": "code",
      "execution_count": 30,
      "metadata": {
        "colab": {
          "base_uri": "https://localhost:8080/",
          "height": 185
        },
        "id": "Yd9DU4qpJ08S",
        "outputId": "79691290-e45a-48b1-ff1d-fc86572ea2c3"
      },
      "outputs": [
        {
          "data": {
            "application/vnd.google.colaboratory.module+javascript": "\n      import \"https://ssl.gstatic.com/colaboratory/data_table/881c4a0d49046431/data_table.js\";\n\n      const table = window.createDataTable({\n        data: [[\"P0_1\",\n\"P1_1\"],\n [\"P0_2\",\n\"P1_0\"],\n [\"P0_1\",\n\"P1_0\"]],\n        columns: [[\"string\", \"from\"], [\"string\", \"to\"]],\n        columnOptions: [],\n        rowsPerPage: 10,\n        helpUrl: \"https://colab.research.google.com/notebooks/data_table.ipynb\",\n        suppressOutputScrolling: true,\n        minimumWidth: undefined,\n      });\n\n      function appendQuickchartButton(parentElement) {\n        let quickchartButtonContainerElement = document.createElement('div');\n        quickchartButtonContainerElement.innerHTML = `\n<div id=\"df-a337410e-06fa-45e1-9dc1-4b776e04762d\">\n  <button class=\"colab-df-quickchart\" onclick=\"quickchart('df-a337410e-06fa-45e1-9dc1-4b776e04762d')\"\n            title=\"Suggest charts\"\n            style=\"display:none;\">\n    \n<svg xmlns=\"http://www.w3.org/2000/svg\" height=\"24px\"viewBox=\"0 0 24 24\"\n     width=\"24px\">\n    <g>\n        <path d=\"M19 3H5c-1.1 0-2 .9-2 2v14c0 1.1.9 2 2 2h14c1.1 0 2-.9 2-2V5c0-1.1-.9-2-2-2zM9 17H7v-7h2v7zm4 0h-2V7h2v10zm4 0h-2v-4h2v4z\"/>\n    </g>\n</svg>\n  </button>\n  \n<style>\n  .colab-df-quickchart {\n      --bg-color: #E8F0FE;\n      --fill-color: #1967D2;\n      --hover-bg-color: #E2EBFA;\n      --hover-fill-color: #174EA6;\n      --disabled-fill-color: #AAA;\n      --disabled-bg-color: #DDD;\n  }\n\n  [theme=dark] .colab-df-quickchart {\n      --bg-color: #3B4455;\n      --fill-color: #D2E3FC;\n      --hover-bg-color: #434B5C;\n      --hover-fill-color: #FFFFFF;\n      --disabled-bg-color: #3B4455;\n      --disabled-fill-color: #666;\n  }\n\n  .colab-df-quickchart {\n    background-color: var(--bg-color);\n    border: none;\n    border-radius: 50%;\n    cursor: pointer;\n    display: none;\n    fill: var(--fill-color);\n    height: 32px;\n    padding: 0;\n    width: 32px;\n  }\n\n  .colab-df-quickchart:hover {\n    background-color: var(--hover-bg-color);\n    box-shadow: 0 1px 2px rgba(60, 64, 67, 0.3), 0 1px 3px 1px rgba(60, 64, 67, 0.15);\n    fill: var(--button-hover-fill-color);\n  }\n\n  .colab-df-quickchart-complete:disabled,\n  .colab-df-quickchart-complete:disabled:hover {\n    background-color: var(--disabled-bg-color);\n    fill: var(--disabled-fill-color);\n    box-shadow: none;\n  }\n\n  .colab-df-spinner {\n    border: 2px solid var(--fill-color);\n    border-color: transparent;\n    border-bottom-color: var(--fill-color);\n    animation:\n      spin 1s steps(1) infinite;\n  }\n\n  @keyframes spin {\n    0% {\n      border-color: transparent;\n      border-bottom-color: var(--fill-color);\n      border-left-color: var(--fill-color);\n    }\n    20% {\n      border-color: transparent;\n      border-left-color: var(--fill-color);\n      border-top-color: var(--fill-color);\n    }\n    30% {\n      border-color: transparent;\n      border-left-color: var(--fill-color);\n      border-top-color: var(--fill-color);\n      border-right-color: var(--fill-color);\n    }\n    40% {\n      border-color: transparent;\n      border-right-color: var(--fill-color);\n      border-top-color: var(--fill-color);\n    }\n    60% {\n      border-color: transparent;\n      border-right-color: var(--fill-color);\n    }\n    80% {\n      border-color: transparent;\n      border-right-color: var(--fill-color);\n      border-bottom-color: var(--fill-color);\n    }\n    90% {\n      border-color: transparent;\n      border-bottom-color: var(--fill-color);\n    }\n  }\n</style>\n\n  <script>\n    async function quickchart(key) {\n      const quickchartButtonEl =\n        document.querySelector('#' + key + ' button');\n      quickchartButtonEl.disabled = true;  // To prevent multiple clicks.\n      quickchartButtonEl.classList.add('colab-df-spinner');\n      try {\n        const charts = await google.colab.kernel.invokeFunction(\n            'suggestCharts', [key], {});\n      } catch (error) {\n        console.error('Error during call to suggestCharts:', error);\n      }\n      quickchartButtonEl.classList.remove('colab-df-spinner');\n      quickchartButtonEl.classList.add('colab-df-quickchart-complete');\n    }\n    (() => {\n      let quickchartButtonEl =\n        document.querySelector('#df-a337410e-06fa-45e1-9dc1-4b776e04762d button');\n      quickchartButtonEl.style.display =\n        google.colab.kernel.accessAllowed ? 'block' : 'none';\n    })();\n  </script>\n</div>`;\n        parentElement.appendChild(quickchartButtonContainerElement);\n      }\n\n      appendQuickchartButton(table);\n    ",
            "text/html": [
              "<div>\n",
              "<style scoped>\n",
              "    .dataframe tbody tr th:only-of-type {\n",
              "        vertical-align: middle;\n",
              "    }\n",
              "\n",
              "    .dataframe tbody tr th {\n",
              "        vertical-align: top;\n",
              "    }\n",
              "\n",
              "    .dataframe thead th {\n",
              "        text-align: right;\n",
              "    }\n",
              "</style>\n",
              "<table border=\"1\" class=\"dataframe\">\n",
              "  <thead>\n",
              "    <tr style=\"text-align: right;\">\n",
              "      <th></th>\n",
              "      <th>from</th>\n",
              "      <th>to</th>\n",
              "    </tr>\n",
              "  </thead>\n",
              "  <tbody>\n",
              "    <tr>\n",
              "      <th>0</th>\n",
              "      <td>P0_1</td>\n",
              "      <td>P1_1</td>\n",
              "    </tr>\n",
              "    <tr>\n",
              "      <th>1</th>\n",
              "      <td>P0_2</td>\n",
              "      <td>P1_0</td>\n",
              "    </tr>\n",
              "    <tr>\n",
              "      <th>2</th>\n",
              "      <td>P0_1</td>\n",
              "      <td>P1_0</td>\n",
              "    </tr>\n",
              "  </tbody>\n",
              "</table>\n",
              "</div>"
            ],
            "text/plain": [
              "<google.colab.data_table.DataTable object>"
            ]
          },
          "execution_count": 30,
          "metadata": {},
          "output_type": "execute_result"
        }
      ],
      "source": [
        "df_p0 = N5_a_N8.filter(col(\"comp\").like(\"P0%\"))\n",
        "df_p1 = N5_a_N8.filter(col(\"comp\").like(\"P1%\"))\n",
        "\n",
        "result = df_p0.alias('df0').join(df_p1.alias('df1'), col(\"df0.n\") == col(\"df1.n\")).select(\n",
        "    col(\"df0.comp\").alias(\"from\"),\n",
        "    col(\"df1.comp\").alias(\"to\")\n",
        ")\n",
        "\n",
        "display(result)"
      ]
    },
    {
      "cell_type": "code",
      "execution_count": 31,
      "metadata": {
        "colab": {
          "base_uri": "https://localhost:8080/",
          "height": 249
        },
        "id": "BE4DwSxTuY6x",
        "outputId": "3749dbb9-ae9a-4476-c450-5407d8b0a53f"
      },
      "outputs": [
        {
          "data": {
            "application/vnd.google.colaboratory.module+javascript": "\n      import \"https://ssl.gstatic.com/colaboratory/data_table/881c4a0d49046431/data_table.js\";\n\n      const table = window.createDataTable({\n        data: [[\"P0_1\",\n\"P1_1\"],\n [\"P0_2\",\n\"P1_0\"],\n [\"P0_1\",\n\"P1_0\"],\n [\"P0_0\",\n\"P1_2\"],\n [\"P0_0\",\n\"P1_2\"],\n [\"P0_2\",\n\"P1_1\"]],\n        columns: [[\"string\", \"from_comp\"], [\"string\", \"to_comp\"]],\n        columnOptions: [],\n        rowsPerPage: 10,\n        helpUrl: \"https://colab.research.google.com/notebooks/data_table.ipynb\",\n        suppressOutputScrolling: true,\n        minimumWidth: undefined,\n      });\n\n      function appendQuickchartButton(parentElement) {\n        let quickchartButtonContainerElement = document.createElement('div');\n        quickchartButtonContainerElement.innerHTML = `\n<div id=\"df-8647066b-6299-455b-9a1e-3898b3d9f369\">\n  <button class=\"colab-df-quickchart\" onclick=\"quickchart('df-8647066b-6299-455b-9a1e-3898b3d9f369')\"\n            title=\"Suggest charts\"\n            style=\"display:none;\">\n    \n<svg xmlns=\"http://www.w3.org/2000/svg\" height=\"24px\"viewBox=\"0 0 24 24\"\n     width=\"24px\">\n    <g>\n        <path d=\"M19 3H5c-1.1 0-2 .9-2 2v14c0 1.1.9 2 2 2h14c1.1 0 2-.9 2-2V5c0-1.1-.9-2-2-2zM9 17H7v-7h2v7zm4 0h-2V7h2v10zm4 0h-2v-4h2v4z\"/>\n    </g>\n</svg>\n  </button>\n  \n<style>\n  .colab-df-quickchart {\n      --bg-color: #E8F0FE;\n      --fill-color: #1967D2;\n      --hover-bg-color: #E2EBFA;\n      --hover-fill-color: #174EA6;\n      --disabled-fill-color: #AAA;\n      --disabled-bg-color: #DDD;\n  }\n\n  [theme=dark] .colab-df-quickchart {\n      --bg-color: #3B4455;\n      --fill-color: #D2E3FC;\n      --hover-bg-color: #434B5C;\n      --hover-fill-color: #FFFFFF;\n      --disabled-bg-color: #3B4455;\n      --disabled-fill-color: #666;\n  }\n\n  .colab-df-quickchart {\n    background-color: var(--bg-color);\n    border: none;\n    border-radius: 50%;\n    cursor: pointer;\n    display: none;\n    fill: var(--fill-color);\n    height: 32px;\n    padding: 0;\n    width: 32px;\n  }\n\n  .colab-df-quickchart:hover {\n    background-color: var(--hover-bg-color);\n    box-shadow: 0 1px 2px rgba(60, 64, 67, 0.3), 0 1px 3px 1px rgba(60, 64, 67, 0.15);\n    fill: var(--button-hover-fill-color);\n  }\n\n  .colab-df-quickchart-complete:disabled,\n  .colab-df-quickchart-complete:disabled:hover {\n    background-color: var(--disabled-bg-color);\n    fill: var(--disabled-fill-color);\n    box-shadow: none;\n  }\n\n  .colab-df-spinner {\n    border: 2px solid var(--fill-color);\n    border-color: transparent;\n    border-bottom-color: var(--fill-color);\n    animation:\n      spin 1s steps(1) infinite;\n  }\n\n  @keyframes spin {\n    0% {\n      border-color: transparent;\n      border-bottom-color: var(--fill-color);\n      border-left-color: var(--fill-color);\n    }\n    20% {\n      border-color: transparent;\n      border-left-color: var(--fill-color);\n      border-top-color: var(--fill-color);\n    }\n    30% {\n      border-color: transparent;\n      border-left-color: var(--fill-color);\n      border-top-color: var(--fill-color);\n      border-right-color: var(--fill-color);\n    }\n    40% {\n      border-color: transparent;\n      border-right-color: var(--fill-color);\n      border-top-color: var(--fill-color);\n    }\n    60% {\n      border-color: transparent;\n      border-right-color: var(--fill-color);\n    }\n    80% {\n      border-color: transparent;\n      border-right-color: var(--fill-color);\n      border-bottom-color: var(--fill-color);\n    }\n    90% {\n      border-color: transparent;\n      border-bottom-color: var(--fill-color);\n    }\n  }\n</style>\n\n  <script>\n    async function quickchart(key) {\n      const quickchartButtonEl =\n        document.querySelector('#' + key + ' button');\n      quickchartButtonEl.disabled = true;  // To prevent multiple clicks.\n      quickchartButtonEl.classList.add('colab-df-spinner');\n      try {\n        const charts = await google.colab.kernel.invokeFunction(\n            'suggestCharts', [key], {});\n      } catch (error) {\n        console.error('Error during call to suggestCharts:', error);\n      }\n      quickchartButtonEl.classList.remove('colab-df-spinner');\n      quickchartButtonEl.classList.add('colab-df-quickchart-complete');\n    }\n    (() => {\n      let quickchartButtonEl =\n        document.querySelector('#df-8647066b-6299-455b-9a1e-3898b3d9f369 button');\n      quickchartButtonEl.style.display =\n        google.colab.kernel.accessAllowed ? 'block' : 'none';\n    })();\n  </script>\n</div>`;\n        parentElement.appendChild(quickchartButtonContainerElement);\n      }\n\n      appendQuickchartButton(table);\n    ",
            "text/html": [
              "<div>\n",
              "<style scoped>\n",
              "    .dataframe tbody tr th:only-of-type {\n",
              "        vertical-align: middle;\n",
              "    }\n",
              "\n",
              "    .dataframe tbody tr th {\n",
              "        vertical-align: top;\n",
              "    }\n",
              "\n",
              "    .dataframe thead th {\n",
              "        text-align: right;\n",
              "    }\n",
              "</style>\n",
              "<table border=\"1\" class=\"dataframe\">\n",
              "  <thead>\n",
              "    <tr style=\"text-align: right;\">\n",
              "      <th></th>\n",
              "      <th>from_comp</th>\n",
              "      <th>to_comp</th>\n",
              "    </tr>\n",
              "  </thead>\n",
              "  <tbody>\n",
              "    <tr>\n",
              "      <th>0</th>\n",
              "      <td>P0_1</td>\n",
              "      <td>P1_1</td>\n",
              "    </tr>\n",
              "    <tr>\n",
              "      <th>1</th>\n",
              "      <td>P0_2</td>\n",
              "      <td>P1_0</td>\n",
              "    </tr>\n",
              "    <tr>\n",
              "      <th>2</th>\n",
              "      <td>P0_1</td>\n",
              "      <td>P1_0</td>\n",
              "    </tr>\n",
              "    <tr>\n",
              "      <th>3</th>\n",
              "      <td>P0_0</td>\n",
              "      <td>P1_2</td>\n",
              "    </tr>\n",
              "    <tr>\n",
              "      <th>4</th>\n",
              "      <td>P0_0</td>\n",
              "      <td>P1_2</td>\n",
              "    </tr>\n",
              "    <tr>\n",
              "      <th>5</th>\n",
              "      <td>P0_2</td>\n",
              "      <td>P1_1</td>\n",
              "    </tr>\n",
              "  </tbody>\n",
              "</table>\n",
              "</div>"
            ],
            "text/plain": [
              "<google.colab.data_table.DataTable object>"
            ]
          },
          "execution_count": 31,
          "metadata": {},
          "output_type": "execute_result"
        }
      ],
      "source": [
        "df_p0 = N5_a_N8.filter(col(\"comp\").like(\"P0%\"))\n",
        "df_p1 = N5_a_N8.filter(col(\"comp\").like(\"P1%\"))\n",
        "\n",
        "Comp_edges_a = df_p0.alias('df0').join(df_p1.alias('df1'), col(\"df0.n\") == col(\"df1.n\")).select(\n",
        "    col(\"df0.comp\").alias(\"from_comp\"),\n",
        "    col(\"df1.comp\").alias(\"to_comp\")\n",
        ")\n",
        "\n",
        "df_p0_ = N1_a_N4.filter(col(\"comp\").like(\"P0%\"))\n",
        "df_p1_ = N1_a_N4.filter(col(\"comp\").like(\"P1%\"))\n",
        "\n",
        "Comp_edges_b = df_p0_.alias('df0').join(df_p1_.alias('df1'), col(\"df0.n\") == col(\"df1.n\")).select(\n",
        "    col(\"df0.comp\").alias(\"from_comp\"),\n",
        "    col(\"df1.comp\").alias(\"to_comp\")\n",
        ")\n",
        "\n",
        "Comp_edges = Comp_edges_a.union(Comp_edges_b)\n",
        "\n",
        "display(Comp_edges)"
      ]
    },
    {
      "cell_type": "code",
      "execution_count": 32,
      "metadata": {
        "colab": {
          "base_uri": "https://localhost:8080/",
          "height": 266
        },
        "id": "0BaJdbsKNOq9",
        "outputId": "ecac2740-02bf-46b5-f49f-2d0f6e1342ed"
      },
      "outputs": [
        {
          "name": "stdout",
          "output_type": "stream",
          "text": [
            "Le graphe Comp_edges a pour composantes :[('P0_1', 0), ('P0_2', 0), ('P0_0', 1), ('P1_0', 0), ('P1_1', 0), ('P1_2', 1)]\n"
          ]
        },
        {
          "data": {
            "application/vnd.google.colaboratory.module+javascript": "\n      import \"https://ssl.gstatic.com/colaboratory/data_table/881c4a0d49046431/data_table.js\";\n\n      const table = window.createDataTable({\n        data: [[\"P0_1\",\n{\n            'v': 0,\n            'f': \"0\",\n        }],\n [\"P0_2\",\n{\n            'v': 0,\n            'f': \"0\",\n        }],\n [\"P0_0\",\n{\n            'v': 1,\n            'f': \"1\",\n        }],\n [\"P1_0\",\n{\n            'v': 0,\n            'f': \"0\",\n        }],\n [\"P1_1\",\n{\n            'v': 0,\n            'f': \"0\",\n        }],\n [\"P1_2\",\n{\n            'v': 1,\n            'f': \"1\",\n        }]],\n        columns: [[\"string\", \"comp\"], [\"number\", \"global_comp\"]],\n        columnOptions: [],\n        rowsPerPage: 10,\n        helpUrl: \"https://colab.research.google.com/notebooks/data_table.ipynb\",\n        suppressOutputScrolling: true,\n        minimumWidth: undefined,\n      });\n\n      function appendQuickchartButton(parentElement) {\n        let quickchartButtonContainerElement = document.createElement('div');\n        quickchartButtonContainerElement.innerHTML = `\n<div id=\"df-5aa62cb2-128c-43a4-ad29-048e07b9038e\">\n  <button class=\"colab-df-quickchart\" onclick=\"quickchart('df-5aa62cb2-128c-43a4-ad29-048e07b9038e')\"\n            title=\"Suggest charts\"\n            style=\"display:none;\">\n    \n<svg xmlns=\"http://www.w3.org/2000/svg\" height=\"24px\"viewBox=\"0 0 24 24\"\n     width=\"24px\">\n    <g>\n        <path d=\"M19 3H5c-1.1 0-2 .9-2 2v14c0 1.1.9 2 2 2h14c1.1 0 2-.9 2-2V5c0-1.1-.9-2-2-2zM9 17H7v-7h2v7zm4 0h-2V7h2v10zm4 0h-2v-4h2v4z\"/>\n    </g>\n</svg>\n  </button>\n  \n<style>\n  .colab-df-quickchart {\n      --bg-color: #E8F0FE;\n      --fill-color: #1967D2;\n      --hover-bg-color: #E2EBFA;\n      --hover-fill-color: #174EA6;\n      --disabled-fill-color: #AAA;\n      --disabled-bg-color: #DDD;\n  }\n\n  [theme=dark] .colab-df-quickchart {\n      --bg-color: #3B4455;\n      --fill-color: #D2E3FC;\n      --hover-bg-color: #434B5C;\n      --hover-fill-color: #FFFFFF;\n      --disabled-bg-color: #3B4455;\n      --disabled-fill-color: #666;\n  }\n\n  .colab-df-quickchart {\n    background-color: var(--bg-color);\n    border: none;\n    border-radius: 50%;\n    cursor: pointer;\n    display: none;\n    fill: var(--fill-color);\n    height: 32px;\n    padding: 0;\n    width: 32px;\n  }\n\n  .colab-df-quickchart:hover {\n    background-color: var(--hover-bg-color);\n    box-shadow: 0 1px 2px rgba(60, 64, 67, 0.3), 0 1px 3px 1px rgba(60, 64, 67, 0.15);\n    fill: var(--button-hover-fill-color);\n  }\n\n  .colab-df-quickchart-complete:disabled,\n  .colab-df-quickchart-complete:disabled:hover {\n    background-color: var(--disabled-bg-color);\n    fill: var(--disabled-fill-color);\n    box-shadow: none;\n  }\n\n  .colab-df-spinner {\n    border: 2px solid var(--fill-color);\n    border-color: transparent;\n    border-bottom-color: var(--fill-color);\n    animation:\n      spin 1s steps(1) infinite;\n  }\n\n  @keyframes spin {\n    0% {\n      border-color: transparent;\n      border-bottom-color: var(--fill-color);\n      border-left-color: var(--fill-color);\n    }\n    20% {\n      border-color: transparent;\n      border-left-color: var(--fill-color);\n      border-top-color: var(--fill-color);\n    }\n    30% {\n      border-color: transparent;\n      border-left-color: var(--fill-color);\n      border-top-color: var(--fill-color);\n      border-right-color: var(--fill-color);\n    }\n    40% {\n      border-color: transparent;\n      border-right-color: var(--fill-color);\n      border-top-color: var(--fill-color);\n    }\n    60% {\n      border-color: transparent;\n      border-right-color: var(--fill-color);\n    }\n    80% {\n      border-color: transparent;\n      border-right-color: var(--fill-color);\n      border-bottom-color: var(--fill-color);\n    }\n    90% {\n      border-color: transparent;\n      border-bottom-color: var(--fill-color);\n    }\n  }\n</style>\n\n  <script>\n    async function quickchart(key) {\n      const quickchartButtonEl =\n        document.querySelector('#' + key + ' button');\n      quickchartButtonEl.disabled = true;  // To prevent multiple clicks.\n      quickchartButtonEl.classList.add('colab-df-spinner');\n      try {\n        const charts = await google.colab.kernel.invokeFunction(\n            'suggestCharts', [key], {});\n      } catch (error) {\n        console.error('Error during call to suggestCharts:', error);\n      }\n      quickchartButtonEl.classList.remove('colab-df-spinner');\n      quickchartButtonEl.classList.add('colab-df-quickchart-complete');\n    }\n    (() => {\n      let quickchartButtonEl =\n        document.querySelector('#df-5aa62cb2-128c-43a4-ad29-048e07b9038e button');\n      quickchartButtonEl.style.display =\n        google.colab.kernel.accessAllowed ? 'block' : 'none';\n    })();\n  </script>\n</div>`;\n        parentElement.appendChild(quickchartButtonContainerElement);\n      }\n\n      appendQuickchartButton(table);\n    ",
            "text/html": [
              "<div>\n",
              "<style scoped>\n",
              "    .dataframe tbody tr th:only-of-type {\n",
              "        vertical-align: middle;\n",
              "    }\n",
              "\n",
              "    .dataframe tbody tr th {\n",
              "        vertical-align: top;\n",
              "    }\n",
              "\n",
              "    .dataframe thead th {\n",
              "        text-align: right;\n",
              "    }\n",
              "</style>\n",
              "<table border=\"1\" class=\"dataframe\">\n",
              "  <thead>\n",
              "    <tr style=\"text-align: right;\">\n",
              "      <th></th>\n",
              "      <th>comp</th>\n",
              "      <th>global_comp</th>\n",
              "    </tr>\n",
              "  </thead>\n",
              "  <tbody>\n",
              "    <tr>\n",
              "      <th>0</th>\n",
              "      <td>P0_1</td>\n",
              "      <td>0</td>\n",
              "    </tr>\n",
              "    <tr>\n",
              "      <th>1</th>\n",
              "      <td>P0_2</td>\n",
              "      <td>0</td>\n",
              "    </tr>\n",
              "    <tr>\n",
              "      <th>2</th>\n",
              "      <td>P0_0</td>\n",
              "      <td>1</td>\n",
              "    </tr>\n",
              "    <tr>\n",
              "      <th>3</th>\n",
              "      <td>P1_0</td>\n",
              "      <td>0</td>\n",
              "    </tr>\n",
              "    <tr>\n",
              "      <th>4</th>\n",
              "      <td>P1_1</td>\n",
              "      <td>0</td>\n",
              "    </tr>\n",
              "    <tr>\n",
              "      <th>5</th>\n",
              "      <td>P1_2</td>\n",
              "      <td>1</td>\n",
              "    </tr>\n",
              "  </tbody>\n",
              "</table>\n",
              "</div>"
            ],
            "text/plain": [
              "<google.colab.data_table.DataTable object>"
            ]
          },
          "execution_count": 32,
          "metadata": {},
          "output_type": "execute_result"
        }
      ],
      "source": [
        "edge_list = [(str(e.from_comp), str(e.to_comp)) for e in Comp_edges.toPandas().itertuples(index=False) ]\n",
        "\n",
        "comp_list = get_composantes_from_edge_list(edge_list)\n",
        "print(f'Le graphe Comp_edges a pour composantes :{comp_list}')\n",
        "\n",
        "Global_Comp = pd.DataFrame(comp_list, columns = ['comp', 'global_comp'])\n",
        "Global_Comp.to_parquet(\"Global_comp\")\n",
        "Global_comp = spark.read.format(\"parquet\").load(\"Global_comp\")\n",
        "\n",
        "display(Global_comp)"
      ]
    },
    {
      "cell_type": "markdown",
      "metadata": {
        "id": "5tVlK21mno0e"
      },
      "source": [
        "We deduce the components of the nodes of G :"
      ]
    },
    {
      "cell_type": "code",
      "execution_count": 33,
      "metadata": {
        "colab": {
          "base_uri": "https://localhost:8080/",
          "height": 224
        },
        "id": "U7xE2WncmMbX",
        "outputId": "da7cf97b-7b4b-4c4d-b673-1cc408a24352"
      },
      "outputs": [
        {
          "name": "stdout",
          "output_type": "stream",
          "text": [
            "composantes pour les noeuds n1 à n4 :\n"
          ]
        },
        {
          "data": {
            "application/vnd.google.colaboratory.module+javascript": "\n      import \"https://ssl.gstatic.com/colaboratory/data_table/881c4a0d49046431/data_table.js\";\n\n      const table = window.createDataTable({\n        data: [[\"n3\",\n{\n            'v': 1,\n            'f': \"1\",\n        }],\n [\"n2\",\n{\n            'v': 1,\n            'f': \"1\",\n        }],\n [\"n1\",\n{\n            'v': 1,\n            'f': \"1\",\n        }],\n [\"n4\",\n{\n            'v': 0,\n            'f': \"0\",\n        }]],\n        columns: [[\"string\", \"n\"], [\"number\", \"global_comp\"]],\n        columnOptions: [],\n        rowsPerPage: 10,\n        helpUrl: \"https://colab.research.google.com/notebooks/data_table.ipynb\",\n        suppressOutputScrolling: true,\n        minimumWidth: undefined,\n      });\n\n      function appendQuickchartButton(parentElement) {\n        let quickchartButtonContainerElement = document.createElement('div');\n        quickchartButtonContainerElement.innerHTML = `\n<div id=\"df-295d74da-145e-4f79-a94a-fbc958e3976d\">\n  <button class=\"colab-df-quickchart\" onclick=\"quickchart('df-295d74da-145e-4f79-a94a-fbc958e3976d')\"\n            title=\"Suggest charts\"\n            style=\"display:none;\">\n    \n<svg xmlns=\"http://www.w3.org/2000/svg\" height=\"24px\"viewBox=\"0 0 24 24\"\n     width=\"24px\">\n    <g>\n        <path d=\"M19 3H5c-1.1 0-2 .9-2 2v14c0 1.1.9 2 2 2h14c1.1 0 2-.9 2-2V5c0-1.1-.9-2-2-2zM9 17H7v-7h2v7zm4 0h-2V7h2v10zm4 0h-2v-4h2v4z\"/>\n    </g>\n</svg>\n  </button>\n  \n<style>\n  .colab-df-quickchart {\n      --bg-color: #E8F0FE;\n      --fill-color: #1967D2;\n      --hover-bg-color: #E2EBFA;\n      --hover-fill-color: #174EA6;\n      --disabled-fill-color: #AAA;\n      --disabled-bg-color: #DDD;\n  }\n\n  [theme=dark] .colab-df-quickchart {\n      --bg-color: #3B4455;\n      --fill-color: #D2E3FC;\n      --hover-bg-color: #434B5C;\n      --hover-fill-color: #FFFFFF;\n      --disabled-bg-color: #3B4455;\n      --disabled-fill-color: #666;\n  }\n\n  .colab-df-quickchart {\n    background-color: var(--bg-color);\n    border: none;\n    border-radius: 50%;\n    cursor: pointer;\n    display: none;\n    fill: var(--fill-color);\n    height: 32px;\n    padding: 0;\n    width: 32px;\n  }\n\n  .colab-df-quickchart:hover {\n    background-color: var(--hover-bg-color);\n    box-shadow: 0 1px 2px rgba(60, 64, 67, 0.3), 0 1px 3px 1px rgba(60, 64, 67, 0.15);\n    fill: var(--button-hover-fill-color);\n  }\n\n  .colab-df-quickchart-complete:disabled,\n  .colab-df-quickchart-complete:disabled:hover {\n    background-color: var(--disabled-bg-color);\n    fill: var(--disabled-fill-color);\n    box-shadow: none;\n  }\n\n  .colab-df-spinner {\n    border: 2px solid var(--fill-color);\n    border-color: transparent;\n    border-bottom-color: var(--fill-color);\n    animation:\n      spin 1s steps(1) infinite;\n  }\n\n  @keyframes spin {\n    0% {\n      border-color: transparent;\n      border-bottom-color: var(--fill-color);\n      border-left-color: var(--fill-color);\n    }\n    20% {\n      border-color: transparent;\n      border-left-color: var(--fill-color);\n      border-top-color: var(--fill-color);\n    }\n    30% {\n      border-color: transparent;\n      border-left-color: var(--fill-color);\n      border-top-color: var(--fill-color);\n      border-right-color: var(--fill-color);\n    }\n    40% {\n      border-color: transparent;\n      border-right-color: var(--fill-color);\n      border-top-color: var(--fill-color);\n    }\n    60% {\n      border-color: transparent;\n      border-right-color: var(--fill-color);\n    }\n    80% {\n      border-color: transparent;\n      border-right-color: var(--fill-color);\n      border-bottom-color: var(--fill-color);\n    }\n    90% {\n      border-color: transparent;\n      border-bottom-color: var(--fill-color);\n    }\n  }\n</style>\n\n  <script>\n    async function quickchart(key) {\n      const quickchartButtonEl =\n        document.querySelector('#' + key + ' button');\n      quickchartButtonEl.disabled = true;  // To prevent multiple clicks.\n      quickchartButtonEl.classList.add('colab-df-spinner');\n      try {\n        const charts = await google.colab.kernel.invokeFunction(\n            'suggestCharts', [key], {});\n      } catch (error) {\n        console.error('Error during call to suggestCharts:', error);\n      }\n      quickchartButtonEl.classList.remove('colab-df-spinner');\n      quickchartButtonEl.classList.add('colab-df-quickchart-complete');\n    }\n    (() => {\n      let quickchartButtonEl =\n        document.querySelector('#df-295d74da-145e-4f79-a94a-fbc958e3976d button');\n      quickchartButtonEl.style.display =\n        google.colab.kernel.accessAllowed ? 'block' : 'none';\n    })();\n  </script>\n</div>`;\n        parentElement.appendChild(quickchartButtonContainerElement);\n      }\n\n      appendQuickchartButton(table);\n    ",
            "text/html": [
              "<div>\n",
              "<style scoped>\n",
              "    .dataframe tbody tr th:only-of-type {\n",
              "        vertical-align: middle;\n",
              "    }\n",
              "\n",
              "    .dataframe tbody tr th {\n",
              "        vertical-align: top;\n",
              "    }\n",
              "\n",
              "    .dataframe thead th {\n",
              "        text-align: right;\n",
              "    }\n",
              "</style>\n",
              "<table border=\"1\" class=\"dataframe\">\n",
              "  <thead>\n",
              "    <tr style=\"text-align: right;\">\n",
              "      <th></th>\n",
              "      <th>n</th>\n",
              "      <th>global_comp</th>\n",
              "    </tr>\n",
              "  </thead>\n",
              "  <tbody>\n",
              "    <tr>\n",
              "      <th>0</th>\n",
              "      <td>n3</td>\n",
              "      <td>1</td>\n",
              "    </tr>\n",
              "    <tr>\n",
              "      <th>1</th>\n",
              "      <td>n2</td>\n",
              "      <td>1</td>\n",
              "    </tr>\n",
              "    <tr>\n",
              "      <th>2</th>\n",
              "      <td>n1</td>\n",
              "      <td>1</td>\n",
              "    </tr>\n",
              "    <tr>\n",
              "      <th>3</th>\n",
              "      <td>n4</td>\n",
              "      <td>0</td>\n",
              "    </tr>\n",
              "  </tbody>\n",
              "</table>\n",
              "</div>"
            ],
            "text/plain": [
              "<google.colab.data_table.DataTable object>"
            ]
          },
          "execution_count": 33,
          "metadata": {},
          "output_type": "execute_result"
        }
      ],
      "source": [
        "composantes_pour_N1_a_N4 = Global_comp.alias(\"d1\").join(N1_a_N4.alias(\"d2\"), col(\"d1.comp\") == col(\"d2.comp\")).select(\"d2.n\", \"d1.global_comp\").distinct()\n",
        "print(\"composantes pour les noeuds n1 à n4 :\")\n",
        "display(composantes_pour_N1_a_N4)"
      ]
    },
    {
      "cell_type": "code",
      "execution_count": 34,
      "metadata": {
        "colab": {
          "base_uri": "https://localhost:8080/",
          "height": 224
        },
        "id": "7TTXCaKGoTDb",
        "outputId": "9a45ed3c-d8e9-4e92-b016-e0bca9aff098"
      },
      "outputs": [
        {
          "name": "stdout",
          "output_type": "stream",
          "text": [
            "composantes pour les noeuds n5 à n8 :\n"
          ]
        },
        {
          "data": {
            "application/vnd.google.colaboratory.module+javascript": "\n      import \"https://ssl.gstatic.com/colaboratory/data_table/881c4a0d49046431/data_table.js\";\n\n      const table = window.createDataTable({\n        data: [[\"n8\",\n{\n            'v': 0,\n            'f': \"0\",\n        }],\n [\"n5\",\n{\n            'v': 0,\n            'f': \"0\",\n        }],\n [\"n7\",\n{\n            'v': 0,\n            'f': \"0\",\n        }],\n [\"n6\",\n{\n            'v': 0,\n            'f': \"0\",\n        }]],\n        columns: [[\"string\", \"n\"], [\"number\", \"global_comp\"]],\n        columnOptions: [],\n        rowsPerPage: 10,\n        helpUrl: \"https://colab.research.google.com/notebooks/data_table.ipynb\",\n        suppressOutputScrolling: true,\n        minimumWidth: undefined,\n      });\n\n      function appendQuickchartButton(parentElement) {\n        let quickchartButtonContainerElement = document.createElement('div');\n        quickchartButtonContainerElement.innerHTML = `\n<div id=\"df-ca43b7a7-5dbf-4f0d-82a5-d044b4aa07b8\">\n  <button class=\"colab-df-quickchart\" onclick=\"quickchart('df-ca43b7a7-5dbf-4f0d-82a5-d044b4aa07b8')\"\n            title=\"Suggest charts\"\n            style=\"display:none;\">\n    \n<svg xmlns=\"http://www.w3.org/2000/svg\" height=\"24px\"viewBox=\"0 0 24 24\"\n     width=\"24px\">\n    <g>\n        <path d=\"M19 3H5c-1.1 0-2 .9-2 2v14c0 1.1.9 2 2 2h14c1.1 0 2-.9 2-2V5c0-1.1-.9-2-2-2zM9 17H7v-7h2v7zm4 0h-2V7h2v10zm4 0h-2v-4h2v4z\"/>\n    </g>\n</svg>\n  </button>\n  \n<style>\n  .colab-df-quickchart {\n      --bg-color: #E8F0FE;\n      --fill-color: #1967D2;\n      --hover-bg-color: #E2EBFA;\n      --hover-fill-color: #174EA6;\n      --disabled-fill-color: #AAA;\n      --disabled-bg-color: #DDD;\n  }\n\n  [theme=dark] .colab-df-quickchart {\n      --bg-color: #3B4455;\n      --fill-color: #D2E3FC;\n      --hover-bg-color: #434B5C;\n      --hover-fill-color: #FFFFFF;\n      --disabled-bg-color: #3B4455;\n      --disabled-fill-color: #666;\n  }\n\n  .colab-df-quickchart {\n    background-color: var(--bg-color);\n    border: none;\n    border-radius: 50%;\n    cursor: pointer;\n    display: none;\n    fill: var(--fill-color);\n    height: 32px;\n    padding: 0;\n    width: 32px;\n  }\n\n  .colab-df-quickchart:hover {\n    background-color: var(--hover-bg-color);\n    box-shadow: 0 1px 2px rgba(60, 64, 67, 0.3), 0 1px 3px 1px rgba(60, 64, 67, 0.15);\n    fill: var(--button-hover-fill-color);\n  }\n\n  .colab-df-quickchart-complete:disabled,\n  .colab-df-quickchart-complete:disabled:hover {\n    background-color: var(--disabled-bg-color);\n    fill: var(--disabled-fill-color);\n    box-shadow: none;\n  }\n\n  .colab-df-spinner {\n    border: 2px solid var(--fill-color);\n    border-color: transparent;\n    border-bottom-color: var(--fill-color);\n    animation:\n      spin 1s steps(1) infinite;\n  }\n\n  @keyframes spin {\n    0% {\n      border-color: transparent;\n      border-bottom-color: var(--fill-color);\n      border-left-color: var(--fill-color);\n    }\n    20% {\n      border-color: transparent;\n      border-left-color: var(--fill-color);\n      border-top-color: var(--fill-color);\n    }\n    30% {\n      border-color: transparent;\n      border-left-color: var(--fill-color);\n      border-top-color: var(--fill-color);\n      border-right-color: var(--fill-color);\n    }\n    40% {\n      border-color: transparent;\n      border-right-color: var(--fill-color);\n      border-top-color: var(--fill-color);\n    }\n    60% {\n      border-color: transparent;\n      border-right-color: var(--fill-color);\n    }\n    80% {\n      border-color: transparent;\n      border-right-color: var(--fill-color);\n      border-bottom-color: var(--fill-color);\n    }\n    90% {\n      border-color: transparent;\n      border-bottom-color: var(--fill-color);\n    }\n  }\n</style>\n\n  <script>\n    async function quickchart(key) {\n      const quickchartButtonEl =\n        document.querySelector('#' + key + ' button');\n      quickchartButtonEl.disabled = true;  // To prevent multiple clicks.\n      quickchartButtonEl.classList.add('colab-df-spinner');\n      try {\n        const charts = await google.colab.kernel.invokeFunction(\n            'suggestCharts', [key], {});\n      } catch (error) {\n        console.error('Error during call to suggestCharts:', error);\n      }\n      quickchartButtonEl.classList.remove('colab-df-spinner');\n      quickchartButtonEl.classList.add('colab-df-quickchart-complete');\n    }\n    (() => {\n      let quickchartButtonEl =\n        document.querySelector('#df-ca43b7a7-5dbf-4f0d-82a5-d044b4aa07b8 button');\n      quickchartButtonEl.style.display =\n        google.colab.kernel.accessAllowed ? 'block' : 'none';\n    })();\n  </script>\n</div>`;\n        parentElement.appendChild(quickchartButtonContainerElement);\n      }\n\n      appendQuickchartButton(table);\n    ",
            "text/html": [
              "<div>\n",
              "<style scoped>\n",
              "    .dataframe tbody tr th:only-of-type {\n",
              "        vertical-align: middle;\n",
              "    }\n",
              "\n",
              "    .dataframe tbody tr th {\n",
              "        vertical-align: top;\n",
              "    }\n",
              "\n",
              "    .dataframe thead th {\n",
              "        text-align: right;\n",
              "    }\n",
              "</style>\n",
              "<table border=\"1\" class=\"dataframe\">\n",
              "  <thead>\n",
              "    <tr style=\"text-align: right;\">\n",
              "      <th></th>\n",
              "      <th>n</th>\n",
              "      <th>global_comp</th>\n",
              "    </tr>\n",
              "  </thead>\n",
              "  <tbody>\n",
              "    <tr>\n",
              "      <th>0</th>\n",
              "      <td>n8</td>\n",
              "      <td>0</td>\n",
              "    </tr>\n",
              "    <tr>\n",
              "      <th>1</th>\n",
              "      <td>n5</td>\n",
              "      <td>0</td>\n",
              "    </tr>\n",
              "    <tr>\n",
              "      <th>2</th>\n",
              "      <td>n7</td>\n",
              "      <td>0</td>\n",
              "    </tr>\n",
              "    <tr>\n",
              "      <th>3</th>\n",
              "      <td>n6</td>\n",
              "      <td>0</td>\n",
              "    </tr>\n",
              "  </tbody>\n",
              "</table>\n",
              "</div>"
            ],
            "text/plain": [
              "<google.colab.data_table.DataTable object>"
            ]
          },
          "execution_count": 34,
          "metadata": {},
          "output_type": "execute_result"
        }
      ],
      "source": [
        "composantes_pour_N5_a_N8 = Global_comp.alias(\"d1\").join(N5_a_N8.alias(\"d2\"), col(\"d1.comp\") == col(\"d2.comp\")).select(\"d2.n\", \"d1.global_comp\").distinct()\n",
        "print(\"composantes pour les noeuds n5 à n8 :\")\n",
        "display(composantes_pour_N5_a_N8)"
      ]
    },
    {
      "cell_type": "code",
      "execution_count": 35,
      "metadata": {
        "colab": {
          "base_uri": "https://localhost:8080/",
          "height": 206
        },
        "id": "g8HncWdGh1qL",
        "outputId": "1fb78190-544b-40f2-b8d4-05df013f548d"
      },
      "outputs": [
        {
          "data": {
            "application/vnd.google.colaboratory.module+javascript": "\n      import \"https://ssl.gstatic.com/colaboratory/data_table/881c4a0d49046431/data_table.js\";\n\n      const table = window.createDataTable({\n        data: [[\"n1\",\n\"n2\",\n{\n            'v': 1,\n            'f': \"1\",\n        }],\n [\"n3\",\n\"n1\",\n{\n            'v': 1,\n            'f': \"1\",\n        }],\n [\"n4\",\n\"n6\",\n{\n            'v': 0,\n            'f': \"0\",\n        }],\n [\"n7\",\n\"n5\",\n{\n            'v': 0,\n            'f': \"0\",\n        }]],\n        columns: [[\"string\", \"s\"], [\"string\", \"d\"], [\"number\", \"comp\"]],\n        columnOptions: [],\n        rowsPerPage: 10,\n        helpUrl: \"https://colab.research.google.com/notebooks/data_table.ipynb\",\n        suppressOutputScrolling: true,\n        minimumWidth: undefined,\n      });\n\n      function appendQuickchartButton(parentElement) {\n        let quickchartButtonContainerElement = document.createElement('div');\n        quickchartButtonContainerElement.innerHTML = `\n<div id=\"df-9271a5fa-ec2c-4f25-af6d-a72b78bdc125\">\n  <button class=\"colab-df-quickchart\" onclick=\"quickchart('df-9271a5fa-ec2c-4f25-af6d-a72b78bdc125')\"\n            title=\"Suggest charts\"\n            style=\"display:none;\">\n    \n<svg xmlns=\"http://www.w3.org/2000/svg\" height=\"24px\"viewBox=\"0 0 24 24\"\n     width=\"24px\">\n    <g>\n        <path d=\"M19 3H5c-1.1 0-2 .9-2 2v14c0 1.1.9 2 2 2h14c1.1 0 2-.9 2-2V5c0-1.1-.9-2-2-2zM9 17H7v-7h2v7zm4 0h-2V7h2v10zm4 0h-2v-4h2v4z\"/>\n    </g>\n</svg>\n  </button>\n  \n<style>\n  .colab-df-quickchart {\n      --bg-color: #E8F0FE;\n      --fill-color: #1967D2;\n      --hover-bg-color: #E2EBFA;\n      --hover-fill-color: #174EA6;\n      --disabled-fill-color: #AAA;\n      --disabled-bg-color: #DDD;\n  }\n\n  [theme=dark] .colab-df-quickchart {\n      --bg-color: #3B4455;\n      --fill-color: #D2E3FC;\n      --hover-bg-color: #434B5C;\n      --hover-fill-color: #FFFFFF;\n      --disabled-bg-color: #3B4455;\n      --disabled-fill-color: #666;\n  }\n\n  .colab-df-quickchart {\n    background-color: var(--bg-color);\n    border: none;\n    border-radius: 50%;\n    cursor: pointer;\n    display: none;\n    fill: var(--fill-color);\n    height: 32px;\n    padding: 0;\n    width: 32px;\n  }\n\n  .colab-df-quickchart:hover {\n    background-color: var(--hover-bg-color);\n    box-shadow: 0 1px 2px rgba(60, 64, 67, 0.3), 0 1px 3px 1px rgba(60, 64, 67, 0.15);\n    fill: var(--button-hover-fill-color);\n  }\n\n  .colab-df-quickchart-complete:disabled,\n  .colab-df-quickchart-complete:disabled:hover {\n    background-color: var(--disabled-bg-color);\n    fill: var(--disabled-fill-color);\n    box-shadow: none;\n  }\n\n  .colab-df-spinner {\n    border: 2px solid var(--fill-color);\n    border-color: transparent;\n    border-bottom-color: var(--fill-color);\n    animation:\n      spin 1s steps(1) infinite;\n  }\n\n  @keyframes spin {\n    0% {\n      border-color: transparent;\n      border-bottom-color: var(--fill-color);\n      border-left-color: var(--fill-color);\n    }\n    20% {\n      border-color: transparent;\n      border-left-color: var(--fill-color);\n      border-top-color: var(--fill-color);\n    }\n    30% {\n      border-color: transparent;\n      border-left-color: var(--fill-color);\n      border-top-color: var(--fill-color);\n      border-right-color: var(--fill-color);\n    }\n    40% {\n      border-color: transparent;\n      border-right-color: var(--fill-color);\n      border-top-color: var(--fill-color);\n    }\n    60% {\n      border-color: transparent;\n      border-right-color: var(--fill-color);\n    }\n    80% {\n      border-color: transparent;\n      border-right-color: var(--fill-color);\n      border-bottom-color: var(--fill-color);\n    }\n    90% {\n      border-color: transparent;\n      border-bottom-color: var(--fill-color);\n    }\n  }\n</style>\n\n  <script>\n    async function quickchart(key) {\n      const quickchartButtonEl =\n        document.querySelector('#' + key + ' button');\n      quickchartButtonEl.disabled = true;  // To prevent multiple clicks.\n      quickchartButtonEl.classList.add('colab-df-spinner');\n      try {\n        const charts = await google.colab.kernel.invokeFunction(\n            'suggestCharts', [key], {});\n      } catch (error) {\n        console.error('Error during call to suggestCharts:', error);\n      }\n      quickchartButtonEl.classList.remove('colab-df-spinner');\n      quickchartButtonEl.classList.add('colab-df-quickchart-complete');\n    }\n    (() => {\n      let quickchartButtonEl =\n        document.querySelector('#df-9271a5fa-ec2c-4f25-af6d-a72b78bdc125 button');\n      quickchartButtonEl.style.display =\n        google.colab.kernel.accessAllowed ? 'block' : 'none';\n    })();\n  </script>\n</div>`;\n        parentElement.appendChild(quickchartButtonContainerElement);\n      }\n\n      appendQuickchartButton(table);\n    ",
            "text/html": [
              "<div>\n",
              "<style scoped>\n",
              "    .dataframe tbody tr th:only-of-type {\n",
              "        vertical-align: middle;\n",
              "    }\n",
              "\n",
              "    .dataframe tbody tr th {\n",
              "        vertical-align: top;\n",
              "    }\n",
              "\n",
              "    .dataframe thead th {\n",
              "        text-align: right;\n",
              "    }\n",
              "</style>\n",
              "<table border=\"1\" class=\"dataframe\">\n",
              "  <thead>\n",
              "    <tr style=\"text-align: right;\">\n",
              "      <th></th>\n",
              "      <th>s</th>\n",
              "      <th>d</th>\n",
              "      <th>comp</th>\n",
              "    </tr>\n",
              "  </thead>\n",
              "  <tbody>\n",
              "    <tr>\n",
              "      <th>0</th>\n",
              "      <td>n1</td>\n",
              "      <td>n2</td>\n",
              "      <td>1</td>\n",
              "    </tr>\n",
              "    <tr>\n",
              "      <th>1</th>\n",
              "      <td>n3</td>\n",
              "      <td>n1</td>\n",
              "      <td>1</td>\n",
              "    </tr>\n",
              "    <tr>\n",
              "      <th>2</th>\n",
              "      <td>n4</td>\n",
              "      <td>n6</td>\n",
              "      <td>0</td>\n",
              "    </tr>\n",
              "    <tr>\n",
              "      <th>3</th>\n",
              "      <td>n7</td>\n",
              "      <td>n5</td>\n",
              "      <td>0</td>\n",
              "    </tr>\n",
              "  </tbody>\n",
              "</table>\n",
              "</div>"
            ],
            "text/plain": [
              "<google.colab.data_table.DataTable object>"
            ]
          },
          "execution_count": 35,
          "metadata": {},
          "output_type": "execute_result"
        }
      ],
      "source": [
        "G[0] = G[0].alias(\"d1\").join(composantes_pour_N1_a_N4.union(composantes_pour_N5_a_N8).alias(\"d2\"), col(\"d1.s\") == col(\"d2.n\")).select(\"d1.s\", \"d1.d\", col(\"d2.global_comp\").alias(\"comp\"))\n",
        "display(G[0])"
      ]
    },
    {
      "cell_type": "code",
      "execution_count": 36,
      "metadata": {
        "colab": {
          "base_uri": "https://localhost:8080/",
          "height": 206
        },
        "id": "px0wwgieSKJf",
        "outputId": "3b5c8bb5-2101-4155-c6f2-10b1f7539aed"
      },
      "outputs": [
        {
          "data": {
            "application/vnd.google.colaboratory.module+javascript": "\n      import \"https://ssl.gstatic.com/colaboratory/data_table/881c4a0d49046431/data_table.js\";\n\n      const table = window.createDataTable({\n        data: [[\"n2\",\n\"n3\",\n{\n            'v': 1,\n            'f': \"1\",\n        }],\n [\"n4\",\n\"n5\",\n{\n            'v': 0,\n            'f': \"0\",\n        }],\n [\"n4\",\n\"n8\",\n{\n            'v': 0,\n            'f': \"0\",\n        }],\n [\"n7\",\n\"n6\",\n{\n            'v': 0,\n            'f': \"0\",\n        }]],\n        columns: [[\"string\", \"s\"], [\"string\", \"d\"], [\"number\", \"comp\"]],\n        columnOptions: [],\n        rowsPerPage: 10,\n        helpUrl: \"https://colab.research.google.com/notebooks/data_table.ipynb\",\n        suppressOutputScrolling: true,\n        minimumWidth: undefined,\n      });\n\n      function appendQuickchartButton(parentElement) {\n        let quickchartButtonContainerElement = document.createElement('div');\n        quickchartButtonContainerElement.innerHTML = `\n<div id=\"df-6b93f678-4912-40df-b591-942a7df4a94c\">\n  <button class=\"colab-df-quickchart\" onclick=\"quickchart('df-6b93f678-4912-40df-b591-942a7df4a94c')\"\n            title=\"Suggest charts\"\n            style=\"display:none;\">\n    \n<svg xmlns=\"http://www.w3.org/2000/svg\" height=\"24px\"viewBox=\"0 0 24 24\"\n     width=\"24px\">\n    <g>\n        <path d=\"M19 3H5c-1.1 0-2 .9-2 2v14c0 1.1.9 2 2 2h14c1.1 0 2-.9 2-2V5c0-1.1-.9-2-2-2zM9 17H7v-7h2v7zm4 0h-2V7h2v10zm4 0h-2v-4h2v4z\"/>\n    </g>\n</svg>\n  </button>\n  \n<style>\n  .colab-df-quickchart {\n      --bg-color: #E8F0FE;\n      --fill-color: #1967D2;\n      --hover-bg-color: #E2EBFA;\n      --hover-fill-color: #174EA6;\n      --disabled-fill-color: #AAA;\n      --disabled-bg-color: #DDD;\n  }\n\n  [theme=dark] .colab-df-quickchart {\n      --bg-color: #3B4455;\n      --fill-color: #D2E3FC;\n      --hover-bg-color: #434B5C;\n      --hover-fill-color: #FFFFFF;\n      --disabled-bg-color: #3B4455;\n      --disabled-fill-color: #666;\n  }\n\n  .colab-df-quickchart {\n    background-color: var(--bg-color);\n    border: none;\n    border-radius: 50%;\n    cursor: pointer;\n    display: none;\n    fill: var(--fill-color);\n    height: 32px;\n    padding: 0;\n    width: 32px;\n  }\n\n  .colab-df-quickchart:hover {\n    background-color: var(--hover-bg-color);\n    box-shadow: 0 1px 2px rgba(60, 64, 67, 0.3), 0 1px 3px 1px rgba(60, 64, 67, 0.15);\n    fill: var(--button-hover-fill-color);\n  }\n\n  .colab-df-quickchart-complete:disabled,\n  .colab-df-quickchart-complete:disabled:hover {\n    background-color: var(--disabled-bg-color);\n    fill: var(--disabled-fill-color);\n    box-shadow: none;\n  }\n\n  .colab-df-spinner {\n    border: 2px solid var(--fill-color);\n    border-color: transparent;\n    border-bottom-color: var(--fill-color);\n    animation:\n      spin 1s steps(1) infinite;\n  }\n\n  @keyframes spin {\n    0% {\n      border-color: transparent;\n      border-bottom-color: var(--fill-color);\n      border-left-color: var(--fill-color);\n    }\n    20% {\n      border-color: transparent;\n      border-left-color: var(--fill-color);\n      border-top-color: var(--fill-color);\n    }\n    30% {\n      border-color: transparent;\n      border-left-color: var(--fill-color);\n      border-top-color: var(--fill-color);\n      border-right-color: var(--fill-color);\n    }\n    40% {\n      border-color: transparent;\n      border-right-color: var(--fill-color);\n      border-top-color: var(--fill-color);\n    }\n    60% {\n      border-color: transparent;\n      border-right-color: var(--fill-color);\n    }\n    80% {\n      border-color: transparent;\n      border-right-color: var(--fill-color);\n      border-bottom-color: var(--fill-color);\n    }\n    90% {\n      border-color: transparent;\n      border-bottom-color: var(--fill-color);\n    }\n  }\n</style>\n\n  <script>\n    async function quickchart(key) {\n      const quickchartButtonEl =\n        document.querySelector('#' + key + ' button');\n      quickchartButtonEl.disabled = true;  // To prevent multiple clicks.\n      quickchartButtonEl.classList.add('colab-df-spinner');\n      try {\n        const charts = await google.colab.kernel.invokeFunction(\n            'suggestCharts', [key], {});\n      } catch (error) {\n        console.error('Error during call to suggestCharts:', error);\n      }\n      quickchartButtonEl.classList.remove('colab-df-spinner');\n      quickchartButtonEl.classList.add('colab-df-quickchart-complete');\n    }\n    (() => {\n      let quickchartButtonEl =\n        document.querySelector('#df-6b93f678-4912-40df-b591-942a7df4a94c button');\n      quickchartButtonEl.style.display =\n        google.colab.kernel.accessAllowed ? 'block' : 'none';\n    })();\n  </script>\n</div>`;\n        parentElement.appendChild(quickchartButtonContainerElement);\n      }\n\n      appendQuickchartButton(table);\n    ",
            "text/html": [
              "<div>\n",
              "<style scoped>\n",
              "    .dataframe tbody tr th:only-of-type {\n",
              "        vertical-align: middle;\n",
              "    }\n",
              "\n",
              "    .dataframe tbody tr th {\n",
              "        vertical-align: top;\n",
              "    }\n",
              "\n",
              "    .dataframe thead th {\n",
              "        text-align: right;\n",
              "    }\n",
              "</style>\n",
              "<table border=\"1\" class=\"dataframe\">\n",
              "  <thead>\n",
              "    <tr style=\"text-align: right;\">\n",
              "      <th></th>\n",
              "      <th>s</th>\n",
              "      <th>d</th>\n",
              "      <th>comp</th>\n",
              "    </tr>\n",
              "  </thead>\n",
              "  <tbody>\n",
              "    <tr>\n",
              "      <th>0</th>\n",
              "      <td>n2</td>\n",
              "      <td>n3</td>\n",
              "      <td>1</td>\n",
              "    </tr>\n",
              "    <tr>\n",
              "      <th>1</th>\n",
              "      <td>n4</td>\n",
              "      <td>n5</td>\n",
              "      <td>0</td>\n",
              "    </tr>\n",
              "    <tr>\n",
              "      <th>2</th>\n",
              "      <td>n4</td>\n",
              "      <td>n8</td>\n",
              "      <td>0</td>\n",
              "    </tr>\n",
              "    <tr>\n",
              "      <th>3</th>\n",
              "      <td>n7</td>\n",
              "      <td>n6</td>\n",
              "      <td>0</td>\n",
              "    </tr>\n",
              "  </tbody>\n",
              "</table>\n",
              "</div>"
            ],
            "text/plain": [
              "<google.colab.data_table.DataTable object>"
            ]
          },
          "execution_count": 36,
          "metadata": {},
          "output_type": "execute_result"
        }
      ],
      "source": [
        "G[1] = G[1].alias(\"d1\").join(composantes_pour_N1_a_N4.union(composantes_pour_N5_a_N8).alias(\"d2\"), col(\"d1.s\") == col(\"d2.n\")).select(\"d1.s\", \"d1.d\", col(\"d2.global_comp\").alias(\"comp\"))\n",
        "display(G[1])"
      ]
    },
    {
      "cell_type": "markdown",
      "metadata": {
        "id": "kSiXJK8oKqbr"
      },
      "source": [
        "The aim is to integrate the solution from the previous exercise into Spark, so that it can be processed in parallel as far as possible.\n",
        "The solution must be general enough to work for n partitions (with n > 2).\n",
        "\n",
        "Consider the graph G stored in **a single** dataframe made up of **several** partitions.\n",
        "\n",
        "a) We define a UDF function that calculates the components in a partition.\n",
        "\n",
        "b) We invoke the UDF function to run in parallel on each partition.\n",
        "\n",
        "c) From the components of each partition, define the complementary processing to obtain the components of G so that the operations are processed in parallel."
      ]
    },
    {
      "cell_type": "code",
      "execution_count": 41,
      "metadata": {
        "colab": {
          "base_uri": "https://localhost:8080/",
          "height": 379
        },
        "id": "NrKDm2OSMAY5",
        "outputId": "b619d883-e849-4815-f35a-07a11ac1d921"
      },
      "outputs": [
        {
          "name": "stdout",
          "output_type": "stream",
          "text": [
            "G a 2 partitions\n",
            "root\n",
            " |-- s: string (nullable = true)\n",
            " |-- d: string (nullable = true)\n",
            "\n"
          ]
        },
        {
          "data": {
            "application/vnd.google.colaboratory.module+javascript": "\n      import \"https://ssl.gstatic.com/colaboratory/data_table/881c4a0d49046431/data_table.js\";\n\n      const table = window.createDataTable({\n        data: [[\"n3\",\n\"n1\"],\n [\"n1\",\n\"n2\"],\n [\"n4\",\n\"n8\"],\n [\"n7\",\n\"n6\"],\n [\"n4\",\n\"n5\"],\n [\"n2\",\n\"n3\"],\n [\"n7\",\n\"n5\"],\n [\"n4\",\n\"n6\"]],\n        columns: [[\"string\", \"s\"], [\"string\", \"d\"]],\n        columnOptions: [],\n        rowsPerPage: 10,\n        helpUrl: \"https://colab.research.google.com/notebooks/data_table.ipynb\",\n        suppressOutputScrolling: true,\n        minimumWidth: undefined,\n      });\n\n      function appendQuickchartButton(parentElement) {\n        let quickchartButtonContainerElement = document.createElement('div');\n        quickchartButtonContainerElement.innerHTML = `\n<div id=\"df-caf033dc-9a32-4df8-a92d-c477c294e085\">\n  <button class=\"colab-df-quickchart\" onclick=\"quickchart('df-caf033dc-9a32-4df8-a92d-c477c294e085')\"\n            title=\"Suggest charts\"\n            style=\"display:none;\">\n    \n<svg xmlns=\"http://www.w3.org/2000/svg\" height=\"24px\"viewBox=\"0 0 24 24\"\n     width=\"24px\">\n    <g>\n        <path d=\"M19 3H5c-1.1 0-2 .9-2 2v14c0 1.1.9 2 2 2h14c1.1 0 2-.9 2-2V5c0-1.1-.9-2-2-2zM9 17H7v-7h2v7zm4 0h-2V7h2v10zm4 0h-2v-4h2v4z\"/>\n    </g>\n</svg>\n  </button>\n  \n<style>\n  .colab-df-quickchart {\n      --bg-color: #E8F0FE;\n      --fill-color: #1967D2;\n      --hover-bg-color: #E2EBFA;\n      --hover-fill-color: #174EA6;\n      --disabled-fill-color: #AAA;\n      --disabled-bg-color: #DDD;\n  }\n\n  [theme=dark] .colab-df-quickchart {\n      --bg-color: #3B4455;\n      --fill-color: #D2E3FC;\n      --hover-bg-color: #434B5C;\n      --hover-fill-color: #FFFFFF;\n      --disabled-bg-color: #3B4455;\n      --disabled-fill-color: #666;\n  }\n\n  .colab-df-quickchart {\n    background-color: var(--bg-color);\n    border: none;\n    border-radius: 50%;\n    cursor: pointer;\n    display: none;\n    fill: var(--fill-color);\n    height: 32px;\n    padding: 0;\n    width: 32px;\n  }\n\n  .colab-df-quickchart:hover {\n    background-color: var(--hover-bg-color);\n    box-shadow: 0 1px 2px rgba(60, 64, 67, 0.3), 0 1px 3px 1px rgba(60, 64, 67, 0.15);\n    fill: var(--button-hover-fill-color);\n  }\n\n  .colab-df-quickchart-complete:disabled,\n  .colab-df-quickchart-complete:disabled:hover {\n    background-color: var(--disabled-bg-color);\n    fill: var(--disabled-fill-color);\n    box-shadow: none;\n  }\n\n  .colab-df-spinner {\n    border: 2px solid var(--fill-color);\n    border-color: transparent;\n    border-bottom-color: var(--fill-color);\n    animation:\n      spin 1s steps(1) infinite;\n  }\n\n  @keyframes spin {\n    0% {\n      border-color: transparent;\n      border-bottom-color: var(--fill-color);\n      border-left-color: var(--fill-color);\n    }\n    20% {\n      border-color: transparent;\n      border-left-color: var(--fill-color);\n      border-top-color: var(--fill-color);\n    }\n    30% {\n      border-color: transparent;\n      border-left-color: var(--fill-color);\n      border-top-color: var(--fill-color);\n      border-right-color: var(--fill-color);\n    }\n    40% {\n      border-color: transparent;\n      border-right-color: var(--fill-color);\n      border-top-color: var(--fill-color);\n    }\n    60% {\n      border-color: transparent;\n      border-right-color: var(--fill-color);\n    }\n    80% {\n      border-color: transparent;\n      border-right-color: var(--fill-color);\n      border-bottom-color: var(--fill-color);\n    }\n    90% {\n      border-color: transparent;\n      border-bottom-color: var(--fill-color);\n    }\n  }\n</style>\n\n  <script>\n    async function quickchart(key) {\n      const quickchartButtonEl =\n        document.querySelector('#' + key + ' button');\n      quickchartButtonEl.disabled = true;  // To prevent multiple clicks.\n      quickchartButtonEl.classList.add('colab-df-spinner');\n      try {\n        const charts = await google.colab.kernel.invokeFunction(\n            'suggestCharts', [key], {});\n      } catch (error) {\n        console.error('Error during call to suggestCharts:', error);\n      }\n      quickchartButtonEl.classList.remove('colab-df-spinner');\n      quickchartButtonEl.classList.add('colab-df-quickchart-complete');\n    }\n    (() => {\n      let quickchartButtonEl =\n        document.querySelector('#df-caf033dc-9a32-4df8-a92d-c477c294e085 button');\n      quickchartButtonEl.style.display =\n        google.colab.kernel.accessAllowed ? 'block' : 'none';\n    })();\n  </script>\n</div>`;\n        parentElement.appendChild(quickchartButtonContainerElement);\n      }\n\n      appendQuickchartButton(table);\n    ",
            "text/html": [
              "<div>\n",
              "<style scoped>\n",
              "    .dataframe tbody tr th:only-of-type {\n",
              "        vertical-align: middle;\n",
              "    }\n",
              "\n",
              "    .dataframe tbody tr th {\n",
              "        vertical-align: top;\n",
              "    }\n",
              "\n",
              "    .dataframe thead th {\n",
              "        text-align: right;\n",
              "    }\n",
              "</style>\n",
              "<table border=\"1\" class=\"dataframe\">\n",
              "  <thead>\n",
              "    <tr style=\"text-align: right;\">\n",
              "      <th></th>\n",
              "      <th>s</th>\n",
              "      <th>d</th>\n",
              "    </tr>\n",
              "  </thead>\n",
              "  <tbody>\n",
              "    <tr>\n",
              "      <th>0</th>\n",
              "      <td>n3</td>\n",
              "      <td>n1</td>\n",
              "    </tr>\n",
              "    <tr>\n",
              "      <th>1</th>\n",
              "      <td>n1</td>\n",
              "      <td>n2</td>\n",
              "    </tr>\n",
              "    <tr>\n",
              "      <th>2</th>\n",
              "      <td>n4</td>\n",
              "      <td>n8</td>\n",
              "    </tr>\n",
              "    <tr>\n",
              "      <th>3</th>\n",
              "      <td>n7</td>\n",
              "      <td>n6</td>\n",
              "    </tr>\n",
              "    <tr>\n",
              "      <th>4</th>\n",
              "      <td>n4</td>\n",
              "      <td>n5</td>\n",
              "    </tr>\n",
              "    <tr>\n",
              "      <th>5</th>\n",
              "      <td>n2</td>\n",
              "      <td>n3</td>\n",
              "    </tr>\n",
              "    <tr>\n",
              "      <th>6</th>\n",
              "      <td>n7</td>\n",
              "      <td>n5</td>\n",
              "    </tr>\n",
              "    <tr>\n",
              "      <th>7</th>\n",
              "      <td>n4</td>\n",
              "      <td>n6</td>\n",
              "    </tr>\n",
              "  </tbody>\n",
              "</table>\n",
              "</div>"
            ],
            "text/plain": [
              "<google.colab.data_table.DataTable object>"
            ]
          },
          "execution_count": 41,
          "metadata": {},
          "output_type": "execute_result"
        }
      ],
      "source": [
        "data1 = \"\"\"\n",
        "n1 n2\n",
        "n2 n3\n",
        "n3 n1\n",
        "n4 n5\n",
        "n4 n6\n",
        "n4 n8\n",
        "n7 n5\n",
        "n7 n6\n",
        "\"\"\"\n",
        "\n",
        "tab = [line.split(\" \") for line in data1.split('\\n') if len(line)>0]\n",
        "tab = [(s, d) for (s, d) in tab]\n",
        "G = spark.createDataFrame(tab, [\"s\", \"d\"])\n",
        "\n",
        "# distribuer les données dans 2 partitions\n",
        "G = G.repartition(2)\n",
        "print(\"G a\", G.rdd.getNumPartitions(), \"partitions\")\n",
        "\n",
        "G.printSchema()\n",
        "display(G)"
      ]
    },
    {
      "cell_type": "markdown",
      "metadata": {
        "id": "5mSrnR7j_icL"
      },
      "source": [
        "The *showPartitions* function displays the first _n_ elements of each partition. The partID attribute is added to the display to distinguish each partition."
      ]
    },
    {
      "cell_type": "code",
      "execution_count": 42,
      "metadata": {
        "application/vnd.databricks.v1+cell": {
          "inputWidgets": {},
          "nuid": "f626210f-dce5-457b-a05b-1dd3e6af87a2",
          "showTitle": false,
          "title": ""
        },
        "colab": {
          "base_uri": "https://localhost:8080/"
        },
        "id": "cIfA0oZaG1_-",
        "outputId": "ffd7cefb-8b36-4f17-c2ed-e139edd1bb80"
      },
      "outputs": [
        {
          "name": "stdout",
          "output_type": "stream",
          "text": [
            "showPartitions définie\n"
          ]
        }
      ],
      "source": [
        "#afficher les N premiers_tuples de chaque partition d'un dataframe\n",
        "def showPartitions(df, N=5, separate=True):\n",
        "  nb_partitions = df.rdd.getNumPartitions()\n",
        "\n",
        "  # fonction topN est invoquée sur une partition.\n",
        "  # topN retourne un itérateur sur une partition qui contient les N premiers éléments de cette partition\n",
        "  def topN(partID, iterateur):\n",
        "    c=0\n",
        "    suivant = next(iterateur, None)\n",
        "    while suivant is not None and c < N :\n",
        "      tuple_avec_numero_partition = (partID, *suivant)\n",
        "      yield tuple_avec_numero_partition\n",
        "      suivant = next(iterateur, None)\n",
        "      c+=1\n",
        "\n",
        "  #-- fin de topN ---\n",
        "\n",
        "\n",
        "  nom_attributs = ['_partID'] + df.schema.fieldNames()\n",
        "  premiers_tuples = df.rdd.mapPartitionsWithIndex(topN).toDF(nom_attributs)\n",
        "\n",
        "  if( separate):\n",
        "  # afficher séparément le contenu de chaque partition\n",
        "    for partID in range(nb_partitions):\n",
        "      print(\"partition\", partID)\n",
        "      # afficher la partition partID\n",
        "      premiers_tuples.where(f\"_partID={partID}\").drop(\"_partID\").show(N, False)\n",
        "  else:\n",
        "    # afficher les partitions avec le pseudo attribut _partID\n",
        "    premiers_tuples.show(N*nb_partitions, False)\n",
        "    # return display(premiers_tuples, N*nb_partitions)\n",
        "\n",
        "print('showPartitions définie')"
      ]
    },
    {
      "cell_type": "markdown",
      "metadata": {
        "id": "EDq7kGmzOlKv"
      },
      "source": [
        "Show the partitions."
      ]
    },
    {
      "cell_type": "code",
      "execution_count": 43,
      "metadata": {
        "colab": {
          "base_uri": "https://localhost:8080/"
        },
        "id": "vMCfV70JOkWR",
        "outputId": "5e5da729-f3e3-4e20-abba-a800ddd1e14b"
      },
      "outputs": [
        {
          "name": "stdout",
          "output_type": "stream",
          "text": [
            "partition 0\n",
            "+---+---+\n",
            "|s  |d  |\n",
            "+---+---+\n",
            "|n3 |n1 |\n",
            "|n1 |n2 |\n",
            "|n4 |n8 |\n",
            "|n7 |n6 |\n",
            "+---+---+\n",
            "\n",
            "partition 1\n",
            "+---+---+\n",
            "|s  |d  |\n",
            "+---+---+\n",
            "|n4 |n5 |\n",
            "|n2 |n3 |\n",
            "|n7 |n5 |\n",
            "|n4 |n6 |\n",
            "+---+---+\n",
            "\n"
          ]
        }
      ],
      "source": [
        "showPartitions(G)"
      ]
    },
    {
      "cell_type": "code",
      "execution_count": 44,
      "metadata": {
        "colab": {
          "base_uri": "https://localhost:8080/"
        },
        "id": "7lpHeCqBRgWg",
        "outputId": "9677c8cd-b77b-42a4-c14c-45e697ec3db5"
      },
      "outputs": [
        {
          "name": "stdout",
          "output_type": "stream",
          "text": [
            "+-------+---+---+\n",
            "|_partID|s  |d  |\n",
            "+-------+---+---+\n",
            "|0      |n3 |n1 |\n",
            "|0      |n1 |n2 |\n",
            "|0      |n4 |n8 |\n",
            "|0      |n7 |n6 |\n",
            "|1      |n4 |n5 |\n",
            "|1      |n2 |n3 |\n",
            "|1      |n7 |n5 |\n",
            "|1      |n4 |n6 |\n",
            "+-------+---+---+\n",
            "\n"
          ]
        }
      ],
      "source": [
        "# afficher les partitions avec le pseudo attribut _partID\n",
        "showPartitions(G, separate=False)"
      ]
    },
    {
      "cell_type": "code",
      "execution_count": 17,
      "metadata": {
        "id": "PKCR7pEOipfK"
      },
      "outputs": [],
      "source": [
        "def calculer_composantes(partID, iterateur):\n",
        "  nset = set()\n",
        "  elist = []\n",
        "  suivant = next(iterateur, None)\n",
        "  while suivant is not None:\n",
        "    s, d = suivant\n",
        "    nset.update([s, d])\n",
        "    elist.append((s, d))\n",
        "    suivant = next(iterateur, None)\n",
        "  nlist = list(nset)\n",
        "\n",
        "  g_ig = ig.Graph(directed=False)\n",
        "  g_ig.add_vertices(nlist)\n",
        "  g_ig.add_edges(elist)\n",
        "\n",
        "  components = g_ig.connected_components(mode='weak')\n",
        "\n",
        "  vertex_comp = zip(g_ig.vs()[\"name\"], components.membership)\n",
        "\n",
        "  for n,comp in vertex_comp:\n",
        "    yield (f\"P{partID}\", n,comp)"
      ]
    },
    {
      "cell_type": "code",
      "execution_count": 46,
      "metadata": {
        "colab": {
          "base_uri": "https://localhost:8080/",
          "height": 344
        },
        "id": "hZ_620by_EZt",
        "outputId": "2f0fe30e-27f8-4e07-8663-1d03f27dd924"
      },
      "outputs": [
        {
          "data": {
            "application/vnd.google.colaboratory.module+javascript": "\n      import \"https://ssl.gstatic.com/colaboratory/data_table/881c4a0d49046431/data_table.js\";\n\n      const table = window.createDataTable({\n        data: [[\"P0\",\n\"n2\",\n{\n            'v': 0,\n            'f': \"0\",\n        }],\n [\"P0\",\n\"n8\",\n{\n            'v': 1,\n            'f': \"1\",\n        }],\n [\"P0\",\n\"n1\",\n{\n            'v': 0,\n            'f': \"0\",\n        }],\n [\"P0\",\n\"n3\",\n{\n            'v': 0,\n            'f': \"0\",\n        }],\n [\"P0\",\n\"n6\",\n{\n            'v': 2,\n            'f': \"2\",\n        }],\n [\"P0\",\n\"n7\",\n{\n            'v': 2,\n            'f': \"2\",\n        }],\n [\"P0\",\n\"n4\",\n{\n            'v': 1,\n            'f': \"1\",\n        }],\n [\"P1\",\n\"n5\",\n{\n            'v': 0,\n            'f': \"0\",\n        }],\n [\"P1\",\n\"n2\",\n{\n            'v': 1,\n            'f': \"1\",\n        }],\n [\"P1\",\n\"n3\",\n{\n            'v': 1,\n            'f': \"1\",\n        }],\n [\"P1\",\n\"n6\",\n{\n            'v': 0,\n            'f': \"0\",\n        }],\n [\"P1\",\n\"n7\",\n{\n            'v': 0,\n            'f': \"0\",\n        }],\n [\"P1\",\n\"n4\",\n{\n            'v': 0,\n            'f': \"0\",\n        }]],\n        columns: [[\"string\", \"_partID\"], [\"string\", \"n\"], [\"number\", \"comp\"]],\n        columnOptions: [],\n        rowsPerPage: 10,\n        helpUrl: \"https://colab.research.google.com/notebooks/data_table.ipynb\",\n        suppressOutputScrolling: true,\n        minimumWidth: undefined,\n      });\n\n      function appendQuickchartButton(parentElement) {\n        let quickchartButtonContainerElement = document.createElement('div');\n        quickchartButtonContainerElement.innerHTML = `\n<div id=\"df-6c785dfd-8768-4cf3-aa39-329c4beddc73\">\n  <button class=\"colab-df-quickchart\" onclick=\"quickchart('df-6c785dfd-8768-4cf3-aa39-329c4beddc73')\"\n            title=\"Suggest charts\"\n            style=\"display:none;\">\n    \n<svg xmlns=\"http://www.w3.org/2000/svg\" height=\"24px\"viewBox=\"0 0 24 24\"\n     width=\"24px\">\n    <g>\n        <path d=\"M19 3H5c-1.1 0-2 .9-2 2v14c0 1.1.9 2 2 2h14c1.1 0 2-.9 2-2V5c0-1.1-.9-2-2-2zM9 17H7v-7h2v7zm4 0h-2V7h2v10zm4 0h-2v-4h2v4z\"/>\n    </g>\n</svg>\n  </button>\n  \n<style>\n  .colab-df-quickchart {\n      --bg-color: #E8F0FE;\n      --fill-color: #1967D2;\n      --hover-bg-color: #E2EBFA;\n      --hover-fill-color: #174EA6;\n      --disabled-fill-color: #AAA;\n      --disabled-bg-color: #DDD;\n  }\n\n  [theme=dark] .colab-df-quickchart {\n      --bg-color: #3B4455;\n      --fill-color: #D2E3FC;\n      --hover-bg-color: #434B5C;\n      --hover-fill-color: #FFFFFF;\n      --disabled-bg-color: #3B4455;\n      --disabled-fill-color: #666;\n  }\n\n  .colab-df-quickchart {\n    background-color: var(--bg-color);\n    border: none;\n    border-radius: 50%;\n    cursor: pointer;\n    display: none;\n    fill: var(--fill-color);\n    height: 32px;\n    padding: 0;\n    width: 32px;\n  }\n\n  .colab-df-quickchart:hover {\n    background-color: var(--hover-bg-color);\n    box-shadow: 0 1px 2px rgba(60, 64, 67, 0.3), 0 1px 3px 1px rgba(60, 64, 67, 0.15);\n    fill: var(--button-hover-fill-color);\n  }\n\n  .colab-df-quickchart-complete:disabled,\n  .colab-df-quickchart-complete:disabled:hover {\n    background-color: var(--disabled-bg-color);\n    fill: var(--disabled-fill-color);\n    box-shadow: none;\n  }\n\n  .colab-df-spinner {\n    border: 2px solid var(--fill-color);\n    border-color: transparent;\n    border-bottom-color: var(--fill-color);\n    animation:\n      spin 1s steps(1) infinite;\n  }\n\n  @keyframes spin {\n    0% {\n      border-color: transparent;\n      border-bottom-color: var(--fill-color);\n      border-left-color: var(--fill-color);\n    }\n    20% {\n      border-color: transparent;\n      border-left-color: var(--fill-color);\n      border-top-color: var(--fill-color);\n    }\n    30% {\n      border-color: transparent;\n      border-left-color: var(--fill-color);\n      border-top-color: var(--fill-color);\n      border-right-color: var(--fill-color);\n    }\n    40% {\n      border-color: transparent;\n      border-right-color: var(--fill-color);\n      border-top-color: var(--fill-color);\n    }\n    60% {\n      border-color: transparent;\n      border-right-color: var(--fill-color);\n    }\n    80% {\n      border-color: transparent;\n      border-right-color: var(--fill-color);\n      border-bottom-color: var(--fill-color);\n    }\n    90% {\n      border-color: transparent;\n      border-bottom-color: var(--fill-color);\n    }\n  }\n</style>\n\n  <script>\n    async function quickchart(key) {\n      const quickchartButtonEl =\n        document.querySelector('#' + key + ' button');\n      quickchartButtonEl.disabled = true;  // To prevent multiple clicks.\n      quickchartButtonEl.classList.add('colab-df-spinner');\n      try {\n        const charts = await google.colab.kernel.invokeFunction(\n            'suggestCharts', [key], {});\n      } catch (error) {\n        console.error('Error during call to suggestCharts:', error);\n      }\n      quickchartButtonEl.classList.remove('colab-df-spinner');\n      quickchartButtonEl.classList.add('colab-df-quickchart-complete');\n    }\n    (() => {\n      let quickchartButtonEl =\n        document.querySelector('#df-6c785dfd-8768-4cf3-aa39-329c4beddc73 button');\n      quickchartButtonEl.style.display =\n        google.colab.kernel.accessAllowed ? 'block' : 'none';\n    })();\n  </script>\n</div>`;\n        parentElement.appendChild(quickchartButtonContainerElement);\n      }\n\n      appendQuickchartButton(table);\n    ",
            "text/html": [
              "<div>\n",
              "<style scoped>\n",
              "    .dataframe tbody tr th:only-of-type {\n",
              "        vertical-align: middle;\n",
              "    }\n",
              "\n",
              "    .dataframe tbody tr th {\n",
              "        vertical-align: top;\n",
              "    }\n",
              "\n",
              "    .dataframe thead th {\n",
              "        text-align: right;\n",
              "    }\n",
              "</style>\n",
              "<table border=\"1\" class=\"dataframe\">\n",
              "  <thead>\n",
              "    <tr style=\"text-align: right;\">\n",
              "      <th></th>\n",
              "      <th>_partID</th>\n",
              "      <th>n</th>\n",
              "      <th>comp</th>\n",
              "    </tr>\n",
              "  </thead>\n",
              "  <tbody>\n",
              "    <tr>\n",
              "      <th>0</th>\n",
              "      <td>P0</td>\n",
              "      <td>n2</td>\n",
              "      <td>0</td>\n",
              "    </tr>\n",
              "    <tr>\n",
              "      <th>1</th>\n",
              "      <td>P0</td>\n",
              "      <td>n8</td>\n",
              "      <td>1</td>\n",
              "    </tr>\n",
              "    <tr>\n",
              "      <th>2</th>\n",
              "      <td>P0</td>\n",
              "      <td>n1</td>\n",
              "      <td>0</td>\n",
              "    </tr>\n",
              "    <tr>\n",
              "      <th>3</th>\n",
              "      <td>P0</td>\n",
              "      <td>n3</td>\n",
              "      <td>0</td>\n",
              "    </tr>\n",
              "    <tr>\n",
              "      <th>4</th>\n",
              "      <td>P0</td>\n",
              "      <td>n6</td>\n",
              "      <td>2</td>\n",
              "    </tr>\n",
              "    <tr>\n",
              "      <th>5</th>\n",
              "      <td>P0</td>\n",
              "      <td>n7</td>\n",
              "      <td>2</td>\n",
              "    </tr>\n",
              "    <tr>\n",
              "      <th>6</th>\n",
              "      <td>P0</td>\n",
              "      <td>n4</td>\n",
              "      <td>1</td>\n",
              "    </tr>\n",
              "    <tr>\n",
              "      <th>7</th>\n",
              "      <td>P1</td>\n",
              "      <td>n5</td>\n",
              "      <td>0</td>\n",
              "    </tr>\n",
              "    <tr>\n",
              "      <th>8</th>\n",
              "      <td>P1</td>\n",
              "      <td>n2</td>\n",
              "      <td>1</td>\n",
              "    </tr>\n",
              "    <tr>\n",
              "      <th>9</th>\n",
              "      <td>P1</td>\n",
              "      <td>n3</td>\n",
              "      <td>1</td>\n",
              "    </tr>\n",
              "    <tr>\n",
              "      <th>10</th>\n",
              "      <td>P1</td>\n",
              "      <td>n6</td>\n",
              "      <td>0</td>\n",
              "    </tr>\n",
              "    <tr>\n",
              "      <th>11</th>\n",
              "      <td>P1</td>\n",
              "      <td>n7</td>\n",
              "      <td>0</td>\n",
              "    </tr>\n",
              "    <tr>\n",
              "      <th>12</th>\n",
              "      <td>P1</td>\n",
              "      <td>n4</td>\n",
              "      <td>0</td>\n",
              "    </tr>\n",
              "  </tbody>\n",
              "</table>\n",
              "</div>"
            ],
            "text/plain": [
              "<google.colab.data_table.DataTable object>"
            ]
          },
          "execution_count": 46,
          "metadata": {},
          "output_type": "execute_result"
        }
      ],
      "source": [
        "nom_attributs = ['_partID', 'n', 'comp']\n",
        "composantes = G.rdd.mapPartitionsWithIndex(calculer_composantes).toDF(nom_attributs)\n",
        "display(composantes)"
      ]
    },
    {
      "cell_type": "code",
      "execution_count": 47,
      "metadata": {
        "colab": {
          "base_uri": "https://localhost:8080/",
          "height": 228
        },
        "id": "mZNNkn4z_EWO",
        "outputId": "252d562f-fb08-4793-8b16-0cda93cfad8f"
      },
      "outputs": [
        {
          "data": {
            "application/vnd.google.colaboratory.module+javascript": "\n      import \"https://ssl.gstatic.com/colaboratory/data_table/881c4a0d49046431/data_table.js\";\n\n      const table = window.createDataTable({\n        data: [[\"n2\",\n\"P0_0\",\n\"P1_1\"],\n [\"n3\",\n\"P0_0\",\n\"P1_1\"],\n [\"n4\",\n\"P0_1\",\n\"P1_0\"],\n [\"n6\",\n\"P0_2\",\n\"P1_0\"],\n [\"n7\",\n\"P0_2\",\n\"P1_0\"]],\n        columns: [[\"string\", \"n\"], [\"string\", \"from_comp\"], [\"string\", \"to_comp\"]],\n        columnOptions: [],\n        rowsPerPage: 10,\n        helpUrl: \"https://colab.research.google.com/notebooks/data_table.ipynb\",\n        suppressOutputScrolling: true,\n        minimumWidth: undefined,\n      });\n\n      function appendQuickchartButton(parentElement) {\n        let quickchartButtonContainerElement = document.createElement('div');\n        quickchartButtonContainerElement.innerHTML = `\n<div id=\"df-45cf9237-e907-4b26-b975-3d86f41dfe5e\">\n  <button class=\"colab-df-quickchart\" onclick=\"quickchart('df-45cf9237-e907-4b26-b975-3d86f41dfe5e')\"\n            title=\"Suggest charts\"\n            style=\"display:none;\">\n    \n<svg xmlns=\"http://www.w3.org/2000/svg\" height=\"24px\"viewBox=\"0 0 24 24\"\n     width=\"24px\">\n    <g>\n        <path d=\"M19 3H5c-1.1 0-2 .9-2 2v14c0 1.1.9 2 2 2h14c1.1 0 2-.9 2-2V5c0-1.1-.9-2-2-2zM9 17H7v-7h2v7zm4 0h-2V7h2v10zm4 0h-2v-4h2v4z\"/>\n    </g>\n</svg>\n  </button>\n  \n<style>\n  .colab-df-quickchart {\n      --bg-color: #E8F0FE;\n      --fill-color: #1967D2;\n      --hover-bg-color: #E2EBFA;\n      --hover-fill-color: #174EA6;\n      --disabled-fill-color: #AAA;\n      --disabled-bg-color: #DDD;\n  }\n\n  [theme=dark] .colab-df-quickchart {\n      --bg-color: #3B4455;\n      --fill-color: #D2E3FC;\n      --hover-bg-color: #434B5C;\n      --hover-fill-color: #FFFFFF;\n      --disabled-bg-color: #3B4455;\n      --disabled-fill-color: #666;\n  }\n\n  .colab-df-quickchart {\n    background-color: var(--bg-color);\n    border: none;\n    border-radius: 50%;\n    cursor: pointer;\n    display: none;\n    fill: var(--fill-color);\n    height: 32px;\n    padding: 0;\n    width: 32px;\n  }\n\n  .colab-df-quickchart:hover {\n    background-color: var(--hover-bg-color);\n    box-shadow: 0 1px 2px rgba(60, 64, 67, 0.3), 0 1px 3px 1px rgba(60, 64, 67, 0.15);\n    fill: var(--button-hover-fill-color);\n  }\n\n  .colab-df-quickchart-complete:disabled,\n  .colab-df-quickchart-complete:disabled:hover {\n    background-color: var(--disabled-bg-color);\n    fill: var(--disabled-fill-color);\n    box-shadow: none;\n  }\n\n  .colab-df-spinner {\n    border: 2px solid var(--fill-color);\n    border-color: transparent;\n    border-bottom-color: var(--fill-color);\n    animation:\n      spin 1s steps(1) infinite;\n  }\n\n  @keyframes spin {\n    0% {\n      border-color: transparent;\n      border-bottom-color: var(--fill-color);\n      border-left-color: var(--fill-color);\n    }\n    20% {\n      border-color: transparent;\n      border-left-color: var(--fill-color);\n      border-top-color: var(--fill-color);\n    }\n    30% {\n      border-color: transparent;\n      border-left-color: var(--fill-color);\n      border-top-color: var(--fill-color);\n      border-right-color: var(--fill-color);\n    }\n    40% {\n      border-color: transparent;\n      border-right-color: var(--fill-color);\n      border-top-color: var(--fill-color);\n    }\n    60% {\n      border-color: transparent;\n      border-right-color: var(--fill-color);\n    }\n    80% {\n      border-color: transparent;\n      border-right-color: var(--fill-color);\n      border-bottom-color: var(--fill-color);\n    }\n    90% {\n      border-color: transparent;\n      border-bottom-color: var(--fill-color);\n    }\n  }\n</style>\n\n  <script>\n    async function quickchart(key) {\n      const quickchartButtonEl =\n        document.querySelector('#' + key + ' button');\n      quickchartButtonEl.disabled = true;  // To prevent multiple clicks.\n      quickchartButtonEl.classList.add('colab-df-spinner');\n      try {\n        const charts = await google.colab.kernel.invokeFunction(\n            'suggestCharts', [key], {});\n      } catch (error) {\n        console.error('Error during call to suggestCharts:', error);\n      }\n      quickchartButtonEl.classList.remove('colab-df-spinner');\n      quickchartButtonEl.classList.add('colab-df-quickchart-complete');\n    }\n    (() => {\n      let quickchartButtonEl =\n        document.querySelector('#df-45cf9237-e907-4b26-b975-3d86f41dfe5e button');\n      quickchartButtonEl.style.display =\n        google.colab.kernel.accessAllowed ? 'block' : 'none';\n    })();\n  </script>\n</div>`;\n        parentElement.appendChild(quickchartButtonContainerElement);\n      }\n\n      appendQuickchartButton(table);\n    ",
            "text/html": [
              "<div>\n",
              "<style scoped>\n",
              "    .dataframe tbody tr th:only-of-type {\n",
              "        vertical-align: middle;\n",
              "    }\n",
              "\n",
              "    .dataframe tbody tr th {\n",
              "        vertical-align: top;\n",
              "    }\n",
              "\n",
              "    .dataframe thead th {\n",
              "        text-align: right;\n",
              "    }\n",
              "</style>\n",
              "<table border=\"1\" class=\"dataframe\">\n",
              "  <thead>\n",
              "    <tr style=\"text-align: right;\">\n",
              "      <th></th>\n",
              "      <th>n</th>\n",
              "      <th>from_comp</th>\n",
              "      <th>to_comp</th>\n",
              "    </tr>\n",
              "  </thead>\n",
              "  <tbody>\n",
              "    <tr>\n",
              "      <th>0</th>\n",
              "      <td>n2</td>\n",
              "      <td>P0_0</td>\n",
              "      <td>P1_1</td>\n",
              "    </tr>\n",
              "    <tr>\n",
              "      <th>1</th>\n",
              "      <td>n3</td>\n",
              "      <td>P0_0</td>\n",
              "      <td>P1_1</td>\n",
              "    </tr>\n",
              "    <tr>\n",
              "      <th>2</th>\n",
              "      <td>n4</td>\n",
              "      <td>P0_1</td>\n",
              "      <td>P1_0</td>\n",
              "    </tr>\n",
              "    <tr>\n",
              "      <th>3</th>\n",
              "      <td>n6</td>\n",
              "      <td>P0_2</td>\n",
              "      <td>P1_0</td>\n",
              "    </tr>\n",
              "    <tr>\n",
              "      <th>4</th>\n",
              "      <td>n7</td>\n",
              "      <td>P0_2</td>\n",
              "      <td>P1_0</td>\n",
              "    </tr>\n",
              "  </tbody>\n",
              "</table>\n",
              "</div>"
            ],
            "text/plain": [
              "<google.colab.data_table.DataTable object>"
            ]
          },
          "execution_count": 47,
          "metadata": {},
          "output_type": "execute_result"
        }
      ],
      "source": [
        "# Calcul de Comp_edges comme en 1)d)\n",
        "Comp_edges = composantes.withColumn(\"_partID_\", f.concat(col(\"_partID\"), f.expr(\"'_'\")))\\\n",
        "  .withColumn(\"comp\",f.concat(col(\"_partID_\"), col(\"comp\")))\\\n",
        "  .groupBy(\"n\").pivot(\"_partID\").agg(f.first(\"comp\")).na.drop()\\\n",
        "  .select(col(\"n\"), col(\"P0\").alias(\"from_comp\"), col(\"P1\").alias(\"to_comp\")).distinct()\n",
        "display(Comp_edges)"
      ]
    },
    {
      "cell_type": "code",
      "execution_count": 48,
      "metadata": {
        "colab": {
          "base_uri": "https://localhost:8080/",
          "height": 245
        },
        "id": "F6QMUFMuAOY4",
        "outputId": "e9d1ed8d-445f-4b95-ce11-1b1ef4dd3054"
      },
      "outputs": [
        {
          "name": "stdout",
          "output_type": "stream",
          "text": [
            "Le graphe Comp_edges a pour composantes : [('P0_0', 0), ('P0_1', 1), ('P0_2', 1), ('P1_1', 0), ('P1_0', 1)]\n"
          ]
        },
        {
          "data": {
            "application/vnd.google.colaboratory.module+javascript": "\n      import \"https://ssl.gstatic.com/colaboratory/data_table/881c4a0d49046431/data_table.js\";\n\n      const table = window.createDataTable({\n        data: [[\"P0_0\",\n{\n            'v': 0,\n            'f': \"0\",\n        }],\n [\"P0_1\",\n{\n            'v': 1,\n            'f': \"1\",\n        }],\n [\"P0_2\",\n{\n            'v': 1,\n            'f': \"1\",\n        }],\n [\"P1_1\",\n{\n            'v': 0,\n            'f': \"0\",\n        }],\n [\"P1_0\",\n{\n            'v': 1,\n            'f': \"1\",\n        }]],\n        columns: [[\"string\", \"comp\"], [\"number\", \"global_comp\"]],\n        columnOptions: [],\n        rowsPerPage: 10,\n        helpUrl: \"https://colab.research.google.com/notebooks/data_table.ipynb\",\n        suppressOutputScrolling: true,\n        minimumWidth: undefined,\n      });\n\n      function appendQuickchartButton(parentElement) {\n        let quickchartButtonContainerElement = document.createElement('div');\n        quickchartButtonContainerElement.innerHTML = `\n<div id=\"df-4621b940-f48b-4707-b65a-512c4936ae81\">\n  <button class=\"colab-df-quickchart\" onclick=\"quickchart('df-4621b940-f48b-4707-b65a-512c4936ae81')\"\n            title=\"Suggest charts\"\n            style=\"display:none;\">\n    \n<svg xmlns=\"http://www.w3.org/2000/svg\" height=\"24px\"viewBox=\"0 0 24 24\"\n     width=\"24px\">\n    <g>\n        <path d=\"M19 3H5c-1.1 0-2 .9-2 2v14c0 1.1.9 2 2 2h14c1.1 0 2-.9 2-2V5c0-1.1-.9-2-2-2zM9 17H7v-7h2v7zm4 0h-2V7h2v10zm4 0h-2v-4h2v4z\"/>\n    </g>\n</svg>\n  </button>\n  \n<style>\n  .colab-df-quickchart {\n      --bg-color: #E8F0FE;\n      --fill-color: #1967D2;\n      --hover-bg-color: #E2EBFA;\n      --hover-fill-color: #174EA6;\n      --disabled-fill-color: #AAA;\n      --disabled-bg-color: #DDD;\n  }\n\n  [theme=dark] .colab-df-quickchart {\n      --bg-color: #3B4455;\n      --fill-color: #D2E3FC;\n      --hover-bg-color: #434B5C;\n      --hover-fill-color: #FFFFFF;\n      --disabled-bg-color: #3B4455;\n      --disabled-fill-color: #666;\n  }\n\n  .colab-df-quickchart {\n    background-color: var(--bg-color);\n    border: none;\n    border-radius: 50%;\n    cursor: pointer;\n    display: none;\n    fill: var(--fill-color);\n    height: 32px;\n    padding: 0;\n    width: 32px;\n  }\n\n  .colab-df-quickchart:hover {\n    background-color: var(--hover-bg-color);\n    box-shadow: 0 1px 2px rgba(60, 64, 67, 0.3), 0 1px 3px 1px rgba(60, 64, 67, 0.15);\n    fill: var(--button-hover-fill-color);\n  }\n\n  .colab-df-quickchart-complete:disabled,\n  .colab-df-quickchart-complete:disabled:hover {\n    background-color: var(--disabled-bg-color);\n    fill: var(--disabled-fill-color);\n    box-shadow: none;\n  }\n\n  .colab-df-spinner {\n    border: 2px solid var(--fill-color);\n    border-color: transparent;\n    border-bottom-color: var(--fill-color);\n    animation:\n      spin 1s steps(1) infinite;\n  }\n\n  @keyframes spin {\n    0% {\n      border-color: transparent;\n      border-bottom-color: var(--fill-color);\n      border-left-color: var(--fill-color);\n    }\n    20% {\n      border-color: transparent;\n      border-left-color: var(--fill-color);\n      border-top-color: var(--fill-color);\n    }\n    30% {\n      border-color: transparent;\n      border-left-color: var(--fill-color);\n      border-top-color: var(--fill-color);\n      border-right-color: var(--fill-color);\n    }\n    40% {\n      border-color: transparent;\n      border-right-color: var(--fill-color);\n      border-top-color: var(--fill-color);\n    }\n    60% {\n      border-color: transparent;\n      border-right-color: var(--fill-color);\n    }\n    80% {\n      border-color: transparent;\n      border-right-color: var(--fill-color);\n      border-bottom-color: var(--fill-color);\n    }\n    90% {\n      border-color: transparent;\n      border-bottom-color: var(--fill-color);\n    }\n  }\n</style>\n\n  <script>\n    async function quickchart(key) {\n      const quickchartButtonEl =\n        document.querySelector('#' + key + ' button');\n      quickchartButtonEl.disabled = true;  // To prevent multiple clicks.\n      quickchartButtonEl.classList.add('colab-df-spinner');\n      try {\n        const charts = await google.colab.kernel.invokeFunction(\n            'suggestCharts', [key], {});\n      } catch (error) {\n        console.error('Error during call to suggestCharts:', error);\n      }\n      quickchartButtonEl.classList.remove('colab-df-spinner');\n      quickchartButtonEl.classList.add('colab-df-quickchart-complete');\n    }\n    (() => {\n      let quickchartButtonEl =\n        document.querySelector('#df-4621b940-f48b-4707-b65a-512c4936ae81 button');\n      quickchartButtonEl.style.display =\n        google.colab.kernel.accessAllowed ? 'block' : 'none';\n    })();\n  </script>\n</div>`;\n        parentElement.appendChild(quickchartButtonContainerElement);\n      }\n\n      appendQuickchartButton(table);\n    ",
            "text/html": [
              "<div>\n",
              "<style scoped>\n",
              "    .dataframe tbody tr th:only-of-type {\n",
              "        vertical-align: middle;\n",
              "    }\n",
              "\n",
              "    .dataframe tbody tr th {\n",
              "        vertical-align: top;\n",
              "    }\n",
              "\n",
              "    .dataframe thead th {\n",
              "        text-align: right;\n",
              "    }\n",
              "</style>\n",
              "<table border=\"1\" class=\"dataframe\">\n",
              "  <thead>\n",
              "    <tr style=\"text-align: right;\">\n",
              "      <th></th>\n",
              "      <th>comp</th>\n",
              "      <th>global_comp</th>\n",
              "    </tr>\n",
              "  </thead>\n",
              "  <tbody>\n",
              "    <tr>\n",
              "      <th>0</th>\n",
              "      <td>P0_0</td>\n",
              "      <td>0</td>\n",
              "    </tr>\n",
              "    <tr>\n",
              "      <th>1</th>\n",
              "      <td>P0_1</td>\n",
              "      <td>1</td>\n",
              "    </tr>\n",
              "    <tr>\n",
              "      <th>2</th>\n",
              "      <td>P0_2</td>\n",
              "      <td>1</td>\n",
              "    </tr>\n",
              "    <tr>\n",
              "      <th>3</th>\n",
              "      <td>P1_1</td>\n",
              "      <td>0</td>\n",
              "    </tr>\n",
              "    <tr>\n",
              "      <th>4</th>\n",
              "      <td>P1_0</td>\n",
              "      <td>1</td>\n",
              "    </tr>\n",
              "  </tbody>\n",
              "</table>\n",
              "</div>"
            ],
            "text/plain": [
              "<google.colab.data_table.DataTable object>"
            ]
          },
          "execution_count": 48,
          "metadata": {},
          "output_type": "execute_result"
        }
      ],
      "source": [
        "edge_list = Comp_edges.toPandas().to_records(index=False).tolist()\n",
        "comp_list = get_composantes(Comp_edges.select(col(\"from_comp\").alias(\"s\"),col(\"to_comp\").alias(\"d\")))\n",
        "\n",
        "print(f\"Le graphe Comp_edges a pour composantes :\", comp_list)\n",
        "\n",
        "Global_comp = spark.createDataFrame(comp_list, [\"comp\", \"global_comp\"])\n",
        "display(Global_comp)"
      ]
    },
    {
      "cell_type": "code",
      "execution_count": 51,
      "metadata": {
        "colab": {
          "base_uri": "https://localhost:8080/",
          "height": 309
        },
        "id": "DAECInOeBL9N",
        "outputId": "a4ed4ccb-18d2-4dcb-b6bd-65b77648f419"
      },
      "outputs": [
        {
          "name": "stdout",
          "output_type": "stream",
          "text": [
            "Les composantes globales:\n"
          ]
        },
        {
          "data": {
            "application/vnd.google.colaboratory.module+javascript": "\n      import \"https://ssl.gstatic.com/colaboratory/data_table/881c4a0d49046431/data_table.js\";\n\n      const table = window.createDataTable({\n        data: [[\"n1\",\n{\n            'v': 0,\n            'f': \"0\",\n        }],\n [\"n6\",\n{\n            'v': 1,\n            'f': \"1\",\n        }],\n [\"n4\",\n{\n            'v': 1,\n            'f': \"1\",\n        }],\n [\"n7\",\n{\n            'v': 1,\n            'f': \"1\",\n        }],\n [\"n2\",\n{\n            'v': 0,\n            'f': \"0\",\n        }],\n [\"n3\",\n{\n            'v': 0,\n            'f': \"0\",\n        }],\n [\"n8\",\n{\n            'v': 1,\n            'f': \"1\",\n        }],\n [\"n5\",\n{\n            'v': 1,\n            'f': \"1\",\n        }]],\n        columns: [[\"string\", \"n\"], [\"number\", \"global_comp\"]],\n        columnOptions: [],\n        rowsPerPage: 10,\n        helpUrl: \"https://colab.research.google.com/notebooks/data_table.ipynb\",\n        suppressOutputScrolling: true,\n        minimumWidth: undefined,\n      });\n\n      function appendQuickchartButton(parentElement) {\n        let quickchartButtonContainerElement = document.createElement('div');\n        quickchartButtonContainerElement.innerHTML = `\n<div id=\"df-75f0796b-1e51-47da-a1c6-3f985a8b594e\">\n  <button class=\"colab-df-quickchart\" onclick=\"quickchart('df-75f0796b-1e51-47da-a1c6-3f985a8b594e')\"\n            title=\"Suggest charts\"\n            style=\"display:none;\">\n    \n<svg xmlns=\"http://www.w3.org/2000/svg\" height=\"24px\"viewBox=\"0 0 24 24\"\n     width=\"24px\">\n    <g>\n        <path d=\"M19 3H5c-1.1 0-2 .9-2 2v14c0 1.1.9 2 2 2h14c1.1 0 2-.9 2-2V5c0-1.1-.9-2-2-2zM9 17H7v-7h2v7zm4 0h-2V7h2v10zm4 0h-2v-4h2v4z\"/>\n    </g>\n</svg>\n  </button>\n  \n<style>\n  .colab-df-quickchart {\n      --bg-color: #E8F0FE;\n      --fill-color: #1967D2;\n      --hover-bg-color: #E2EBFA;\n      --hover-fill-color: #174EA6;\n      --disabled-fill-color: #AAA;\n      --disabled-bg-color: #DDD;\n  }\n\n  [theme=dark] .colab-df-quickchart {\n      --bg-color: #3B4455;\n      --fill-color: #D2E3FC;\n      --hover-bg-color: #434B5C;\n      --hover-fill-color: #FFFFFF;\n      --disabled-bg-color: #3B4455;\n      --disabled-fill-color: #666;\n  }\n\n  .colab-df-quickchart {\n    background-color: var(--bg-color);\n    border: none;\n    border-radius: 50%;\n    cursor: pointer;\n    display: none;\n    fill: var(--fill-color);\n    height: 32px;\n    padding: 0;\n    width: 32px;\n  }\n\n  .colab-df-quickchart:hover {\n    background-color: var(--hover-bg-color);\n    box-shadow: 0 1px 2px rgba(60, 64, 67, 0.3), 0 1px 3px 1px rgba(60, 64, 67, 0.15);\n    fill: var(--button-hover-fill-color);\n  }\n\n  .colab-df-quickchart-complete:disabled,\n  .colab-df-quickchart-complete:disabled:hover {\n    background-color: var(--disabled-bg-color);\n    fill: var(--disabled-fill-color);\n    box-shadow: none;\n  }\n\n  .colab-df-spinner {\n    border: 2px solid var(--fill-color);\n    border-color: transparent;\n    border-bottom-color: var(--fill-color);\n    animation:\n      spin 1s steps(1) infinite;\n  }\n\n  @keyframes spin {\n    0% {\n      border-color: transparent;\n      border-bottom-color: var(--fill-color);\n      border-left-color: var(--fill-color);\n    }\n    20% {\n      border-color: transparent;\n      border-left-color: var(--fill-color);\n      border-top-color: var(--fill-color);\n    }\n    30% {\n      border-color: transparent;\n      border-left-color: var(--fill-color);\n      border-top-color: var(--fill-color);\n      border-right-color: var(--fill-color);\n    }\n    40% {\n      border-color: transparent;\n      border-right-color: var(--fill-color);\n      border-top-color: var(--fill-color);\n    }\n    60% {\n      border-color: transparent;\n      border-right-color: var(--fill-color);\n    }\n    80% {\n      border-color: transparent;\n      border-right-color: var(--fill-color);\n      border-bottom-color: var(--fill-color);\n    }\n    90% {\n      border-color: transparent;\n      border-bottom-color: var(--fill-color);\n    }\n  }\n</style>\n\n  <script>\n    async function quickchart(key) {\n      const quickchartButtonEl =\n        document.querySelector('#' + key + ' button');\n      quickchartButtonEl.disabled = true;  // To prevent multiple clicks.\n      quickchartButtonEl.classList.add('colab-df-spinner');\n      try {\n        const charts = await google.colab.kernel.invokeFunction(\n            'suggestCharts', [key], {});\n      } catch (error) {\n        console.error('Error during call to suggestCharts:', error);\n      }\n      quickchartButtonEl.classList.remove('colab-df-spinner');\n      quickchartButtonEl.classList.add('colab-df-quickchart-complete');\n    }\n    (() => {\n      let quickchartButtonEl =\n        document.querySelector('#df-75f0796b-1e51-47da-a1c6-3f985a8b594e button');\n      quickchartButtonEl.style.display =\n        google.colab.kernel.accessAllowed ? 'block' : 'none';\n    })();\n  </script>\n</div>`;\n        parentElement.appendChild(quickchartButtonContainerElement);\n      }\n\n      appendQuickchartButton(table);\n    ",
            "text/html": [
              "<div>\n",
              "<style scoped>\n",
              "    .dataframe tbody tr th:only-of-type {\n",
              "        vertical-align: middle;\n",
              "    }\n",
              "\n",
              "    .dataframe tbody tr th {\n",
              "        vertical-align: top;\n",
              "    }\n",
              "\n",
              "    .dataframe thead th {\n",
              "        text-align: right;\n",
              "    }\n",
              "</style>\n",
              "<table border=\"1\" class=\"dataframe\">\n",
              "  <thead>\n",
              "    <tr style=\"text-align: right;\">\n",
              "      <th></th>\n",
              "      <th>n</th>\n",
              "      <th>global_comp</th>\n",
              "    </tr>\n",
              "  </thead>\n",
              "  <tbody>\n",
              "    <tr>\n",
              "      <th>0</th>\n",
              "      <td>n1</td>\n",
              "      <td>0</td>\n",
              "    </tr>\n",
              "    <tr>\n",
              "      <th>1</th>\n",
              "      <td>n6</td>\n",
              "      <td>1</td>\n",
              "    </tr>\n",
              "    <tr>\n",
              "      <th>2</th>\n",
              "      <td>n4</td>\n",
              "      <td>1</td>\n",
              "    </tr>\n",
              "    <tr>\n",
              "      <th>3</th>\n",
              "      <td>n7</td>\n",
              "      <td>1</td>\n",
              "    </tr>\n",
              "    <tr>\n",
              "      <th>4</th>\n",
              "      <td>n2</td>\n",
              "      <td>0</td>\n",
              "    </tr>\n",
              "    <tr>\n",
              "      <th>5</th>\n",
              "      <td>n3</td>\n",
              "      <td>0</td>\n",
              "    </tr>\n",
              "    <tr>\n",
              "      <th>6</th>\n",
              "      <td>n8</td>\n",
              "      <td>1</td>\n",
              "    </tr>\n",
              "    <tr>\n",
              "      <th>7</th>\n",
              "      <td>n5</td>\n",
              "      <td>1</td>\n",
              "    </tr>\n",
              "  </tbody>\n",
              "</table>\n",
              "</div>"
            ],
            "text/plain": [
              "<google.colab.data_table.DataTable object>"
            ]
          },
          "execution_count": 51,
          "metadata": {},
          "output_type": "execute_result"
        }
      ],
      "source": [
        "composantes_gl = composantes.withColumn(\"_partID_\", f.concat(col(\"_partID\"), f.expr(\"'_'\")))\\\n",
        "  .withColumn(\"comp\",f.concat(col(\"_partID_\"), col(\"comp\")))\\\n",
        "  .alias(\"d1\").join(Global_comp.alias(\"d2\"), \"comp\").select(\"d1.n\",\"d2.global_comp\").distinct()\n",
        "print(\"Les composantes globales:\")\n",
        "display(composantes_gl)"
      ]
    },
    {
      "cell_type": "markdown",
      "metadata": {
        "id": "bSnWckoPQguC"
      },
      "source": [
        "## Large-scale calculation\n",
        "Now, we want to compute the components of \"real\" protein graphs with a number of arcs ranging from 10,000 to 10 million."
      ]
    },
    {
      "cell_type": "code",
      "execution_count": 14,
      "metadata": {
        "colab": {
          "base_uri": "https://localhost:8080/",
          "height": 332
        },
        "id": "DDM35LMpR_FY",
        "outputId": "87482871-e023-4fb5-b805-9b860ce6f09e"
      },
      "outputs": [
        {
          "name": "stdout",
          "output_type": "stream",
          "text": [
            "20842\n",
            "root\n",
            " |-- s: string (nullable = true)\n",
            " |-- d: string (nullable = true)\n",
            " |-- sim: float (nullable = true)\n",
            "\n"
          ]
        },
        {
          "data": {
            "application/vnd.google.colaboratory.module+javascript": "\n      import \"https://ssl.gstatic.com/colaboratory/data_table/881c4a0d49046431/data_table.js\";\n\n      const table = window.createDataTable({\n        data: [[\"117761605:5\",\n\"152890023:5\",\n{\n            'v': 97.80000305175781,\n            'f': \"97.80000305175781\",\n        }],\n [\"152904885:3\",\n\"155591878:2\",\n{\n            'v': 88.5,\n            'f': \"88.5\",\n        }],\n [\"152887848:4\",\n\"153682181:0\",\n{\n            'v': 100.0,\n            'f': \"100.0\",\n        }],\n [\"152937692:5\",\n\"80009514:2\",\n{\n            'v': 82.30000305175781,\n            'f': \"82.30000305175781\",\n        }],\n [\"152990923:2\",\n\"154549183:4\",\n{\n            'v': 98.0,\n            'f': \"98.0\",\n        }]],\n        columns: [[\"string\", \"s\"], [\"string\", \"d\"], [\"number\", \"sim\"]],\n        columnOptions: [],\n        rowsPerPage: 10,\n        helpUrl: \"https://colab.research.google.com/notebooks/data_table.ipynb\",\n        suppressOutputScrolling: true,\n        minimumWidth: undefined,\n      });\n\n      function appendQuickchartButton(parentElement) {\n        let quickchartButtonContainerElement = document.createElement('div');\n        quickchartButtonContainerElement.innerHTML = `\n<div id=\"df-be37e9ca-9b3d-45db-bca8-78d1b41de504\">\n  <button class=\"colab-df-quickchart\" onclick=\"quickchart('df-be37e9ca-9b3d-45db-bca8-78d1b41de504')\"\n            title=\"Suggest charts\"\n            style=\"display:none;\">\n    \n<svg xmlns=\"http://www.w3.org/2000/svg\" height=\"24px\"viewBox=\"0 0 24 24\"\n     width=\"24px\">\n    <g>\n        <path d=\"M19 3H5c-1.1 0-2 .9-2 2v14c0 1.1.9 2 2 2h14c1.1 0 2-.9 2-2V5c0-1.1-.9-2-2-2zM9 17H7v-7h2v7zm4 0h-2V7h2v10zm4 0h-2v-4h2v4z\"/>\n    </g>\n</svg>\n  </button>\n  \n<style>\n  .colab-df-quickchart {\n      --bg-color: #E8F0FE;\n      --fill-color: #1967D2;\n      --hover-bg-color: #E2EBFA;\n      --hover-fill-color: #174EA6;\n      --disabled-fill-color: #AAA;\n      --disabled-bg-color: #DDD;\n  }\n\n  [theme=dark] .colab-df-quickchart {\n      --bg-color: #3B4455;\n      --fill-color: #D2E3FC;\n      --hover-bg-color: #434B5C;\n      --hover-fill-color: #FFFFFF;\n      --disabled-bg-color: #3B4455;\n      --disabled-fill-color: #666;\n  }\n\n  .colab-df-quickchart {\n    background-color: var(--bg-color);\n    border: none;\n    border-radius: 50%;\n    cursor: pointer;\n    display: none;\n    fill: var(--fill-color);\n    height: 32px;\n    padding: 0;\n    width: 32px;\n  }\n\n  .colab-df-quickchart:hover {\n    background-color: var(--hover-bg-color);\n    box-shadow: 0 1px 2px rgba(60, 64, 67, 0.3), 0 1px 3px 1px rgba(60, 64, 67, 0.15);\n    fill: var(--button-hover-fill-color);\n  }\n\n  .colab-df-quickchart-complete:disabled,\n  .colab-df-quickchart-complete:disabled:hover {\n    background-color: var(--disabled-bg-color);\n    fill: var(--disabled-fill-color);\n    box-shadow: none;\n  }\n\n  .colab-df-spinner {\n    border: 2px solid var(--fill-color);\n    border-color: transparent;\n    border-bottom-color: var(--fill-color);\n    animation:\n      spin 1s steps(1) infinite;\n  }\n\n  @keyframes spin {\n    0% {\n      border-color: transparent;\n      border-bottom-color: var(--fill-color);\n      border-left-color: var(--fill-color);\n    }\n    20% {\n      border-color: transparent;\n      border-left-color: var(--fill-color);\n      border-top-color: var(--fill-color);\n    }\n    30% {\n      border-color: transparent;\n      border-left-color: var(--fill-color);\n      border-top-color: var(--fill-color);\n      border-right-color: var(--fill-color);\n    }\n    40% {\n      border-color: transparent;\n      border-right-color: var(--fill-color);\n      border-top-color: var(--fill-color);\n    }\n    60% {\n      border-color: transparent;\n      border-right-color: var(--fill-color);\n    }\n    80% {\n      border-color: transparent;\n      border-right-color: var(--fill-color);\n      border-bottom-color: var(--fill-color);\n    }\n    90% {\n      border-color: transparent;\n      border-bottom-color: var(--fill-color);\n    }\n  }\n</style>\n\n  <script>\n    async function quickchart(key) {\n      const quickchartButtonEl =\n        document.querySelector('#' + key + ' button');\n      quickchartButtonEl.disabled = true;  // To prevent multiple clicks.\n      quickchartButtonEl.classList.add('colab-df-spinner');\n      try {\n        const charts = await google.colab.kernel.invokeFunction(\n            'suggestCharts', [key], {});\n      } catch (error) {\n        console.error('Error during call to suggestCharts:', error);\n      }\n      quickchartButtonEl.classList.remove('colab-df-spinner');\n      quickchartButtonEl.classList.add('colab-df-quickchart-complete');\n    }\n    (() => {\n      let quickchartButtonEl =\n        document.querySelector('#df-be37e9ca-9b3d-45db-bca8-78d1b41de504 button');\n      quickchartButtonEl.style.display =\n        google.colab.kernel.accessAllowed ? 'block' : 'none';\n    })();\n  </script>\n</div>`;\n        parentElement.appendChild(quickchartButtonContainerElement);\n      }\n\n      appendQuickchartButton(table);\n    ",
            "text/html": [
              "<div>\n",
              "<style scoped>\n",
              "    .dataframe tbody tr th:only-of-type {\n",
              "        vertical-align: middle;\n",
              "    }\n",
              "\n",
              "    .dataframe tbody tr th {\n",
              "        vertical-align: top;\n",
              "    }\n",
              "\n",
              "    .dataframe thead th {\n",
              "        text-align: right;\n",
              "    }\n",
              "</style>\n",
              "<table border=\"1\" class=\"dataframe\">\n",
              "  <thead>\n",
              "    <tr style=\"text-align: right;\">\n",
              "      <th></th>\n",
              "      <th>s</th>\n",
              "      <th>d</th>\n",
              "      <th>sim</th>\n",
              "    </tr>\n",
              "  </thead>\n",
              "  <tbody>\n",
              "    <tr>\n",
              "      <th>0</th>\n",
              "      <td>117761605:5</td>\n",
              "      <td>152890023:5</td>\n",
              "      <td>97.800003</td>\n",
              "    </tr>\n",
              "    <tr>\n",
              "      <th>1</th>\n",
              "      <td>152904885:3</td>\n",
              "      <td>155591878:2</td>\n",
              "      <td>88.500000</td>\n",
              "    </tr>\n",
              "    <tr>\n",
              "      <th>2</th>\n",
              "      <td>152887848:4</td>\n",
              "      <td>153682181:0</td>\n",
              "      <td>100.000000</td>\n",
              "    </tr>\n",
              "    <tr>\n",
              "      <th>3</th>\n",
              "      <td>152937692:5</td>\n",
              "      <td>80009514:2</td>\n",
              "      <td>82.300003</td>\n",
              "    </tr>\n",
              "    <tr>\n",
              "      <th>4</th>\n",
              "      <td>152990923:2</td>\n",
              "      <td>154549183:4</td>\n",
              "      <td>98.000000</td>\n",
              "    </tr>\n",
              "  </tbody>\n",
              "</table>\n",
              "</div>"
            ],
            "text/plain": [
              "<google.colab.data_table.DataTable object>"
            ]
          },
          "execution_count": 14,
          "metadata": {},
          "output_type": "execute_result"
        }
      ],
      "source": [
        "g10K = spark.read.format(\"parquet\").load(\"/local/data/BDLE_10K\").selectExpr(\"seqID1 as s\", \"seqID2 as d\", \"sim\").persist()\n",
        "print(g10K.count())\n",
        "g10K.printSchema()\n",
        "display(g10K, 5)"
      ]
    },
    {
      "cell_type": "code",
      "execution_count": 15,
      "metadata": {
        "colab": {
          "base_uri": "https://localhost:8080/",
          "height": 332
        },
        "id": "cj7DjlIFqiib",
        "outputId": "c50c68d7-b929-4928-e5af-dd9c49a0e5ba"
      },
      "outputs": [
        {
          "name": "stdout",
          "output_type": "stream",
          "text": [
            "1768595\n",
            "root\n",
            " |-- s: string (nullable = true)\n",
            " |-- d: string (nullable = true)\n",
            " |-- sim: float (nullable = true)\n",
            "\n"
          ]
        },
        {
          "data": {
            "application/vnd.google.colaboratory.module+javascript": "\n      import \"https://ssl.gstatic.com/colaboratory/data_table/881c4a0d49046431/data_table.js\";\n\n      const table = window.createDataTable({\n        data: [[\"28266027:2\",\n\"30697475:4\",\n{\n            'v': 100.0,\n            'f': \"100.0\",\n        }],\n [\"141099253:1\",\n\"142374057:2\",\n{\n            'v': 87.80000305175781,\n            'f': \"87.80000305175781\",\n        }],\n [\"100479579:0\",\n\"23509310:0\",\n{\n            'v': 83.9000015258789,\n            'f': \"83.9000015258789\",\n        }],\n [\"113579361:3\",\n\"114583521:5\",\n{\n            'v': 100.0,\n            'f': \"100.0\",\n        }],\n [\"127898390:3\",\n\"142186630:2\",\n{\n            'v': 100.0,\n            'f': \"100.0\",\n        }]],\n        columns: [[\"string\", \"s\"], [\"string\", \"d\"], [\"number\", \"sim\"]],\n        columnOptions: [],\n        rowsPerPage: 10,\n        helpUrl: \"https://colab.research.google.com/notebooks/data_table.ipynb\",\n        suppressOutputScrolling: true,\n        minimumWidth: undefined,\n      });\n\n      function appendQuickchartButton(parentElement) {\n        let quickchartButtonContainerElement = document.createElement('div');\n        quickchartButtonContainerElement.innerHTML = `\n<div id=\"df-85d0f0f0-ab9f-4c98-9de3-0ed0cf7e3297\">\n  <button class=\"colab-df-quickchart\" onclick=\"quickchart('df-85d0f0f0-ab9f-4c98-9de3-0ed0cf7e3297')\"\n            title=\"Suggest charts\"\n            style=\"display:none;\">\n    \n<svg xmlns=\"http://www.w3.org/2000/svg\" height=\"24px\"viewBox=\"0 0 24 24\"\n     width=\"24px\">\n    <g>\n        <path d=\"M19 3H5c-1.1 0-2 .9-2 2v14c0 1.1.9 2 2 2h14c1.1 0 2-.9 2-2V5c0-1.1-.9-2-2-2zM9 17H7v-7h2v7zm4 0h-2V7h2v10zm4 0h-2v-4h2v4z\"/>\n    </g>\n</svg>\n  </button>\n  \n<style>\n  .colab-df-quickchart {\n      --bg-color: #E8F0FE;\n      --fill-color: #1967D2;\n      --hover-bg-color: #E2EBFA;\n      --hover-fill-color: #174EA6;\n      --disabled-fill-color: #AAA;\n      --disabled-bg-color: #DDD;\n  }\n\n  [theme=dark] .colab-df-quickchart {\n      --bg-color: #3B4455;\n      --fill-color: #D2E3FC;\n      --hover-bg-color: #434B5C;\n      --hover-fill-color: #FFFFFF;\n      --disabled-bg-color: #3B4455;\n      --disabled-fill-color: #666;\n  }\n\n  .colab-df-quickchart {\n    background-color: var(--bg-color);\n    border: none;\n    border-radius: 50%;\n    cursor: pointer;\n    display: none;\n    fill: var(--fill-color);\n    height: 32px;\n    padding: 0;\n    width: 32px;\n  }\n\n  .colab-df-quickchart:hover {\n    background-color: var(--hover-bg-color);\n    box-shadow: 0 1px 2px rgba(60, 64, 67, 0.3), 0 1px 3px 1px rgba(60, 64, 67, 0.15);\n    fill: var(--button-hover-fill-color);\n  }\n\n  .colab-df-quickchart-complete:disabled,\n  .colab-df-quickchart-complete:disabled:hover {\n    background-color: var(--disabled-bg-color);\n    fill: var(--disabled-fill-color);\n    box-shadow: none;\n  }\n\n  .colab-df-spinner {\n    border: 2px solid var(--fill-color);\n    border-color: transparent;\n    border-bottom-color: var(--fill-color);\n    animation:\n      spin 1s steps(1) infinite;\n  }\n\n  @keyframes spin {\n    0% {\n      border-color: transparent;\n      border-bottom-color: var(--fill-color);\n      border-left-color: var(--fill-color);\n    }\n    20% {\n      border-color: transparent;\n      border-left-color: var(--fill-color);\n      border-top-color: var(--fill-color);\n    }\n    30% {\n      border-color: transparent;\n      border-left-color: var(--fill-color);\n      border-top-color: var(--fill-color);\n      border-right-color: var(--fill-color);\n    }\n    40% {\n      border-color: transparent;\n      border-right-color: var(--fill-color);\n      border-top-color: var(--fill-color);\n    }\n    60% {\n      border-color: transparent;\n      border-right-color: var(--fill-color);\n    }\n    80% {\n      border-color: transparent;\n      border-right-color: var(--fill-color);\n      border-bottom-color: var(--fill-color);\n    }\n    90% {\n      border-color: transparent;\n      border-bottom-color: var(--fill-color);\n    }\n  }\n</style>\n\n  <script>\n    async function quickchart(key) {\n      const quickchartButtonEl =\n        document.querySelector('#' + key + ' button');\n      quickchartButtonEl.disabled = true;  // To prevent multiple clicks.\n      quickchartButtonEl.classList.add('colab-df-spinner');\n      try {\n        const charts = await google.colab.kernel.invokeFunction(\n            'suggestCharts', [key], {});\n      } catch (error) {\n        console.error('Error during call to suggestCharts:', error);\n      }\n      quickchartButtonEl.classList.remove('colab-df-spinner');\n      quickchartButtonEl.classList.add('colab-df-quickchart-complete');\n    }\n    (() => {\n      let quickchartButtonEl =\n        document.querySelector('#df-85d0f0f0-ab9f-4c98-9de3-0ed0cf7e3297 button');\n      quickchartButtonEl.style.display =\n        google.colab.kernel.accessAllowed ? 'block' : 'none';\n    })();\n  </script>\n</div>`;\n        parentElement.appendChild(quickchartButtonContainerElement);\n      }\n\n      appendQuickchartButton(table);\n    ",
            "text/html": [
              "<div>\n",
              "<style scoped>\n",
              "    .dataframe tbody tr th:only-of-type {\n",
              "        vertical-align: middle;\n",
              "    }\n",
              "\n",
              "    .dataframe tbody tr th {\n",
              "        vertical-align: top;\n",
              "    }\n",
              "\n",
              "    .dataframe thead th {\n",
              "        text-align: right;\n",
              "    }\n",
              "</style>\n",
              "<table border=\"1\" class=\"dataframe\">\n",
              "  <thead>\n",
              "    <tr style=\"text-align: right;\">\n",
              "      <th></th>\n",
              "      <th>s</th>\n",
              "      <th>d</th>\n",
              "      <th>sim</th>\n",
              "    </tr>\n",
              "  </thead>\n",
              "  <tbody>\n",
              "    <tr>\n",
              "      <th>0</th>\n",
              "      <td>28266027:2</td>\n",
              "      <td>30697475:4</td>\n",
              "      <td>100.000000</td>\n",
              "    </tr>\n",
              "    <tr>\n",
              "      <th>1</th>\n",
              "      <td>141099253:1</td>\n",
              "      <td>142374057:2</td>\n",
              "      <td>87.800003</td>\n",
              "    </tr>\n",
              "    <tr>\n",
              "      <th>2</th>\n",
              "      <td>100479579:0</td>\n",
              "      <td>23509310:0</td>\n",
              "      <td>83.900002</td>\n",
              "    </tr>\n",
              "    <tr>\n",
              "      <th>3</th>\n",
              "      <td>113579361:3</td>\n",
              "      <td>114583521:5</td>\n",
              "      <td>100.000000</td>\n",
              "    </tr>\n",
              "    <tr>\n",
              "      <th>4</th>\n",
              "      <td>127898390:3</td>\n",
              "      <td>142186630:2</td>\n",
              "      <td>100.000000</td>\n",
              "    </tr>\n",
              "  </tbody>\n",
              "</table>\n",
              "</div>"
            ],
            "text/plain": [
              "<google.colab.data_table.DataTable object>"
            ]
          },
          "execution_count": 15,
          "metadata": {},
          "output_type": "execute_result"
        }
      ],
      "source": [
        "g1M = spark.read.format(\"parquet\").load(\"/local/data/BDLE_1M\").selectExpr(\"seqID1 as s\", \"seqID2 as d\", \"sim\").persist()\n",
        "print(g1M.count())\n",
        "g1M.printSchema()\n",
        "display(g1M, 5)"
      ]
    },
    {
      "cell_type": "code",
      "execution_count": 62,
      "metadata": {
        "id": "7-r0-zL3pys0"
      },
      "outputs": [],
      "source": [
        "# fonction principale\n",
        "def calculer_composantes_nPartitions(df, nb_partitions=4, v=False):\n",
        "    df_pn = repartition_dataframe(df, nb_partitions)\n",
        "    df_composantes_pn = calculate_components_in_partitions(df_pn, v)\n",
        "    df_composantes_pn_pivot = pivot_on_part_id(df_composantes_pn, v)\n",
        "    df_Comp_edges = create_comp_edges(df_composantes_pn_pivot, nb_partitions, v)\n",
        "    df_Global_comp = calculate_global_components(df_Comp_edges, v)\n",
        "    df_composantes_gl = join_global_components(df_composantes_pn, df_Global_comp, v)\n",
        "    return df_composantes_gl\n",
        "\n",
        "def repartition_dataframe(df, nb_partitions):\n",
        "    df_ = df.repartition(nb_partitions).cache()\n",
        "    df_.count()\n",
        "    return df_\n",
        "\n",
        "def calculate_components_in_partitions(df, v):\n",
        "    nom_attributs = ['_partID', 'n', 'comp']\n",
        "    df_composantes_pn = df.rdd.mapPartitionsWithIndex(calculer_composantes).toDF(nom_attributs)\n",
        "    if v:\n",
        "        print(\"Affichage des premiers éléments de chaque partition\")\n",
        "        showPartitions(df, separate=False)\n",
        "        print(\"Nombre de tuples dans chaque partition:\")\n",
        "        df_composantes_pn.groupBy(\"_partID\").agg(f.count(\"*\")).show()\n",
        "\n",
        "        print(\"Nombre de composantes différentes dans chaque partition\")\n",
        "        df_composantes_pn.groupby(\"_partID\").agg(f.countDistinct(col(\"comp\"))).select(\"*\").show()\n",
        "    return df_composantes_pn\n",
        "\n",
        "def pivot_on_part_id(df, v):\n",
        "    df_composantes_pn_pivot = df.withColumn(\"_partID_\", f.concat(f.col(\"_partID\"), f.expr(\"'_'\")))\\\n",
        "        .withColumn(\"comp\", f.concat(f.col(\"_partID_\"), f.col(\"comp\")))\\\n",
        "        .groupBy(\"n\").pivot(\"_partID\").agg(f.first(\"comp\"))\n",
        "    if v:\n",
        "        print(\"Pivotage sur la colonne _partID\")\n",
        "        df_composantes_pn_pivot.show(10, False)\n",
        "    return df_composantes_pn_pivot\n",
        "\n",
        "def create_comp_edges(df_pivot, nb_partitions, v):\n",
        "    df_Comp_edges = None\n",
        "    for pi in range(nb_partitions):\n",
        "        for pj in range(1 + pi, nb_partitions):\n",
        "            df_Comp_edges_pi_pj = create_comp_edges_for_partition_pair(df_pivot, pi, pj)\n",
        "            df_Comp_edges = union_dataframes(df_Comp_edges, df_Comp_edges_pi_pj)\n",
        "    df_Comp_edges = df_Comp_edges.distinct()\n",
        "    if v:\n",
        "        print(\"Table Comp edges\")\n",
        "        df_Comp_edges.show(10, False)\n",
        "    return df_Comp_edges\n",
        "\n",
        "def create_comp_edges_for_partition_pair(df_pivot, pi, pj):\n",
        "    return df_pivot\\\n",
        "        .select(f.col(\"n\"), f.col(f\"P{pi}\").alias(\"from_comp\"), f.col(f\"P{pj}\").alias(\"to_comp\"))\\\n",
        "        .withColumn(\"from_comp\", f.when(f.col(\"from_comp\").isNull(), f.col(\"to_comp\")).otherwise(f.col(\"from_comp\")))\\\n",
        "        .withColumn(\"to_comp\", f.when(f.col(\"to_comp\").isNull(), f.col(\"from_comp\")).otherwise(f.col(\"to_comp\")))\\\n",
        "        .dropna()\n",
        "\n",
        "def union_dataframes(df1, df2):\n",
        "    if df1 is None:\n",
        "        return df2\n",
        "    else:\n",
        "        return df1.unionByName(df2, allowMissingColumns=True)\n",
        "\n",
        "def calculate_global_components(df_Comp_edges, v):\n",
        "    comp_list = get_composantes(df_Comp_edges.select(f.col(\"from_comp\").alias(\"s\"), f.col(\"to_comp\").alias(\"d\")))\n",
        "    df_Global_comp = spark.createDataFrame(comp_list, [\"comp\", \"global_comp\"])\n",
        "    if v:\n",
        "        print(\"Global edges comp\")\n",
        "        df_Global_comp.show(10, False)\n",
        "    return df_Global_comp\n",
        "\n",
        "def join_global_components(df_composantes_pn, df_Global_comp, v):\n",
        "    df_composantes_gl = df_composantes_pn.withColumn(\"_partID_\", f.concat(f.col(\"_partID\"), f.expr(\"'_'\")))\\\n",
        "        .withColumn(\"comp\", f.concat(f.col(\"_partID_\"), f.col(\"comp\")))\\\n",
        "        .alias(\"t1\").join(df_Global_comp.alias(\"t2\"), \"comp\").select(\"t1.n\", \"t2.global_comp\").distinct()\n",
        "    if v:\n",
        "        print(\"composantes global unifiée:\")\n",
        "        df_composantes_gl.show(10, False)\n",
        "    return df_composantes_gl"
      ]
    },
    {
      "cell_type": "code",
      "execution_count": 63,
      "metadata": {
        "colab": {
          "base_uri": "https://localhost:8080/"
        },
        "id": "XPyYD-3dBsjn",
        "outputId": "b95cf6e1-acc8-4002-8827-2bb663205559"
      },
      "outputs": [
        {
          "name": "stdout",
          "output_type": "stream",
          "text": [
            "Affichage des premiers éléments de chaque partition\n",
            "+-------+-----------+---------------------------------+\n",
            "|_partID|s          |d                                |\n",
            "+-------+-----------+---------------------------------+\n",
            "|0      |102909980:0|82547823:5                       |\n",
            "|0      |135688826:0|142273124:4                      |\n",
            "|0      |19919949:4 |81071024:3                       |\n",
            "|0      |44890806:2 |53954341:5                       |\n",
            "|0      |142280050:5|142280051:5                      |\n",
            "|1      |89787408:2 |90725987:5                       |\n",
            "|1      |133219985:1|158317061:2                      |\n",
            "|1      |116925681:2|METdb_00224-1-DN38546-c0-g5-i1.p1|\n",
            "|1      |103786036:4|41004824:4                       |\n",
            "|1      |148830954:2|4382889:3                        |\n",
            "+-------+-----------+---------------------------------+\n",
            "\n",
            "Nombre de tuples dans chaque partition:\n",
            "+-------+--------+\n",
            "|_partID|count(1)|\n",
            "+-------+--------+\n",
            "|     P0|   13075|\n",
            "|     P1|   13172|\n",
            "+-------+--------+\n",
            "\n",
            "Nombre de composantes différentes dans chaque partition\n",
            "+-------+--------------------+\n",
            "|_partID|count(DISTINCT comp)|\n",
            "+-------+--------------------+\n",
            "|     P0|                4022|\n",
            "|     P1|                4074|\n",
            "+-------+--------------------+\n",
            "\n",
            "Pivotage sur la colonne _partID\n",
            "+-----------+-------+-------+\n",
            "|n          |P0     |P1     |\n",
            "+-----------+-------+-------+\n",
            "|100058801:0|P0_3871|NULL   |\n",
            "|100073848:2|P0_2276|P1_3567|\n",
            "|100102421:5|P0_2139|NULL   |\n",
            "|100149617:5|NULL   |P1_3072|\n",
            "|100171640:4|NULL   |P1_3145|\n",
            "|100218437:3|P0_1501|P1_3913|\n",
            "|100232688:1|P0_1476|NULL   |\n",
            "|100243206:2|P0_14  |P1_21  |\n",
            "|100250530:5|P0_2981|NULL   |\n",
            "|10026196:2 |NULL   |P1_3737|\n",
            "+-----------+-------+-------+\n",
            "only showing top 10 rows\n",
            "\n",
            "Table Comp edges\n",
            "+-----------+---------+-------+\n",
            "|n          |from_comp|to_comp|\n",
            "+-----------+---------+-------+\n",
            "|100058801:0|P0_3871  |P0_3871|\n",
            "|100073848:2|P0_2276  |P1_3567|\n",
            "|100102421:5|P0_2139  |P0_2139|\n",
            "|100149617:5|P1_3072  |P1_3072|\n",
            "|100171640:4|P1_3145  |P1_3145|\n",
            "|100218437:3|P0_1501  |P1_3913|\n",
            "|100232688:1|P0_1476  |P0_1476|\n",
            "|100243206:2|P0_14    |P1_21  |\n",
            "|100250530:5|P0_2981  |P0_2981|\n",
            "|10026196:2 |P1_3737  |P1_3737|\n",
            "+-----------+---------+-------+\n",
            "only showing top 10 rows\n",
            "\n",
            "Global edges comp\n",
            "+-------+-----------+\n",
            "|comp   |global_comp|\n",
            "+-------+-----------+\n",
            "|P0_3871|0          |\n",
            "|P0_2276|1          |\n",
            "|P0_2139|2          |\n",
            "|P1_3072|3          |\n",
            "|P1_3145|4          |\n",
            "|P0_1501|5          |\n",
            "|P0_1476|6          |\n",
            "|P0_14  |7          |\n",
            "|P0_2981|8          |\n",
            "|P1_3737|9          |\n",
            "+-------+-----------+\n",
            "only showing top 10 rows\n",
            "\n",
            "composantes global unifiée:\n",
            "+-----------+-----------+\n",
            "|n          |global_comp|\n",
            "+-----------+-----------+\n",
            "|80348448:1 |268        |\n",
            "|8924968:4  |268        |\n",
            "|27353379:1 |268        |\n",
            "|87794094:3 |268        |\n",
            "|57315426:5 |3570       |\n",
            "|20007621:0 |3570       |\n",
            "|94540941:5 |3570       |\n",
            "|86655193:0 |2665       |\n",
            "|156511208:1|3322       |\n",
            "|16195924:1 |3478       |\n",
            "+-----------+-----------+\n",
            "only showing top 10 rows\n",
            "\n"
          ]
        }
      ],
      "source": [
        "g10K_composantes_2p = calculer_composantes_nPartitions(g10K.select(\"s\",\"d\"), nb_partitions=2, v=True)"
      ]
    },
    {
      "cell_type": "code",
      "execution_count": 65,
      "metadata": {
        "colab": {
          "base_uri": "https://localhost:8080/"
        },
        "id": "9HWjYGUmBsCX",
        "outputId": "cac3ed36-a43d-475a-cdf1-d2bba5664ce0"
      },
      "outputs": [
        {
          "name": "stdout",
          "output_type": "stream",
          "text": [
            "\n",
            "Résulats et temps de calcul pour nb_partitions = 2:\n",
            "\n",
            "+-----------+-----------+\n",
            "|          n|global_comp|\n",
            "+-----------+-----------+\n",
            "| 80348448:1|        268|\n",
            "|  8924968:4|        268|\n",
            "| 27353379:1|        268|\n",
            "| 87794094:3|        268|\n",
            "| 57315426:5|       3570|\n",
            "| 20007621:0|       3570|\n",
            "| 94540941:5|       3570|\n",
            "| 86655193:0|       2665|\n",
            "|156511208:1|       3322|\n",
            "| 16195924:1|       3478|\n",
            "|  7467289:5|       3478|\n",
            "|153205178:3|       3179|\n",
            "|114526814:2|        495|\n",
            "|109689802:2|        444|\n",
            "|132642247:4|       1168|\n",
            "|137293688:1|       1168|\n",
            "|153819375:5|       2701|\n",
            "| 38724408:4|       3583|\n",
            "| 46012998:5|       3583|\n",
            "| 24652474:2|        699|\n",
            "+-----------+-----------+\n",
            "only showing top 20 rows\n",
            "\n",
            "\n",
            "Le temps pris: 3.3895347118377686 secondes\n",
            "\n",
            "Résulats et temps de calcul pour nb_partitions = 3:\n",
            "\n",
            "+-----------+-----------+\n",
            "|          n|global_comp|\n",
            "+-----------+-----------+\n",
            "| 80348448:0|         81|\n",
            "|  8924968:5|         81|\n",
            "| 57315426:3|       1512|\n",
            "| 85530841:0|       1512|\n",
            "| 57315426:5|       1512|\n",
            "| 57253711:2|       1512|\n",
            "| 97479674:1|       3351|\n",
            "| 63756871:4|        353|\n",
            "|127141997:1|        361|\n",
            "|137289510:1|        367|\n",
            "|124739670:2|        367|\n",
            "|155467878:5|       2640|\n",
            "|154107965:0|       2640|\n",
            "| 44831688:4|       1592|\n",
            "| 44639371:4|       1592|\n",
            "|138030967:5|       2524|\n",
            "|153394024:2|       1219|\n",
            "|153394025:2|       1219|\n",
            "|153409010:0|       1219|\n",
            "| 58057603:2|       1982|\n",
            "+-----------+-----------+\n",
            "only showing top 20 rows\n",
            "\n",
            "\n",
            "Le temps pris: 10.069971799850464 secondes\n",
            "\n",
            "Résulats et temps de calcul pour nb_partitions = 4:\n",
            "\n",
            "+-----------+-----------+\n",
            "|          n|global_comp|\n",
            "+-----------+-----------+\n",
            "| 87794094:5|         59|\n",
            "| 57315426:4|       1324|\n",
            "| 57315426:5|       1324|\n",
            "| 61133880:5|        373|\n",
            "| 57815766:5|       2494|\n",
            "|152674808:1|       3075|\n",
            "| 91687650:4|       1975|\n",
            "|155496764:3|       2582|\n",
            "| 49311172:5|       2788|\n",
            "|152993665:5|       3126|\n",
            "| 53352973:2|       2454|\n",
            "| 57504412:1|       1403|\n",
            "|126372180:3|       2182|\n",
            "|153483911:5|       1700|\n",
            "| 57948135:3|       1700|\n",
            "|158292653:1|        542|\n",
            "|154451516:4|       1068|\n",
            "| 54265596:3|       2713|\n",
            "| 80414204:1|       2713|\n",
            "| 54265596:5|       2713|\n",
            "+-----------+-----------+\n",
            "only showing top 20 rows\n",
            "\n",
            "\n",
            "Le temps pris: 18.457364559173584 secondes\n",
            "\n",
            "Résulats et temps de calcul pour nb_partitions = 5:\n",
            "\n",
            "+-----------+-----------+\n",
            "|          n|global_comp|\n",
            "+-----------+-----------+\n",
            "|139566345:1|        478|\n",
            "|138904881:4|        478|\n",
            "|  6368921:0|       1210|\n",
            "| 95306391:4|        606|\n",
            "| 43494909:3|        740|\n",
            "| 33216573:1|       1261|\n",
            "| 32590536:1|       1261|\n",
            "|  3068208:3|       1270|\n",
            "|133045717:2|        425|\n",
            "|135734049:5|        425|\n",
            "|  1151096:5|        338|\n",
            "|143146182:2|        501|\n",
            "|144644738:5|        501|\n",
            "| 83523340:5|       1086|\n",
            "| 97118442:2|       1762|\n",
            "|152540166:0|       2277|\n",
            "|124001168:4|        247|\n",
            "| 99365126:0|       1746|\n",
            "|135330794:5|        404|\n",
            "|131206708:1|        366|\n",
            "+-----------+-----------+\n",
            "only showing top 20 rows\n",
            "\n",
            "\n",
            "Le temps pris: 25.861367225646973 secondes\n",
            "\n",
            "Résulats et temps de calcul pour nb_partitions = 6:\n",
            "\n",
            "+--------------------+-----------+\n",
            "|                   n|global_comp|\n",
            "+--------------------+-----------+\n",
            "|          57242690:2|       1340|\n",
            "|          18387316:2|        708|\n",
            "|         157659883:1|        708|\n",
            "|         132215619:3|       1738|\n",
            "|          44950819:4|       1253|\n",
            "|          82064333:2|        702|\n",
            "|         101879628:5|         17|\n",
            "|         144272214:3|       1710|\n",
            "|          89226421:1|       2152|\n",
            "|          97887211:4|       2152|\n",
            "|         126960051:0|        287|\n",
            "|            196748:2|       2065|\n",
            "|         152066245:0|        590|\n",
            "|EukProt-v2_CAMPEP...|       3282|\n",
            "|          94159320:1|       3282|\n",
            "|METdb_00385-1-Tra...|       3282|\n",
            "|          88702341:3|         59|\n",
            "|TARA_AON_82_MAG_0...|       1572|\n",
            "|         135749897:1|        388|\n",
            "|         147159055:4|       1184|\n",
            "+--------------------+-----------+\n",
            "only showing top 20 rows\n",
            "\n",
            "\n",
            "Le temps pris: 36.11594796180725 secondes\n",
            "\n",
            "Résulats et temps de calcul pour nb_partitions = 7:\n",
            "\n",
            "+-----------+-----------+\n",
            "|          n|global_comp|\n",
            "+-----------+-----------+\n",
            "| 80348448:2|        966|\n",
            "| 87794094:5|        966|\n",
            "|139566345:1|        395|\n",
            "|144236707:2|        395|\n",
            "| 95306496:4|       1038|\n",
            "| 36282325:4|       1038|\n",
            "| 95589165:0|       1038|\n",
            "|147591627:4|        305|\n",
            "|152328307:4|        141|\n",
            "| 91209398:0|       1008|\n",
            "| 32918655:5|       1008|\n",
            "| 61574809:2|       2816|\n",
            "| 22373007:0|       1105|\n",
            "|104512033:5|         40|\n",
            "|  4382889:3|         40|\n",
            "| 97965665:0|        647|\n",
            "|  7601419:1|       1881|\n",
            "| 34483241:3|       1025|\n",
            "|153006601:0|       3145|\n",
            "| 63274439:5|        415|\n",
            "+-----------+-----------+\n",
            "only showing top 20 rows\n",
            "\n",
            "\n",
            "Le temps pris: 49.192124366760254 secondes\n",
            "\n",
            "Résulats et temps de calcul pour nb_partitions = 8:\n",
            "\n",
            "+-----------+-----------+\n",
            "|          n|global_comp|\n",
            "+-----------+-----------+\n",
            "| 97035427:0|       1349|\n",
            "| 49469881:1|       1047|\n",
            "| 76949328:4|       1067|\n",
            "| 24716567:1|        874|\n",
            "|109786658:1|         72|\n",
            "| 41203560:1|       1316|\n",
            "| 41185803:1|       1316|\n",
            "|108969160:5|       1845|\n",
            "| 58278587:3|       1278|\n",
            "|129119707:0|         91|\n",
            "|131215066:2|         91|\n",
            "|121484527:4|       3240|\n",
            "|109845320:4|         76|\n",
            "|156221049:4|        803|\n",
            "|153059654:4|        966|\n",
            "| 61702097:5|       1002|\n",
            "|152879480:3|        586|\n",
            "|152218172:4|        586|\n",
            "| 12846674:1|        847|\n",
            "|  3068208:3|        961|\n",
            "+-----------+-----------+\n",
            "only showing top 20 rows\n",
            "\n",
            "\n",
            "Le temps pris: 66.27299976348877 secondes\n",
            "\n",
            "Résulats et temps de calcul pour nb_partitions = 9:\n",
            "\n",
            "+-----------+-----------+\n",
            "|          n|global_comp|\n",
            "+-----------+-----------+\n",
            "|144191053:1|        322|\n",
            "| 68703363:5|        879|\n",
            "|143999931:1|        388|\n",
            "|156627510:4|        757|\n",
            "|155516645:3|       1117|\n",
            "| 21936284:0|        696|\n",
            "| 23384594:4|        696|\n",
            "|152715616:4|       1114|\n",
            "| 57436388:5|        991|\n",
            "|152914952:1|        995|\n",
            "|146013384:0|       1396|\n",
            "| 73462385:0|       3181|\n",
            "|135651974:0|        277|\n",
            "|115652464:2|       3571|\n",
            "| 87147542:2|        864|\n",
            "|140966541:0|        343|\n",
            "|142952252:0|        343|\n",
            "|139794025:0|       1387|\n",
            "| 23956607:4|       1670|\n",
            "| 93411412:4|        904|\n",
            "+-----------+-----------+\n",
            "only showing top 20 rows\n",
            "\n",
            "\n",
            "Le temps pris: 105.71908450126648 secondes\n"
          ]
        }
      ],
      "source": [
        "# Comparer le temps de calcul pour des nb_partitions partant de 2 à 10\n",
        "def calculate_and_measure_time(df, nb_partitions, v=False):\n",
        "    start_time = time.time()\n",
        "    result_df = calculer_composantes_nPartitions(df, nb_partitions=nb_partitions, v=v)\n",
        "    elapsed_time = time.time() - start_time\n",
        "    return result_df, elapsed_time\n",
        "\n",
        "results = []\n",
        "times = []\n",
        "\n",
        "for nb_partitions in range(2, 10):\n",
        "    print(f\"\\nRésulats et temps de calcul pour nb_partitions = {nb_partitions}:\\n\")\n",
        "\n",
        "    result_df, elapsed_time = calculate_and_measure_time(g10K.select(\"s\", \"d\"), nb_partitions=nb_partitions, v=False)\n",
        "\n",
        "    # Append results and times\n",
        "    results.append(result_df)\n",
        "    times.append(elapsed_time)\n",
        "\n",
        "    # Display the results and time\n",
        "    result_df.show()\n",
        "    print(f\"\\nLe temps pris: {elapsed_time} secondes\")"
      ]
    },
    {
      "cell_type": "code",
      "execution_count": 66,
      "metadata": {
        "colab": {
          "base_uri": "https://localhost:8080/",
          "height": 472
        },
        "id": "W4z2iGgLF2n6",
        "outputId": "eae4587f-f8c8-4ed9-a54e-64170912c9f3"
      },
      "outputs": [
        {
          "data": {
            "image/png": "[encoded data removed]",
            "text/plain": [
              "<Figure size 640x480 with 1 Axes>"
            ]
          },
          "metadata": {},
          "output_type": "display_data"
        }
      ],
      "source": [
        "# On plot les résultats\n",
        "import matplotlib.pyplot as plt\n",
        "\n",
        "nb_partitions_values = list(range(2, 10))\n",
        "\n",
        "plt.plot(nb_partitions_values, times, marker='o', linestyle='-')\n",
        "plt.title('Temps de calcul par nb_partitions')\n",
        "plt.xlabel('nb_partitions')\n",
        "plt.ylabel('Temps de calcul (secondes)')\n",
        "plt.grid(True)\n",
        "plt.show()"
      ]
    },
    {
      "cell_type": "code",
      "execution_count": 68,
      "metadata": {
        "colab": {
          "base_uri": "https://localhost:8080/"
        },
        "id": "gGCAXColHfkv",
        "outputId": "1b4debba-6ddd-4dac-c628-5972f8729c0b"
      },
      "outputs": [
        {
          "name": "stdout",
          "output_type": "stream",
          "text": [
            "\n",
            "Résulats et temps de calcul pour nb_partitions = 2:\n",
            "\n",
            "Affichage des premiers éléments de chaque partition\n",
            "+-------+----------------------------+--------------------------------------+\n",
            "|_partID|s                           |d                                     |\n",
            "+-------+----------------------------+--------------------------------------+\n",
            "|0      |72443221:1                  |TARA_RED_19_MAG_00059_000000022885.1.1|\n",
            "|0      |21847728:0                  |43105288:5                            |\n",
            "|0      |17785847:2                  |METdb_00307-1-DN7043-c0-g1-i1.p1      |\n",
            "|0      |EukProt-v2_CAMPEP_0116842978|METdb_00114-1-Transcript-11788.p2     |\n",
            "|0      |116602082:0                 |132176428:3                           |\n",
            "|1      |153199036:1                 |26021640:1                            |\n",
            "|1      |65484232:0                  |76991838:2                            |\n",
            "|1      |EukProt-v2_c7402_g1_i3.p1   |EukProt-v2_c7402_g1_i4.p1             |\n",
            "|1      |70067373:1                  |71851010:0                            |\n",
            "|1      |126780351:4                 |96102978:3                            |\n",
            "+-------+----------------------------+--------------------------------------+\n",
            "\n",
            "Nombre de tuples dans chaque partition:\n",
            "+-------+--------+\n",
            "|_partID|count(1)|\n",
            "+-------+--------+\n",
            "|     P0| 1046719|\n",
            "|     P1| 1047687|\n",
            "+-------+--------+\n",
            "\n",
            "Nombre de composantes différentes dans chaque partition\n",
            "+-------+--------------------+\n",
            "|_partID|count(DISTINCT comp)|\n",
            "+-------+--------------------+\n",
            "|     P0|              348230|\n",
            "|     P1|              348725|\n",
            "+-------+--------------------+\n",
            "\n",
            "Pivotage sur la colonne _partID\n",
            "+-----------+---------+---------+\n",
            "|n          |P0       |P1       |\n",
            "+-----------+---------+---------+\n",
            "|100000016:5|NULL     |P1_283007|\n",
            "|100000230:5|P0_137879|NULL     |\n",
            "|100000762:1|P0_215009|NULL     |\n",
            "|100000821:0|P0_216236|P1_196139|\n",
            "|100001188:4|NULL     |P1_172723|\n",
            "|100001275:4|NULL     |P1_127856|\n",
            "|100001309:3|NULL     |P1_103007|\n",
            "|100001392:5|P0_151836|NULL     |\n",
            "|100001590:3|P0_48665 |NULL     |\n",
            "|100001763:3|P0_254022|NULL     |\n",
            "+-----------+---------+---------+\n",
            "only showing top 10 rows\n",
            "\n",
            "Table Comp edges\n",
            "+-----------+---------+---------+\n",
            "|n          |from_comp|to_comp  |\n",
            "+-----------+---------+---------+\n",
            "|100000016:5|P1_283007|P1_283007|\n",
            "|100000230:5|P0_137879|P0_137879|\n",
            "|100000762:1|P0_215009|P0_215009|\n",
            "|100000821:0|P0_216236|P1_196139|\n",
            "|100001188:4|P1_172723|P1_172723|\n",
            "|100001275:4|P1_127856|P1_127856|\n",
            "|100001309:3|P1_103007|P1_103007|\n",
            "|100001392:5|P0_151836|P0_151836|\n",
            "|100001590:3|P0_48665 |P0_48665 |\n",
            "|100001763:3|P0_254022|P0_254022|\n",
            "+-----------+---------+---------+\n",
            "only showing top 10 rows\n",
            "\n",
            "Global edges comp\n",
            "+---------+-----------+\n",
            "|comp     |global_comp|\n",
            "+---------+-----------+\n",
            "|P1_283007|0          |\n",
            "|P0_137879|1          |\n",
            "|P0_215009|2          |\n",
            "|P0_216236|3          |\n",
            "|P1_172723|4          |\n",
            "|P1_127856|5          |\n",
            "|P1_103007|6          |\n",
            "|P0_151836|7          |\n",
            "|P0_48665 |8          |\n",
            "|P0_254022|9          |\n",
            "+---------+-----------+\n",
            "only showing top 10 rows\n",
            "\n",
            "composantes global unifiée:\n",
            "+---------------------------------+-----------+\n",
            "|n                                |global_comp|\n",
            "+---------------------------------+-----------+\n",
            "|38404066:0                       |19946      |\n",
            "|METdb_00294-1-DN76354-c0-g1-i1.p1|399637     |\n",
            "|METdb_00293-1-DN46952-c2-g1-i1.p1|399637     |\n",
            "|METdb_00222-1-DN75513-c0-g1-i1.p1|315004     |\n",
            "|132708440:4                      |341029     |\n",
            "|124500704:5                      |67235      |\n",
            "|114845120:3                      |103081     |\n",
            "|146322071:0                      |119666     |\n",
            "|132435747:0                      |89338      |\n",
            "|150836008:1                      |123876     |\n",
            "+---------------------------------+-----------+\n",
            "only showing top 10 rows\n",
            "\n",
            "+--------------------+-----------+\n",
            "|                   n|global_comp|\n",
            "+--------------------+-----------+\n",
            "|          38404066:0|      19946|\n",
            "|METdb_00294-1-DN7...|     399637|\n",
            "|METdb_00293-1-DN4...|     399637|\n",
            "|METdb_00222-1-DN7...|     315004|\n",
            "|         132708440:4|     341029|\n",
            "|         124500704:5|      67235|\n",
            "|         114845120:3|     103081|\n",
            "|         146322071:0|     119666|\n",
            "|         132435747:0|      89338|\n",
            "|         150836008:1|     123876|\n",
            "|          88244403:2|     395924|\n",
            "|          76861859:2|     178604|\n",
            "|          64693766:4|     178604|\n",
            "|           6721670:3|     245243|\n",
            "|          69907172:5|     392040|\n",
            "|         123274391:5|      63806|\n",
            "|         135971433:0|     181465|\n",
            "|           3355673:3|     181465|\n",
            "|          34783349:1|     186460|\n",
            "|         127115947:2|      73907|\n",
            "+--------------------+-----------+\n",
            "only showing top 20 rows\n",
            "\n",
            "\n",
            "Le temps pris: 313.0831732749939 secondes\n",
            "\n",
            "Résulats et temps de calcul pour nb_partitions = 3:\n",
            "\n",
            "Affichage des premiers éléments de chaque partition\n",
            "+-------+----------------------------+---------------------------------------+\n",
            "|_partID|s                           |d                                      |\n",
            "+-------+----------------------------+---------------------------------------+\n",
            "|0      |153199036:1                 |26021640:1                             |\n",
            "|0      |21847728:0                  |43105288:5                             |\n",
            "|0      |70067373:1                  |71851010:0                             |\n",
            "|0      |116602082:0                 |132176428:3                            |\n",
            "|0      |143586858:3                 |TARA_ARC_108_MAG_00224_000000000877.1.1|\n",
            "|1      |72443221:1                  |TARA_RED_19_MAG_00059_000000022885.1.1 |\n",
            "|1      |EukProt-v2_c7402_g1_i3.p1   |EukProt-v2_c7402_g1_i4.p1              |\n",
            "|1      |EukProt-v2_CAMPEP_0116842978|METdb_00114-1-Transcript-11788.p2      |\n",
            "|1      |EukProt-v2_s205_g32.t3      |METdb_00437-1-DN19403-c0-g1-i1.p1      |\n",
            "|1      |21317567:0                  |87688695:0                             |\n",
            "|2      |65484232:0                  |76991838:2                             |\n",
            "|2      |17785847:2                  |METdb_00307-1-DN7043-c0-g1-i1.p1       |\n",
            "|2      |126780351:4                 |96102978:3                             |\n",
            "|2      |109695218:4                 |111001328:0                            |\n",
            "|2      |EukProt-v2_CAMPEP_0197009846|METdb_00159-1-Transcript-19776.p1      |\n",
            "+-------+----------------------------+---------------------------------------+\n",
            "\n",
            "Nombre de tuples dans chaque partition:\n",
            "+-------+--------+\n",
            "|_partID|count(1)|\n",
            "+-------+--------+\n",
            "|     P0|  791784|\n",
            "|     P1|  791243|\n",
            "|     P2|  792501|\n",
            "+-------+--------+\n",
            "\n",
            "Nombre de composantes différentes dans chaque partition\n",
            "+-------+--------------------+\n",
            "|_partID|count(DISTINCT comp)|\n",
            "+-------+--------------------+\n",
            "|     P0|              289342|\n",
            "|     P1|              289212|\n",
            "|     P2|              289719|\n",
            "+-------+--------------------+\n",
            "\n",
            "Pivotage sur la colonne _partID\n",
            "+-----------+---------+---------+---------+\n",
            "|n          |P0       |P1       |P2       |\n",
            "+-----------+---------+---------+---------+\n",
            "|100000016:5|P0_164455|NULL     |NULL     |\n",
            "|100000230:5|NULL     |P1_106801|NULL     |\n",
            "|100000762:1|P0_240369|NULL     |NULL     |\n",
            "|100000821:0|NULL     |P1_153700|NULL     |\n",
            "|100001188:4|NULL     |NULL     |P2_135035|\n",
            "|100001275:4|NULL     |NULL     |P2_99069 |\n",
            "|100001309:3|P0_144119|P1_283981|P2_79360 |\n",
            "|100001392:5|P0_180545|NULL     |NULL     |\n",
            "|100001590:3|P0_37187 |NULL     |NULL     |\n",
            "|100001763:3|P0_202551|NULL     |NULL     |\n",
            "+-----------+---------+---------+---------+\n",
            "only showing top 10 rows\n",
            "\n",
            "Table Comp edges\n",
            "+-----------+---------+---------+\n",
            "|n          |from_comp|to_comp  |\n",
            "+-----------+---------+---------+\n",
            "|100000197:5|P0_159216|P0_159216|\n",
            "|100000230:5|P1_106801|P1_106801|\n",
            "|100000762:1|P0_240369|P0_240369|\n",
            "|100001309:3|P0_144119|P1_283981|\n",
            "|100001392:5|P0_180545|P0_180545|\n",
            "|100001590:3|P0_37187 |P0_37187 |\n",
            "|100001763:3|P0_202551|P0_202551|\n",
            "|100002191:0|P0_140500|P0_140500|\n",
            "|100002225:5|P0_23298 |P0_23298 |\n",
            "|100002562:2|P0_197332|P0_197332|\n",
            "+-----------+---------+---------+\n",
            "only showing top 10 rows\n",
            "\n",
            "Global edges comp\n",
            "+---------+-----------+\n",
            "|comp     |global_comp|\n",
            "+---------+-----------+\n",
            "|P0_159216|0          |\n",
            "|P1_106801|1          |\n",
            "|P0_240369|2          |\n",
            "|P0_144119|3          |\n",
            "|P0_180545|4          |\n",
            "|P0_37187 |5          |\n",
            "|P0_202551|6          |\n",
            "|P0_140500|7          |\n",
            "|P0_23298 |8          |\n",
            "|P0_197332|9          |\n",
            "+---------+-----------+\n",
            "only showing top 10 rows\n",
            "\n",
            "composantes global unifiée:\n",
            "+-----------+-----------+\n",
            "|n          |global_comp|\n",
            "+-----------+-----------+\n",
            "|150996879:3|247482     |\n",
            "|148981669:0|247482     |\n",
            "|38511462:1 |214500     |\n",
            "|25221161:2 |214500     |\n",
            "|74434482:4 |162451     |\n",
            "|75761437:4 |135823     |\n",
            "|136747748:5|351192     |\n",
            "|19429832:3 |253721     |\n",
            "|109239665:5|14051      |\n",
            "|1436034:5  |32391      |\n",
            "+-----------+-----------+\n",
            "only showing top 10 rows\n",
            "\n",
            "+--------------------+-----------+\n",
            "|                   n|global_comp|\n",
            "+--------------------+-----------+\n",
            "|         150996879:3|     247482|\n",
            "|         148981669:0|     247482|\n",
            "|          38511462:1|     214500|\n",
            "|          25221161:2|     214500|\n",
            "|          74434482:4|     162451|\n",
            "|          75761437:4|     135823|\n",
            "|         136747748:5|     351192|\n",
            "|          19429832:3|     253721|\n",
            "|         109239665:5|      14051|\n",
            "|           1436034:5|      32391|\n",
            "|          81830415:2|      84025|\n",
            "|          15388789:0|     165577|\n",
            "|          75778766:4|     363854|\n",
            "|         101897301:5|       3045|\n",
            "|EukProt-v2_CAMPEP...|      28375|\n",
            "|          63273643:4|      31702|\n",
            "|         142774445:0|      31702|\n",
            "|          56588798:4|     149498|\n",
            "|           8015423:4|     149498|\n",
            "|         147157744:0|     244360|\n",
            "+--------------------+-----------+\n",
            "only showing top 20 rows\n",
            "\n",
            "\n",
            "Le temps pris: 507.6303219795227 secondes\n",
            "\n",
            "Résulats et temps de calcul pour nb_partitions = 4:\n",
            "\n",
            "Affichage des premiers éléments de chaque partition\n",
            "+-------+----------------------------+---------------------------------------+\n",
            "|_partID|s                           |d                                      |\n",
            "+-------+----------------------------+---------------------------------------+\n",
            "|0      |21847728:0                  |43105288:5                             |\n",
            "|0      |EukProt-v2_CAMPEP_0116842978|METdb_00114-1-Transcript-11788.p2      |\n",
            "|0      |109695218:4                 |111001328:0                            |\n",
            "|0      |148640367:1                 |METdb_00262-1-DN11846-c0-g1-i1.p1      |\n",
            "|0      |17584961:2                  |30184967:0                             |\n",
            "|1      |153199036:1                 |26021640:1                             |\n",
            "|1      |EukProt-v2_c7402_g1_i3.p1   |EukProt-v2_c7402_g1_i4.p1              |\n",
            "|1      |126780351:4                 |96102978:3                             |\n",
            "|1      |143586858:3                 |TARA_ARC_108_MAG_00224_000000000877.1.1|\n",
            "|1      |20122280:4                  |8185392:5                              |\n",
            "|2      |72443221:1                  |TARA_RED_19_MAG_00059_000000022885.1.1 |\n",
            "|2      |17785847:2                  |METdb_00307-1-DN7043-c0-g1-i1.p1       |\n",
            "|2      |116602082:0                 |132176428:3                            |\n",
            "|2      |21317567:0                  |87688695:0                             |\n",
            "|2      |EukProt-v2_XP_020401395.1   |EukProt-v2_XP_021301964.1              |\n",
            "|3      |65484232:0                  |76991838:2                             |\n",
            "|3      |70067373:1                  |71851010:0                             |\n",
            "|3      |EukProt-v2_s205_g32.t3      |METdb_00437-1-DN19403-c0-g1-i1.p1      |\n",
            "|3      |EukProt-v2_CAMPEP_0197009846|METdb_00159-1-Transcript-19776.p1      |\n",
            "|3      |125192749:4                 |55569679:3                             |\n",
            "+-------+----------------------------+---------------------------------------+\n",
            "\n",
            "Nombre de tuples dans chaque partition:\n",
            "+-------+--------+\n",
            "|_partID|count(1)|\n",
            "+-------+--------+\n",
            "|     P0|  636710|\n",
            "|     P1|  637361|\n",
            "|     P2|  636643|\n",
            "|     P3|  637052|\n",
            "+-------+--------+\n",
            "\n",
            "Nombre de composantes différentes dans chaque partition\n",
            "+-------+--------------------+\n",
            "|_partID|count(DISTINCT comp)|\n",
            "+-------+--------------------+\n",
            "|     P0|              244772|\n",
            "|     P1|              245356|\n",
            "|     P2|              244970|\n",
            "|     P3|              245123|\n",
            "+-------+--------------------+\n",
            "\n",
            "Pivotage sur la colonne _partID\n",
            "+-----------+--------+---------+---------+---------+\n",
            "|n          |P0      |P1       |P2       |P3       |\n",
            "+-----------+--------+---------+---------+---------+\n",
            "|100000016:5|NULL    |P1_190173|NULL     |NULL     |\n",
            "|100000230:5|NULL    |NULL     |P2_87504 |NULL     |\n",
            "|100000762:1|NULL    |NULL     |P2_200682|NULL     |\n",
            "|100000821:0|NULL    |NULL     |P2_140891|P3_126795|\n",
            "|100001188:4|NULL    |P1_110483|NULL     |NULL     |\n",
            "|100001275:4|NULL    |NULL     |NULL     |P3_80839 |\n",
            "|100001309:3|NULL    |NULL     |NULL     |P3_64454 |\n",
            "|100001392:5|NULL    |NULL     |P2_96721 |NULL     |\n",
            "|100001590:3|P0_30009|NULL     |NULL     |NULL     |\n",
            "|100001763:3|NULL    |NULL     |P2_168205|NULL     |\n",
            "+-----------+--------+---------+---------+---------+\n",
            "only showing top 10 rows\n",
            "\n",
            "Table Comp edges\n",
            "+-----------+---------+---------+\n",
            "|n          |from_comp|to_comp  |\n",
            "+-----------+---------+---------+\n",
            "|100001082:2|P0_216991|P1_93566 |\n",
            "|100001188:4|P1_110483|P1_110483|\n",
            "|100002562:2|P0_163253|P0_163253|\n",
            "|100003493:0|P0_150816|P0_150816|\n",
            "|100004008:5|P0_226305|P1_204764|\n",
            "|100004223:5|P1_44119 |P1_44119 |\n",
            "|100004409:1|P0_25568 |P0_25568 |\n",
            "|100005135:2|P0_172687|P1_172926|\n",
            "|100005515:1|P1_210801|P1_210801|\n",
            "|100006319:1|P0_215464|P0_215464|\n",
            "+-----------+---------+---------+\n",
            "only showing top 10 rows\n",
            "\n",
            "Global edges comp\n",
            "+---------+-----------+\n",
            "|comp     |global_comp|\n",
            "+---------+-----------+\n",
            "|P0_216991|0          |\n",
            "|P1_110483|1          |\n",
            "|P0_163253|2          |\n",
            "|P0_150816|3          |\n",
            "|P0_226305|4          |\n",
            "|P1_44119 |5          |\n",
            "|P0_25568 |6          |\n",
            "|P0_172687|7          |\n",
            "|P1_210801|8          |\n",
            "|P0_215464|9          |\n",
            "+---------+-----------+\n",
            "only showing top 10 rows\n",
            "\n",
            "composantes global unifiée:\n",
            "+-----------+-----------+\n",
            "|n          |global_comp|\n",
            "+-----------+-----------+\n",
            "|19699807:5 |80044      |\n",
            "|38216086:4 |155877     |\n",
            "|112189222:3|7039       |\n",
            "|80790082:5 |7039       |\n",
            "|55978740:0 |7039       |\n",
            "|104838239:1|7039       |\n",
            "|79404414:4 |7039       |\n",
            "|116295776:5|7039       |\n",
            "|86924687:0 |7039       |\n",
            "|58837757:2 |7039       |\n",
            "+-----------+-----------+\n",
            "only showing top 10 rows\n",
            "\n",
            "+-----------+-----------+\n",
            "|          n|global_comp|\n",
            "+-----------+-----------+\n",
            "| 19699807:5|      80044|\n",
            "| 38216086:4|     155877|\n",
            "|112189222:3|       7039|\n",
            "| 80790082:5|       7039|\n",
            "| 55978740:0|       7039|\n",
            "|104838239:1|       7039|\n",
            "| 79404414:4|       7039|\n",
            "|116295776:5|       7039|\n",
            "| 86924687:0|       7039|\n",
            "| 58837757:2|       7039|\n",
            "| 17857719:1|       7039|\n",
            "| 70108934:0|       7039|\n",
            "| 17857719:0|       7039|\n",
            "| 76220916:5|       7039|\n",
            "| 76802081:5|       7039|\n",
            "|128385058:4|       7039|\n",
            "|138310404:1|       7039|\n",
            "| 32048035:2|       7039|\n",
            "| 40107641:0|       7039|\n",
            "| 40107641:2|       7039|\n",
            "+-----------+-----------+\n",
            "only showing top 20 rows\n",
            "\n",
            "\n",
            "Le temps pris: 740.3148777484894 secondes\n"
          ]
        }
      ],
      "source": [
        "results_ = []\n",
        "times_ = []\n",
        "\n",
        "for nb_partitions in range(2, 5):\n",
        "    print(f\"\\nRésulats et temps de calcul pour nb_partitions = {nb_partitions}:\\n\")\n",
        "\n",
        "    result_df_, elapsed_time_ = calculate_and_measure_time(g1M.select(\"s\", \"d\"), nb_partitions=nb_partitions, v=True)\n",
        "\n",
        "    # Append results and times\n",
        "    results_.append(result_df_)\n",
        "    times_.append(elapsed_time_)\n",
        "\n",
        "    # Display the results and time\n",
        "    result_df_.show()\n",
        "    print(f\"\\nLe temps pris: {elapsed_time_} secondes\")"
      ]
    },
    {
      "cell_type": "code",
      "execution_count": 69,
      "metadata": {
        "colab": {
          "base_uri": "https://localhost:8080/",
          "height": 472
        },
        "id": "SOZgt0ORHfEi",
        "outputId": "86f82d20-5936-45fc-d2fe-eeb3b184cbdc"
      },
      "outputs": [
        {
          "data": {
            "image/png": "[encoded data removed]",
            "text/plain": [
              "<Figure size 640x480 with 1 Axes>"
            ]
          },
          "metadata": {},
          "output_type": "display_data"
        }
      ],
      "source": [
        "# On plot les résultats\n",
        "import matplotlib.pyplot as plt\n",
        "\n",
        "nb_partitions_values = list(range(2, 5))\n",
        "\n",
        "plt.plot(nb_partitions_values, times_, marker='o', linestyle='-')\n",
        "plt.title('Temps de calcul par nb_partitions')\n",
        "plt.xlabel('nb_partitions')\n",
        "plt.ylabel('Temps de calcul (secondes)')\n",
        "plt.grid(True)\n",
        "plt.show()"
      ]
    },
    {
      "cell_type": "markdown",
      "metadata": {
        "id": "TyalnhpwuJr9"
      },
      "source": [
        "## Choosing the minimum for the component number"
      ]
    },
    {
      "cell_type": "code",
      "execution_count": 1,
      "metadata": {
        "id": "4nzWFq-NwGDc"
      },
      "outputs": [],
      "source": [
        "# fonction principale\n",
        "def calculer_composantes_graphe_numerote(df, v=False):\n",
        "    df_composantes_pn = calculate_components_partitioned(df)\n",
        "    df_composantes_pn_nmin = calculate_min_n(df_composantes_pn)\n",
        "    df_composantes_pn = merge_min_n(df_composantes_pn, df_composantes_pn_nmin, v)\n",
        "    df_composantes_pn = find_joins(df_composantes_pn, v)\n",
        "\n",
        "    return df_composantes_pn\n",
        "\n",
        "def numeroter_noeuds(df, v=False):\n",
        "  df_s = df.selectExpr(\"s as n\")\n",
        "  df_d = df.selectExpr(\"d as n\")\n",
        "  df_n = df_s.unionByName(df_d, allowMissingColumns=True).distinct()\n",
        "\n",
        "  windowSpec = Window.orderBy(col(\"n\"))\n",
        "\n",
        "  df_n = df_n.withColumn(\"Rank\", f.rank().over(windowSpec))\n",
        "  df_ns = df.alias(\"t1\").join(df_n.alias(\"t2\"), col(\"t1.s\") == col(\"t2.n\"), \"left_outer\")\\\n",
        "            .select(col(\"Rank\").alias(\"s\"), col(\"d\"))\n",
        "  df_ns_nd = df_ns.alias(\"t1\").join(df_n.alias(\"t2\"), col(\"t1.d\") == col(\"t2.n\"), \"left_outer\")\\\n",
        "            .select(col(\"s\").cast(\"string\"), col(\"Rank\").alias(\"d\").cast(\"string\"))\n",
        "\n",
        "  if v:\n",
        "    df_ns_nd.show(10, False)\n",
        "\n",
        "  return df_ns_nd\n",
        "\n",
        "def calculate_components_partitioned(df):\n",
        "    nom_attributs = ['_partID', 'n', 'comp']\n",
        "    df_composantes_pn = df.rdd.mapPartitionsWithIndex(calculer_composantes).toDF(nom_attributs)\n",
        "    return df_composantes_pn\n",
        "\n",
        "def calculate_min_n(df_composantes_pn):\n",
        "    df_composantes_pn_nmin = df_composantes_pn.groupBy(col(\"_partID\"), col(\"comp\")) \\\n",
        "        .agg(f.min(col(\"n\")).alias(\"nmin\"))\n",
        "    return df_composantes_pn_nmin\n",
        "\n",
        "def merge_min_n(df_composantes_pn, df_composantes_pn_nmin, v=False):\n",
        "    df_composantes_pn = df_composantes_pn.alias(\"t1\") \\\n",
        "        .join(df_composantes_pn_nmin.alias(\"t2\"), \\\n",
        "              (col(\"t1._partID\") == col(\"t2._partID\")) & (col(\"t1.comp\") == col(\"t2.comp\")), \\\n",
        "              \"left_outer\") \\\n",
        "        .select(col(\"t1._partID\"), \"t1.n\", col(\"t1.comp\"), \"t2.nmin\")\n",
        "\n",
        "    if v:\n",
        "        print(\"Nombre de composantes différentes dans chaque partition\")\n",
        "        df_composantes_pn.groupby(\"_partID\").agg(f.countDistinct(col(\"comp\"))).select(\"*\").show()\n",
        "        df_composantes_pn.show(10, False)\n",
        "\n",
        "    return df_composantes_pn\n",
        "\n",
        "def find_joins(df_composantes_pn, v=False):\n",
        "    ok = False\n",
        "    while not ok:\n",
        "        df_joins = df_composantes_pn.alias(\"t1\").join(df_composantes_pn.alias(\"t2\"), \\\n",
        "                                                      (col(\"t1.n\") == col(\"t2.n\")) & \\\n",
        "                                                      (col(\"t1._partID\") != col(\"t2._partID\")) & \\\n",
        "                                                      (col(\"t1.nmin\") != col(\"t2.nmin\")), \"inner\") \\\n",
        "            .select(col(\"t1.n\"), \\\n",
        "                    f.when(col(\"t1.nmin\") < col(\"t2.nmin\"), col(\"t1._partID\")) \\\n",
        "                    .otherwise(col(\"t2._partID\")).alias(\"min_nmin_partID\"), \\\n",
        "                    f.when(col(\"t1.nmin\") < col(\"t2.nmin\"), col(\"t1.nmin\")) \\\n",
        "                    .otherwise(col(\"t2.nmin\")).alias(\"min_nmin\"), \\\n",
        "                    f.when(col(\"t1.nmin\") < col(\"t2.nmin\"), col(\"t2._partID\")) \\\n",
        "                    .otherwise(col(\"t1._partID\")).alias(\"max_nmin_partID\"), \\\n",
        "                    f.when(col(\"t1.nmin\") < col(\"t2.nmin\"), col(\"t2.nmin\")) \\\n",
        "                    .otherwise(col(\"t1.nmin\")).alias(\"max_nmin\")).distinct()\n",
        "\n",
        "        if v:\n",
        "            print(\"Les points joins entre deux partitions\")\n",
        "            df_joins.show(10, False)\n",
        "        df_joins.selectExpr(\"count (*) nb_joins\").show()\n",
        "        if df_joins.isEmpty():\n",
        "            break\n",
        "\n",
        "        df_composantes_pn = update_composantes_pn(df_composantes_pn, df_joins)\n",
        "\n",
        "    return df_composantes_pn\n",
        "\n",
        "def update_composantes_pn(df_composantes_pn, df_joins):\n",
        "    df_composantes_pn = df_composantes_pn.alias(\"t1\") \\\n",
        "        .join(df_joins.alias(\"t2\"), \\\n",
        "              (col(\"t1._partID\") == col(\"t2.max_nmin_partID\")) & \\\n",
        "              (col(\"t1.n\") == col(\"t2.n\")) & \\\n",
        "              (col(\"t1.nmin\") == col(\"t2.max_nmin\")), \"left_outer\") \\\n",
        "        .select(col(\"t1._partID\"), col(\"t1.n\"), col(\"t1.nmin\"), col(\"t2.min_nmin\")) \\\n",
        "        .groupBy(col(\"_partID\"), col(\"n\"), col(\"t1.nmin\")) \\\n",
        "        .agg(f.min(col(\"min_nmin\")).alias(\"min_nmin_gl\")) \\\n",
        "        .withColumn(\"min_nmin_gl\", f.when(col(\"min_nmin_gl\").isNull(), col(\"nmin\")) \\\n",
        "                                    .otherwise(col(\"min_nmin_gl\"))) \\\n",
        "        .select(col(\"_partID\"), col(\"n\"), col(\"min_nmin_gl\").alias(\"nmin\"))\n",
        "    return df_composantes_pn"
      ]
    },
    {
      "cell_type": "code",
      "execution_count": 18,
      "metadata": {
        "colab": {
          "base_uri": "https://localhost:8080/"
        },
        "id": "13Xv_4AI6DtX",
        "outputId": "107e5e06-7dbf-42bf-b1b2-21b2dd7de904"
      },
      "outputs": [
        {
          "name": "stdout",
          "output_type": "stream",
          "text": [
            "Merging nmin\n",
            "+--------+\n",
            "|nb_joins|\n",
            "+--------+\n",
            "|   11226|\n",
            "+--------+\n",
            "\n",
            "Fin Merging nmin\n",
            "Merging nmin\n",
            "+--------+\n",
            "|nb_joins|\n",
            "+--------+\n",
            "|       0|\n",
            "+--------+\n",
            "\n"
          ]
        }
      ],
      "source": [
        "nb_partitions = 4\n",
        "g10K_n = numeroter_noeuds(g10K, False).repartition(nb_partitions)\n",
        "\n",
        "df_gl = calculer_composantes_graphe_numerote(g10K_n, False)"
      ]
    },
    {
      "cell_type": "code",
      "execution_count": 22,
      "metadata": {
        "colab": {
          "base_uri": "https://localhost:8080/",
          "height": 344
        },
        "id": "ugn7Ub9T6_Th",
        "outputId": "15027162-5a91-453f-a515-e37e39c2f98a"
      },
      "outputs": [
        {
          "data": {
            "application/vnd.google.colaboratory.module+javascript": "\n      import \"https://ssl.gstatic.com/colaboratory/data_table/881c4a0d49046431/data_table.js\";\n\n      const table = window.createDataTable({\n        data: [[\"P0\",\n\"1\",\n\"1\"],\n [\"P0\",\n\"100\",\n\"100\"],\n [\"P0\",\n\"1000\",\n\"1000\"],\n [\"P0\",\n\"10001\",\n\"10001\"],\n [\"P0\",\n\"10004\",\n\"10004\"],\n [\"P0\",\n\"10006\",\n\"10006\"],\n [\"P0\",\n\"10008\",\n\"10008\"],\n [\"P0\",\n\"10009\",\n\"10009\"],\n [\"P0\",\n\"10011\",\n\"10011\"],\n [\"P0\",\n\"10012\",\n\"10006\"],\n [\"P0\",\n\"10015\",\n\"10015\"],\n [\"P0\",\n\"10017\",\n\"10017\"],\n [\"P0\",\n\"10021\",\n\"10021\"],\n [\"P0\",\n\"10022\",\n\"10022\"],\n [\"P0\",\n\"10023\",\n\"10023\"],\n [\"P0\",\n\"10024\",\n\"10024\"],\n [\"P0\",\n\"1003\",\n\"1003\"],\n [\"P0\",\n\"10032\",\n\"10032\"],\n [\"P0\",\n\"10033\",\n\"10033\"],\n [\"P0\",\n\"10034\",\n\"10034\"],\n [\"P0\",\n\"10035\",\n\"10035\"],\n [\"P0\",\n\"10038\",\n\"10038\"],\n [\"P0\",\n\"10040\",\n\"10040\"],\n [\"P0\",\n\"10042\",\n\"10042\"],\n [\"P0\",\n\"10043\",\n\"10043\"],\n [\"P0\",\n\"10044\",\n\"10044\"],\n [\"P0\",\n\"10046\",\n\"10046\"],\n [\"P0\",\n\"10047\",\n\"10047\"],\n [\"P0\",\n\"10048\",\n\"10048\"],\n [\"P0\",\n\"1005\",\n\"1005\"],\n [\"P0\",\n\"10051\",\n\"10051\"],\n [\"P0\",\n\"1006\",\n\"1006\"],\n [\"P0\",\n\"10061\",\n\"10061\"],\n [\"P0\",\n\"10069\",\n\"10069\"],\n [\"P0\",\n\"10074\",\n\"10074\"],\n [\"P0\",\n\"10077\",\n\"10077\"],\n [\"P0\",\n\"10078\",\n\"10078\"],\n [\"P0\",\n\"10081\",\n\"10081\"],\n [\"P0\",\n\"10082\",\n\"10082\"],\n [\"P0\",\n\"10086\",\n\"10086\"],\n [\"P0\",\n\"10087\",\n\"10087\"],\n [\"P0\",\n\"10089\",\n\"10\"],\n [\"P0\",\n\"10093\",\n\"10093\"],\n [\"P0\",\n\"10095\",\n\"10095\"],\n [\"P0\",\n\"10096\",\n\"10096\"],\n [\"P0\",\n\"10100\",\n\"10052\"],\n [\"P0\",\n\"10103\",\n\"10103\"],\n [\"P0\",\n\"10104\",\n\"10104\"],\n [\"P0\",\n\"1011\",\n\"1011\"],\n [\"P0\",\n\"10110\",\n\"10110\"],\n [\"P0\",\n\"10111\",\n\"10111\"],\n [\"P0\",\n\"10114\",\n\"10114\"],\n [\"P0\",\n\"10116\",\n\"10008\"],\n [\"P0\",\n\"10117\",\n\"10117\"],\n [\"P0\",\n\"10118\",\n\"10118\"],\n [\"P0\",\n\"10119\",\n\"10119\"],\n [\"P0\",\n\"10122\",\n\"10122\"],\n [\"P0\",\n\"10128\",\n\"10128\"],\n [\"P0\",\n\"10132\",\n\"10132\"],\n [\"P0\",\n\"10134\",\n\"10134\"],\n [\"P0\",\n\"10136\",\n\"10136\"],\n [\"P0\",\n\"10137\",\n\"10137\"],\n [\"P0\",\n\"10143\",\n\"10143\"],\n [\"P0\",\n\"10145\",\n\"10074\"],\n [\"P0\",\n\"10151\",\n\"10151\"],\n [\"P0\",\n\"10152\",\n\"10152\"],\n [\"P0\",\n\"10153\",\n\"10153\"],\n [\"P0\",\n\"10154\",\n\"10154\"],\n [\"P0\",\n\"10157\",\n\"10157\"],\n [\"P0\",\n\"10159\",\n\"10159\"],\n [\"P0\",\n\"1016\",\n\"1016\"],\n [\"P0\",\n\"10163\",\n\"10163\"],\n [\"P0\",\n\"10171\",\n\"10171\"],\n [\"P0\",\n\"10173\",\n\"10032\"],\n [\"P0\",\n\"10174\",\n\"10111\"],\n [\"P0\",\n\"10175\",\n\"10175\"],\n [\"P0\",\n\"10176\",\n\"10176\"],\n [\"P0\",\n\"10179\",\n\"10166\"],\n [\"P0\",\n\"10182\",\n\"10180\"],\n [\"P0\",\n\"10183\",\n\"10183\"],\n [\"P0\",\n\"10188\",\n\"10188\"],\n [\"P0\",\n\"10189\",\n\"10189\"],\n [\"P0\",\n\"1019\",\n\"1019\"],\n [\"P0\",\n\"10192\",\n\"10192\"],\n [\"P0\",\n\"10194\",\n\"10194\"],\n [\"P0\",\n\"10195\",\n\"10003\"],\n [\"P0\",\n\"10197\",\n\"10051\"],\n [\"P0\",\n\"10198\",\n\"10198\"],\n [\"P0\",\n\"102\",\n\"102\"],\n [\"P0\",\n\"10201\",\n\"10201\"],\n [\"P0\",\n\"10203\",\n\"10203\"],\n [\"P0\",\n\"10205\",\n\"10205\"],\n [\"P0\",\n\"10207\",\n\"10207\"],\n [\"P0\",\n\"10208\",\n\"10208\"],\n [\"P0\",\n\"10209\",\n\"10209\"],\n [\"P0\",\n\"1021\",\n\"1021\"],\n [\"P0\",\n\"10210\",\n\"10210\"],\n [\"P0\",\n\"10216\",\n\"10216\"],\n [\"P0\",\n\"10217\",\n\"10217\"],\n [\"P0\",\n\"10219\",\n\"10219\"]],\n        columns: [[\"string\", \"_partID\"], [\"string\", \"n\"], [\"string\", \"nmin\"]],\n        columnOptions: [],\n        rowsPerPage: 10,\n        helpUrl: \"https://colab.research.google.com/notebooks/data_table.ipynb\",\n        suppressOutputScrolling: true,\n        minimumWidth: undefined,\n      });\n\n      function appendQuickchartButton(parentElement) {\n        let quickchartButtonContainerElement = document.createElement('div');\n        quickchartButtonContainerElement.innerHTML = `\n<div id=\"df-0acf04fe-e431-4d5a-b710-16557a8243c2\">\n  <button class=\"colab-df-quickchart\" onclick=\"quickchart('df-0acf04fe-e431-4d5a-b710-16557a8243c2')\"\n            title=\"Suggest charts\"\n            style=\"display:none;\">\n    \n<svg xmlns=\"http://www.w3.org/2000/svg\" height=\"24px\"viewBox=\"0 0 24 24\"\n     width=\"24px\">\n    <g>\n        <path d=\"M19 3H5c-1.1 0-2 .9-2 2v14c0 1.1.9 2 2 2h14c1.1 0 2-.9 2-2V5c0-1.1-.9-2-2-2zM9 17H7v-7h2v7zm4 0h-2V7h2v10zm4 0h-2v-4h2v4z\"/>\n    </g>\n</svg>\n  </button>\n  \n<style>\n  .colab-df-quickchart {\n      --bg-color: #E8F0FE;\n      --fill-color: #1967D2;\n      --hover-bg-color: #E2EBFA;\n      --hover-fill-color: #174EA6;\n      --disabled-fill-color: #AAA;\n      --disabled-bg-color: #DDD;\n  }\n\n  [theme=dark] .colab-df-quickchart {\n      --bg-color: #3B4455;\n      --fill-color: #D2E3FC;\n      --hover-bg-color: #434B5C;\n      --hover-fill-color: #FFFFFF;\n      --disabled-bg-color: #3B4455;\n      --disabled-fill-color: #666;\n  }\n\n  .colab-df-quickchart {\n    background-color: var(--bg-color);\n    border: none;\n    border-radius: 50%;\n    cursor: pointer;\n    display: none;\n    fill: var(--fill-color);\n    height: 32px;\n    padding: 0;\n    width: 32px;\n  }\n\n  .colab-df-quickchart:hover {\n    background-color: var(--hover-bg-color);\n    box-shadow: 0 1px 2px rgba(60, 64, 67, 0.3), 0 1px 3px 1px rgba(60, 64, 67, 0.15);\n    fill: var(--button-hover-fill-color);\n  }\n\n  .colab-df-quickchart-complete:disabled,\n  .colab-df-quickchart-complete:disabled:hover {\n    background-color: var(--disabled-bg-color);\n    fill: var(--disabled-fill-color);\n    box-shadow: none;\n  }\n\n  .colab-df-spinner {\n    border: 2px solid var(--fill-color);\n    border-color: transparent;\n    border-bottom-color: var(--fill-color);\n    animation:\n      spin 1s steps(1) infinite;\n  }\n\n  @keyframes spin {\n    0% {\n      border-color: transparent;\n      border-bottom-color: var(--fill-color);\n      border-left-color: var(--fill-color);\n    }\n    20% {\n      border-color: transparent;\n      border-left-color: var(--fill-color);\n      border-top-color: var(--fill-color);\n    }\n    30% {\n      border-color: transparent;\n      border-left-color: var(--fill-color);\n      border-top-color: var(--fill-color);\n      border-right-color: var(--fill-color);\n    }\n    40% {\n      border-color: transparent;\n      border-right-color: var(--fill-color);\n      border-top-color: var(--fill-color);\n    }\n    60% {\n      border-color: transparent;\n      border-right-color: var(--fill-color);\n    }\n    80% {\n      border-color: transparent;\n      border-right-color: var(--fill-color);\n      border-bottom-color: var(--fill-color);\n    }\n    90% {\n      border-color: transparent;\n      border-bottom-color: var(--fill-color);\n    }\n  }\n</style>\n\n  <script>\n    async function quickchart(key) {\n      const quickchartButtonEl =\n        document.querySelector('#' + key + ' button');\n      quickchartButtonEl.disabled = true;  // To prevent multiple clicks.\n      quickchartButtonEl.classList.add('colab-df-spinner');\n      try {\n        const charts = await google.colab.kernel.invokeFunction(\n            'suggestCharts', [key], {});\n      } catch (error) {\n        console.error('Error during call to suggestCharts:', error);\n      }\n      quickchartButtonEl.classList.remove('colab-df-spinner');\n      quickchartButtonEl.classList.add('colab-df-quickchart-complete');\n    }\n    (() => {\n      let quickchartButtonEl =\n        document.querySelector('#df-0acf04fe-e431-4d5a-b710-16557a8243c2 button');\n      quickchartButtonEl.style.display =\n        google.colab.kernel.accessAllowed ? 'block' : 'none';\n    })();\n  </script>\n</div>`;\n        parentElement.appendChild(quickchartButtonContainerElement);\n      }\n\n      appendQuickchartButton(table);\n    ",
            "text/html": [
              "<div>\n",
              "<style scoped>\n",
              "    .dataframe tbody tr th:only-of-type {\n",
              "        vertical-align: middle;\n",
              "    }\n",
              "\n",
              "    .dataframe tbody tr th {\n",
              "        vertical-align: top;\n",
              "    }\n",
              "\n",
              "    .dataframe thead th {\n",
              "        text-align: right;\n",
              "    }\n",
              "</style>\n",
              "<table border=\"1\" class=\"dataframe\">\n",
              "  <thead>\n",
              "    <tr style=\"text-align: right;\">\n",
              "      <th></th>\n",
              "      <th>_partID</th>\n",
              "      <th>n</th>\n",
              "      <th>nmin</th>\n",
              "    </tr>\n",
              "  </thead>\n",
              "  <tbody>\n",
              "    <tr>\n",
              "      <th>0</th>\n",
              "      <td>P0</td>\n",
              "      <td>1</td>\n",
              "      <td>1</td>\n",
              "    </tr>\n",
              "    <tr>\n",
              "      <th>1</th>\n",
              "      <td>P0</td>\n",
              "      <td>100</td>\n",
              "      <td>100</td>\n",
              "    </tr>\n",
              "    <tr>\n",
              "      <th>2</th>\n",
              "      <td>P0</td>\n",
              "      <td>1000</td>\n",
              "      <td>1000</td>\n",
              "    </tr>\n",
              "    <tr>\n",
              "      <th>3</th>\n",
              "      <td>P0</td>\n",
              "      <td>10001</td>\n",
              "      <td>10001</td>\n",
              "    </tr>\n",
              "    <tr>\n",
              "      <th>4</th>\n",
              "      <td>P0</td>\n",
              "      <td>10004</td>\n",
              "      <td>10004</td>\n",
              "    </tr>\n",
              "    <tr>\n",
              "      <th>...</th>\n",
              "      <td>...</td>\n",
              "      <td>...</td>\n",
              "      <td>...</td>\n",
              "    </tr>\n",
              "    <tr>\n",
              "      <th>95</th>\n",
              "      <td>P0</td>\n",
              "      <td>1021</td>\n",
              "      <td>1021</td>\n",
              "    </tr>\n",
              "    <tr>\n",
              "      <th>96</th>\n",
              "      <td>P0</td>\n",
              "      <td>10210</td>\n",
              "      <td>10210</td>\n",
              "    </tr>\n",
              "    <tr>\n",
              "      <th>97</th>\n",
              "      <td>P0</td>\n",
              "      <td>10216</td>\n",
              "      <td>10216</td>\n",
              "    </tr>\n",
              "    <tr>\n",
              "      <th>98</th>\n",
              "      <td>P0</td>\n",
              "      <td>10217</td>\n",
              "      <td>10217</td>\n",
              "    </tr>\n",
              "    <tr>\n",
              "      <th>99</th>\n",
              "      <td>P0</td>\n",
              "      <td>10219</td>\n",
              "      <td>10219</td>\n",
              "    </tr>\n",
              "  </tbody>\n",
              "</table>\n",
              "<p>100 rows × 3 columns</p>\n",
              "</div>"
            ],
            "text/plain": [
              "<google.colab.data_table.DataTable object>"
            ]
          },
          "execution_count": 22,
          "metadata": {},
          "output_type": "execute_result"
        }
      ],
      "source": [
        "display(df_gl)"
      ]
    },
    {
      "cell_type": "code",
      "execution_count": null,
      "metadata": {
        "id": "WE2Q7kgG_614"
      },
      "outputs": [],
      "source": []
    }
  ],
  "metadata": {
    "colab": {
      "provenance": [],
      "toc_visible": true
    },
    "kernelspec": {
      "display_name": "Python 3",
      "name": "python3"
    },
    "language_info": {
      "name": "python"
    }
  },
  "nbformat": 4,
  "nbformat_minor": 0
}
